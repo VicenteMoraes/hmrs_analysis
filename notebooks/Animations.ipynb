{
 "cells": [
  {
   "cell_type": "code",
   "execution_count": 2,
   "metadata": {},
   "outputs": [],
   "source": [
    "import matplotlib.pyplot as plt\n",
    "import matplotlib.animation as animation\n",
    "import numpy as np\n",
    "import re"
   ]
  },
  {
   "cell_type": "code",
   "execution_count": 3,
   "metadata": {},
   "outputs": [
    {
     "data": {
      "text/plain": [
       "['19.1333334446,[debug],turtlebot1,simulation,robot-pose,x=-19.02;y=17.99;yaw=-1.38\\n',\n",
       " '19.1333334446,[debug],turtlebot1,simulation,robot-pose,x=-19.02;y=17.99;yaw=-1.38\\n',\n",
       " '21.5833332539,[debug],turtlebot2,simulation,robot-pose,x=-32.89;y=33.97;yaw=-3.10\\n',\n",
       " '21.5833332539,[debug],turtlebot2,simulation,robot-pose,x=-32.89;y=33.97;yaw=-3.10\\n',\n",
       " '21.7666666508,[debug],turtlebot3,simulation,robot-pose,x=-11.46;y=17.82;yaw=-1.25\\n',\n",
       " '21.7666666508,[debug],turtlebot3,simulation,robot-pose,x=-11.46;y=17.82;yaw=-1.25\\n',\n",
       " '21.8833334446,[debug],turtlebot4,simulation,robot-pose,x=-20.97;y=17.08;yaw=-1.53\\n',\n",
       " '21.8833334446,[debug],turtlebot4,simulation,robot-pose,x=-20.97;y=17.08;yaw=-1.53\\n',\n",
       " '22.0333333015,[debug],turtlebot5,simulation,robot-pose,x=-40.39;y=25.23;yaw=0.34\\n',\n",
       " '22.0333333015,[debug],turtlebot5,simulation,robot-pose,x=-40.39;y=25.23;yaw=0.34\\n',\n",
       " '34.1333334446,[debug],turtlebot1,simulation,robot-pose,x=-19.01;y=17.99;yaw=-1.38\\n',\n",
       " '34.1333334446,[debug],turtlebot1,simulation,robot-pose,x=-19.01;y=17.99;yaw=-1.38\\n',\n",
       " '36.5833332539,[debug],turtlebot2,simulation,robot-pose,x=-32.89;y=33.97;yaw=-3.10\\n',\n",
       " '36.5833332539,[debug],turtlebot2,simulation,robot-pose,x=-32.89;y=33.97;yaw=-3.10\\n',\n",
       " '36.7666666508,[debug],turtlebot3,simulation,robot-pose,x=-11.46;y=17.82;yaw=-1.25\\n',\n",
       " '36.7666666508,[debug],turtlebot3,simulation,robot-pose,x=-11.46;y=17.82;yaw=-1.25\\n',\n",
       " '36.8833334446,[debug],turtlebot4,simulation,robot-pose,x=-20.94;y=16.44;yaw=-3.10\\n',\n",
       " '36.8833334446,[debug],turtlebot4,simulation,robot-pose,x=-20.94;y=16.44;yaw=-3.10\\n',\n",
       " '37.0333333015,[debug],turtlebot5,simulation,robot-pose,x=-40.39;y=25.23;yaw=0.33\\n',\n",
       " '37.0333333015,[debug],turtlebot5,simulation,robot-pose,x=-40.39;y=25.23;yaw=0.33\\n',\n",
       " '49.1333334446,[debug],turtlebot1,simulation,robot-pose,x=-19.01;y=17.99;yaw=-1.38\\n',\n",
       " '49.1333334446,[debug],turtlebot1,simulation,robot-pose,x=-19.01;y=17.99;yaw=-1.38\\n',\n",
       " '51.5833332539,[debug],turtlebot2,simulation,robot-pose,x=-32.89;y=33.97;yaw=-3.10\\n',\n",
       " '51.5833332539,[debug],turtlebot2,simulation,robot-pose,x=-32.89;y=33.97;yaw=-3.10\\n',\n",
       " '51.7666666508,[debug],turtlebot3,simulation,robot-pose,x=-11.46;y=17.82;yaw=-1.25\\n',\n",
       " '51.7666666508,[debug],turtlebot3,simulation,robot-pose,x=-11.46;y=17.82;yaw=-1.25\\n',\n",
       " '51.8833334446,[debug],turtlebot4,simulation,robot-pose,x=-22.65;y=15.96;yaw=3.03\\n',\n",
       " '51.8833334446,[debug],turtlebot4,simulation,robot-pose,x=-22.65;y=15.96;yaw=3.03\\n',\n",
       " '52.0333333015,[debug],turtlebot5,simulation,robot-pose,x=-40.39;y=25.23;yaw=0.33\\n',\n",
       " '52.0333333015,[debug],turtlebot5,simulation,robot-pose,x=-40.39;y=25.23;yaw=0.33\\n',\n",
       " '64.1333334446,[debug],turtlebot1,simulation,robot-pose,x=-19.01;y=17.99;yaw=-1.38\\n',\n",
       " '64.1333334446,[debug],turtlebot1,simulation,robot-pose,x=-19.01;y=17.99;yaw=-1.38\\n',\n",
       " '66.5833332539,[debug],turtlebot2,simulation,robot-pose,x=-32.89;y=33.97;yaw=-3.10\\n',\n",
       " '66.5833332539,[debug],turtlebot2,simulation,robot-pose,x=-32.89;y=33.97;yaw=-3.10\\n',\n",
       " '66.7666666508,[debug],turtlebot3,simulation,robot-pose,x=-11.46;y=17.82;yaw=-1.25\\n',\n",
       " '66.7666666508,[debug],turtlebot3,simulation,robot-pose,x=-11.46;y=17.82;yaw=-1.25\\n',\n",
       " '66.8833334446,[debug],turtlebot4,simulation,robot-pose,x=-25.13;y=15.94;yaw=-3.13\\n',\n",
       " '66.8833334446,[debug],turtlebot4,simulation,robot-pose,x=-25.13;y=15.94;yaw=-3.13\\n',\n",
       " '67.0333333015,[debug],turtlebot5,simulation,robot-pose,x=-40.39;y=25.23;yaw=0.33\\n',\n",
       " '67.0333333015,[debug],turtlebot5,simulation,robot-pose,x=-40.39;y=25.23;yaw=0.33\\n',\n",
       " '79.1333334446,[debug],turtlebot1,simulation,robot-pose,x=-19.01;y=17.99;yaw=-1.38\\n',\n",
       " '79.1333334446,[debug],turtlebot1,simulation,robot-pose,x=-19.01;y=17.99;yaw=-1.38\\n',\n",
       " '81.5833332539,[debug],turtlebot2,simulation,robot-pose,x=-32.90;y=33.97;yaw=-3.10\\n',\n",
       " '81.5833332539,[debug],turtlebot2,simulation,robot-pose,x=-32.90;y=33.97;yaw=-3.10\\n',\n",
       " '81.7666666508,[debug],turtlebot3,simulation,robot-pose,x=-11.46;y=17.82;yaw=-1.25\\n',\n",
       " '81.7666666508,[debug],turtlebot3,simulation,robot-pose,x=-11.46;y=17.82;yaw=-1.25\\n',\n",
       " '81.8833334446,[debug],turtlebot4,simulation,robot-pose,x=-28.00;y=16.49;yaw=-3.08\\n',\n",
       " '81.8833334446,[debug],turtlebot4,simulation,robot-pose,x=-28.00;y=16.49;yaw=-3.08\\n',\n",
       " '82.0333333015,[debug],turtlebot5,simulation,robot-pose,x=-40.39;y=25.23;yaw=0.33\\n',\n",
       " '82.0333333015,[debug],turtlebot5,simulation,robot-pose,x=-40.39;y=25.23;yaw=0.33\\n',\n",
       " '94.1333334446,[debug],turtlebot1,simulation,robot-pose,x=-19.01;y=17.99;yaw=-1.38\\n',\n",
       " '94.1333334446,[debug],turtlebot1,simulation,robot-pose,x=-19.01;y=17.99;yaw=-1.38\\n',\n",
       " '96.5833332539,[debug],turtlebot2,simulation,robot-pose,x=-32.90;y=33.97;yaw=-3.10\\n',\n",
       " '96.5833332539,[debug],turtlebot2,simulation,robot-pose,x=-32.90;y=33.97;yaw=-3.10\\n',\n",
       " '96.7666666508,[debug],turtlebot3,simulation,robot-pose,x=-11.46;y=17.82;yaw=-1.25\\n',\n",
       " '96.7666666508,[debug],turtlebot3,simulation,robot-pose,x=-11.46;y=17.82;yaw=-1.25\\n',\n",
       " '96.8833334446,[debug],turtlebot4,simulation,robot-pose,x=-28.39;y=17.41;yaw=1.66\\n',\n",
       " '96.8833334446,[debug],turtlebot4,simulation,robot-pose,x=-28.39;y=17.41;yaw=1.66\\n',\n",
       " '97.0333333015,[debug],turtlebot5,simulation,robot-pose,x=-40.39;y=25.23;yaw=0.33\\n',\n",
       " '97.0333333015,[debug],turtlebot5,simulation,robot-pose,x=-40.39;y=25.23;yaw=0.33\\n',\n",
       " '109.133333445,[debug],turtlebot1,simulation,robot-pose,x=-19.01;y=17.99;yaw=-1.38\\n',\n",
       " '109.133333445,[debug],turtlebot1,simulation,robot-pose,x=-19.01;y=17.99;yaw=-1.38\\n',\n",
       " '111.583333254,[debug],turtlebot2,simulation,robot-pose,x=-32.90;y=33.97;yaw=-3.09\\n',\n",
       " '111.583333254,[debug],turtlebot2,simulation,robot-pose,x=-32.90;y=33.97;yaw=-3.09\\n',\n",
       " '111.766666651,[debug],turtlebot3,simulation,robot-pose,x=-11.46;y=17.82;yaw=-1.25\\n',\n",
       " '111.766666651,[debug],turtlebot3,simulation,robot-pose,x=-11.46;y=17.82;yaw=-1.25\\n',\n",
       " '111.883333445,[debug],turtlebot4,simulation,robot-pose,x=-28.41;y=17.61;yaw=-1.61\\n',\n",
       " '111.883333445,[debug],turtlebot4,simulation,robot-pose,x=-28.41;y=17.61;yaw=-1.61\\n',\n",
       " '112.033333302,[debug],turtlebot5,simulation,robot-pose,x=-40.39;y=25.23;yaw=0.33\\n',\n",
       " '112.033333302,[debug],turtlebot5,simulation,robot-pose,x=-40.39;y=25.23;yaw=0.33\\n',\n",
       " '124.133333445,[debug],turtlebot1,simulation,robot-pose,x=-19.01;y=17.99;yaw=-1.38\\n',\n",
       " '124.133333445,[debug],turtlebot1,simulation,robot-pose,x=-19.01;y=17.99;yaw=-1.38\\n',\n",
       " '126.583333254,[debug],turtlebot2,simulation,robot-pose,x=-32.90;y=33.97;yaw=-3.09\\n',\n",
       " '126.583333254,[debug],turtlebot2,simulation,robot-pose,x=-32.90;y=33.97;yaw=-3.09\\n',\n",
       " '126.766666651,[debug],turtlebot3,simulation,robot-pose,x=-11.46;y=17.82;yaw=-1.25\\n',\n",
       " '126.766666651,[debug],turtlebot3,simulation,robot-pose,x=-11.46;y=17.82;yaw=-1.25\\n',\n",
       " '126.883333445,[debug],turtlebot4,simulation,robot-pose,x=-28.56;y=16.86;yaw=-1.66\\n',\n",
       " '126.883333445,[debug],turtlebot4,simulation,robot-pose,x=-28.56;y=16.86;yaw=-1.66\\n',\n",
       " '127.033333302,[debug],turtlebot5,simulation,robot-pose,x=-40.39;y=25.23;yaw=0.33\\n',\n",
       " '127.033333302,[debug],turtlebot5,simulation,robot-pose,x=-40.39;y=25.23;yaw=0.33\\n',\n",
       " '139.133333445,[debug],turtlebot1,simulation,robot-pose,x=-19.01;y=17.99;yaw=-1.38\\n',\n",
       " '139.133333445,[debug],turtlebot1,simulation,robot-pose,x=-19.01;y=17.99;yaw=-1.38\\n',\n",
       " '141.583333254,[debug],turtlebot2,simulation,robot-pose,x=-32.90;y=33.97;yaw=-3.09\\n',\n",
       " '141.583333254,[debug],turtlebot2,simulation,robot-pose,x=-32.90;y=33.97;yaw=-3.09\\n',\n",
       " '141.766666651,[debug],turtlebot3,simulation,robot-pose,x=-11.46;y=17.82;yaw=-1.25\\n',\n",
       " '141.766666651,[debug],turtlebot3,simulation,robot-pose,x=-11.46;y=17.82;yaw=-1.25\\n',\n",
       " '141.883333445,[debug],turtlebot4,simulation,robot-pose,x=-28.29;y=16.40;yaw=-0.33\\n',\n",
       " '141.883333445,[debug],turtlebot4,simulation,robot-pose,x=-28.29;y=16.40;yaw=-0.33\\n',\n",
       " '142.033333302,[debug],turtlebot5,simulation,robot-pose,x=-40.39;y=25.23;yaw=0.33\\n',\n",
       " '142.033333302,[debug],turtlebot5,simulation,robot-pose,x=-40.39;y=25.23;yaw=0.33\\n',\n",
       " '154.133333445,[debug],turtlebot1,simulation,robot-pose,x=-19.01;y=17.99;yaw=-1.38\\n',\n",
       " '154.133333445,[debug],turtlebot1,simulation,robot-pose,x=-19.01;y=17.99;yaw=-1.38\\n',\n",
       " '156.583333254,[debug],turtlebot2,simulation,robot-pose,x=-32.90;y=33.97;yaw=-3.09\\n',\n",
       " '156.599999905,[debug],turtlebot2,simulation,robot-pose,x=-32.90;y=33.97;yaw=-3.09\\n',\n",
       " '156.766666651,[debug],turtlebot3,simulation,robot-pose,x=-11.46;y=17.82;yaw=-1.25\\n',\n",
       " '156.766666651,[debug],turtlebot3,simulation,robot-pose,x=-11.46;y=17.82;yaw=-1.25\\n',\n",
       " '156.883333445,[debug],turtlebot4,simulation,robot-pose,x=-26.39;y=16.29;yaw=-0.08\\n',\n",
       " '156.883333445,[debug],turtlebot4,simulation,robot-pose,x=-26.39;y=16.29;yaw=-0.08\\n',\n",
       " '157.033333302,[debug],turtlebot5,simulation,robot-pose,x=-40.39;y=25.23;yaw=0.33\\n',\n",
       " '157.033333302,[debug],turtlebot5,simulation,robot-pose,x=-40.39;y=25.23;yaw=0.33\\n',\n",
       " '169.133333445,[debug],turtlebot1,simulation,robot-pose,x=-19.01;y=17.99;yaw=-1.38\\n',\n",
       " '169.133333445,[debug],turtlebot1,simulation,robot-pose,x=-19.01;y=17.99;yaw=-1.38\\n',\n",
       " '171.583333254,[debug],turtlebot2,simulation,robot-pose,x=-32.90;y=33.97;yaw=-3.09\\n',\n",
       " '171.583333254,[debug],turtlebot2,simulation,robot-pose,x=-32.90;y=33.97;yaw=-3.09\\n',\n",
       " '171.766666651,[debug],turtlebot3,simulation,robot-pose,x=-11.46;y=17.82;yaw=-1.25\\n',\n",
       " '171.766666651,[debug],turtlebot3,simulation,robot-pose,x=-11.46;y=17.82;yaw=-1.25\\n',\n",
       " '171.883333445,[debug],turtlebot4,simulation,robot-pose,x=-26.18;y=15.82;yaw=-1.16\\n',\n",
       " '171.883333445,[debug],turtlebot4,simulation,robot-pose,x=-26.18;y=15.82;yaw=-1.16\\n',\n",
       " '172.033333302,[debug],turtlebot5,simulation,robot-pose,x=-40.39;y=25.23;yaw=0.33\\n',\n",
       " '172.033333302,[debug],turtlebot5,simulation,robot-pose,x=-40.39;y=25.23;yaw=0.33\\n',\n",
       " '184.133333445,[debug],turtlebot1,simulation,robot-pose,x=-19.01;y=17.99;yaw=-1.38\\n',\n",
       " '184.133333445,[debug],turtlebot1,simulation,robot-pose,x=-19.01;y=17.99;yaw=-1.38\\n',\n",
       " '186.583333254,[debug],turtlebot2,simulation,robot-pose,x=-32.90;y=33.97;yaw=-3.09\\n',\n",
       " '186.583333254,[debug],turtlebot2,simulation,robot-pose,x=-32.90;y=33.97;yaw=-3.09\\n',\n",
       " '186.766666651,[debug],turtlebot3,simulation,robot-pose,x=-11.46;y=17.82;yaw=-1.25\\n',\n",
       " '186.766666651,[debug],turtlebot3,simulation,robot-pose,x=-11.46;y=17.82;yaw=-1.25\\n',\n",
       " '186.883333445,[debug],turtlebot4,simulation,robot-pose,x=-25.84;y=14.60;yaw=-1.48\\n',\n",
       " '186.883333445,[debug],turtlebot4,simulation,robot-pose,x=-25.84;y=14.60;yaw=-1.48\\n',\n",
       " '187.033333302,[debug],turtlebot5,simulation,robot-pose,x=-40.39;y=25.23;yaw=0.33\\n',\n",
       " '187.033333302,[debug],turtlebot5,simulation,robot-pose,x=-40.39;y=25.23;yaw=0.33\\n',\n",
       " '199.133333445,[debug],turtlebot1,simulation,robot-pose,x=-19.01;y=17.99;yaw=-1.38\\n',\n",
       " '199.133333445,[debug],turtlebot1,simulation,robot-pose,x=-19.01;y=17.99;yaw=-1.38\\n',\n",
       " '201.583333254,[debug],turtlebot2,simulation,robot-pose,x=-32.90;y=33.97;yaw=-3.09\\n',\n",
       " '201.583333254,[debug],turtlebot2,simulation,robot-pose,x=-32.90;y=33.97;yaw=-3.09\\n',\n",
       " '201.766666651,[debug],turtlebot3,simulation,robot-pose,x=-11.46;y=17.82;yaw=-1.25\\n',\n",
       " '201.766666651,[debug],turtlebot3,simulation,robot-pose,x=-11.46;y=17.82;yaw=-1.25\\n',\n",
       " '201.883333445,[debug],turtlebot4,simulation,robot-pose,x=-25.89;y=13.47;yaw=-2.57\\n',\n",
       " '201.883333445,[debug],turtlebot4,simulation,robot-pose,x=-25.89;y=13.47;yaw=-2.57\\n',\n",
       " '202.033333302,[debug],turtlebot5,simulation,robot-pose,x=-40.39;y=25.23;yaw=0.33\\n',\n",
       " '202.033333302,[debug],turtlebot5,simulation,robot-pose,x=-40.39;y=25.23;yaw=0.33\\n',\n",
       " '214.133333445,[debug],turtlebot1,simulation,robot-pose,x=-19.01;y=17.99;yaw=-1.38\\n',\n",
       " '214.133333445,[debug],turtlebot1,simulation,robot-pose,x=-19.01;y=17.99;yaw=-1.38\\n',\n",
       " '216.583333254,[debug],turtlebot2,simulation,robot-pose,x=-32.91;y=33.97;yaw=-3.08\\n',\n",
       " '216.583333254,[debug],turtlebot2,simulation,robot-pose,x=-32.91;y=33.97;yaw=-3.08\\n',\n",
       " '216.766666651,[debug],turtlebot3,simulation,robot-pose,x=-11.46;y=17.82;yaw=-1.25\\n',\n",
       " '216.766666651,[debug],turtlebot3,simulation,robot-pose,x=-11.46;y=17.82;yaw=-1.25\\n',\n",
       " '216.883333445,[debug],turtlebot4,simulation,robot-pose,x=-25.93;y=13.41;yaw=1.62\\n',\n",
       " '216.883333445,[debug],turtlebot4,simulation,robot-pose,x=-25.93;y=13.41;yaw=1.62\\n',\n",
       " '217.033333302,[debug],turtlebot5,simulation,robot-pose,x=-40.39;y=25.23;yaw=0.33\\n',\n",
       " '217.033333302,[debug],turtlebot5,simulation,robot-pose,x=-40.39;y=25.23;yaw=0.33\\n']"
      ]
     },
     "execution_count": 3,
     "metadata": {},
     "output_type": "execute_result"
    }
   ],
   "source": [
    "with open('results/planned/log/experiment1_trial00.log', 'r') as rf:\n",
    "    text = rf.readlines()\n",
    "    nurse = [line for line in text if \"NURSES_CONFIG\" in line][0][:-1]\n",
    "    lines = [line for line in text if \"robot-pose\" in line]\n",
    "lines"
   ]
  },
  {
   "cell_type": "code",
   "execution_count": 4,
   "metadata": {},
   "outputs": [
    {
     "data": {
      "text/plain": [
       "'NURSES_CONFIG=[{\"location\": \"PC Room 3\", \"position\": [-30.5, 20.0, -1.57]}]'"
      ]
     },
     "execution_count": 4,
     "metadata": {},
     "output_type": "execute_result"
    }
   ],
   "source": [
    "nurse"
   ]
  },
  {
   "cell_type": "code",
   "execution_count": 5,
   "metadata": {
    "scrolled": false
   },
   "outputs": [
    {
     "data": {
      "text/plain": [
       "{'turtlebot1': [[-19.02, 17.99],\n",
       "  [-19.02, 17.99],\n",
       "  [-19.01, 17.99],\n",
       "  [-19.01, 17.99],\n",
       "  [-19.01, 17.99],\n",
       "  [-19.01, 17.99],\n",
       "  [-19.01, 17.99],\n",
       "  [-19.01, 17.99],\n",
       "  [-19.01, 17.99],\n",
       "  [-19.01, 17.99],\n",
       "  [-19.01, 17.99],\n",
       "  [-19.01, 17.99],\n",
       "  [-19.01, 17.99],\n",
       "  [-19.01, 17.99],\n",
       "  [-19.01, 17.99],\n",
       "  [-19.01, 17.99],\n",
       "  [-19.01, 17.99],\n",
       "  [-19.01, 17.99],\n",
       "  [-19.01, 17.99],\n",
       "  [-19.01, 17.99],\n",
       "  [-19.01, 17.99],\n",
       "  [-19.01, 17.99],\n",
       "  [-19.01, 17.99],\n",
       "  [-19.01, 17.99],\n",
       "  [-19.01, 17.99],\n",
       "  [-19.01, 17.99],\n",
       "  [-19.01, 17.99],\n",
       "  [-19.01, 17.99]],\n",
       " 'turtlebot2': [[-32.89, 33.97],\n",
       "  [-32.89, 33.97],\n",
       "  [-32.89, 33.97],\n",
       "  [-32.89, 33.97],\n",
       "  [-32.89, 33.97],\n",
       "  [-32.89, 33.97],\n",
       "  [-32.89, 33.97],\n",
       "  [-32.89, 33.97],\n",
       "  [-32.9, 33.97],\n",
       "  [-32.9, 33.97],\n",
       "  [-32.9, 33.97],\n",
       "  [-32.9, 33.97],\n",
       "  [-32.9, 33.97],\n",
       "  [-32.9, 33.97],\n",
       "  [-32.9, 33.97],\n",
       "  [-32.9, 33.97],\n",
       "  [-32.9, 33.97],\n",
       "  [-32.9, 33.97],\n",
       "  [-32.9, 33.97],\n",
       "  [-32.9, 33.97],\n",
       "  [-32.9, 33.97],\n",
       "  [-32.9, 33.97],\n",
       "  [-32.9, 33.97],\n",
       "  [-32.9, 33.97],\n",
       "  [-32.9, 33.97],\n",
       "  [-32.9, 33.97],\n",
       "  [-32.91, 33.97],\n",
       "  [-32.91, 33.97]],\n",
       " 'turtlebot3': [[-11.46, 17.82],\n",
       "  [-11.46, 17.82],\n",
       "  [-11.46, 17.82],\n",
       "  [-11.46, 17.82],\n",
       "  [-11.46, 17.82],\n",
       "  [-11.46, 17.82],\n",
       "  [-11.46, 17.82],\n",
       "  [-11.46, 17.82],\n",
       "  [-11.46, 17.82],\n",
       "  [-11.46, 17.82],\n",
       "  [-11.46, 17.82],\n",
       "  [-11.46, 17.82],\n",
       "  [-11.46, 17.82],\n",
       "  [-11.46, 17.82],\n",
       "  [-11.46, 17.82],\n",
       "  [-11.46, 17.82],\n",
       "  [-11.46, 17.82],\n",
       "  [-11.46, 17.82],\n",
       "  [-11.46, 17.82],\n",
       "  [-11.46, 17.82],\n",
       "  [-11.46, 17.82],\n",
       "  [-11.46, 17.82],\n",
       "  [-11.46, 17.82],\n",
       "  [-11.46, 17.82],\n",
       "  [-11.46, 17.82],\n",
       "  [-11.46, 17.82],\n",
       "  [-11.46, 17.82],\n",
       "  [-11.46, 17.82]],\n",
       " 'turtlebot4': [[-20.97, 17.08],\n",
       "  [-20.97, 17.08],\n",
       "  [-20.94, 16.44],\n",
       "  [-20.94, 16.44],\n",
       "  [-22.65, 15.96],\n",
       "  [-22.65, 15.96],\n",
       "  [-25.13, 15.94],\n",
       "  [-25.13, 15.94],\n",
       "  [-28.0, 16.49],\n",
       "  [-28.0, 16.49],\n",
       "  [-28.39, 17.41],\n",
       "  [-28.39, 17.41],\n",
       "  [-28.41, 17.61],\n",
       "  [-28.41, 17.61],\n",
       "  [-28.56, 16.86],\n",
       "  [-28.56, 16.86],\n",
       "  [-28.29, 16.4],\n",
       "  [-28.29, 16.4],\n",
       "  [-26.39, 16.29],\n",
       "  [-26.39, 16.29],\n",
       "  [-26.18, 15.82],\n",
       "  [-26.18, 15.82],\n",
       "  [-25.84, 14.6],\n",
       "  [-25.84, 14.6],\n",
       "  [-25.89, 13.47],\n",
       "  [-25.89, 13.47],\n",
       "  [-25.93, 13.41],\n",
       "  [-25.93, 13.41]],\n",
       " 'turtlebot5': [[-40.39, 25.23],\n",
       "  [-40.39, 25.23],\n",
       "  [-40.39, 25.23],\n",
       "  [-40.39, 25.23],\n",
       "  [-40.39, 25.23],\n",
       "  [-40.39, 25.23],\n",
       "  [-40.39, 25.23],\n",
       "  [-40.39, 25.23],\n",
       "  [-40.39, 25.23],\n",
       "  [-40.39, 25.23],\n",
       "  [-40.39, 25.23],\n",
       "  [-40.39, 25.23],\n",
       "  [-40.39, 25.23],\n",
       "  [-40.39, 25.23],\n",
       "  [-40.39, 25.23],\n",
       "  [-40.39, 25.23],\n",
       "  [-40.39, 25.23],\n",
       "  [-40.39, 25.23],\n",
       "  [-40.39, 25.23],\n",
       "  [-40.39, 25.23],\n",
       "  [-40.39, 25.23],\n",
       "  [-40.39, 25.23],\n",
       "  [-40.39, 25.23],\n",
       "  [-40.39, 25.23],\n",
       "  [-40.39, 25.23],\n",
       "  [-40.39, 25.23],\n",
       "  [-40.39, 25.23],\n",
       "  [-40.39, 25.23]]}"
      ]
     },
     "execution_count": 5,
     "metadata": {},
     "output_type": "execute_result"
    }
   ],
   "source": [
    "lines = [line.split(',') for line in lines]\n",
    "dic = {}\n",
    "for log in lines:\n",
    "    try:\n",
    "        x = float(log[-1].split(';')[0].split('=')[1])\n",
    "        y = float(log[-1].split(';')[1].split('=')[1])\n",
    "        position = [x, y]\n",
    "        turtlebot = log[2]\n",
    "        dic[turtlebot].append(position)\n",
    "    except KeyError:\n",
    "        dic[turtlebot] = [position]\n",
    "dic"
   ]
  },
  {
   "cell_type": "code",
   "execution_count": 6,
   "metadata": {},
   "outputs": [],
   "source": [
    "positions = list(dic.values())\n",
    "robots = list(dic.keys())\n",
    "colors = {'turtlebot1': 'r',\n",
    "         'turtlebot2': 'b',\n",
    "         'turtlebot3': 'g',\n",
    "         'turtlebot4': 'm',\n",
    "         'turtlebot5': 'c'}\n",
    "cmaps = {'turtlebot1': 'afmhot_r',\n",
    "         'turtlebot2': 'hot_r',\n",
    "         'turtlebot3': 'plasma_r',\n",
    "         'turtlebot4': 'jet',\n",
    "         'turtlebot5': 'gist_heat_r'}"
   ]
  },
  {
   "cell_type": "code",
   "execution_count": 35,
   "metadata": {},
   "outputs": [],
   "source": [
    "lab_position = [-26.00, 13.00]"
   ]
  },
  {
   "cell_type": "code",
   "execution_count": 57,
   "metadata": {},
   "outputs": [
    {
     "data": {
      "text/plain": [
       "[-30.5, 20.0]"
      ]
     },
     "execution_count": 57,
     "metadata": {},
     "output_type": "execute_result"
    }
   ],
   "source": [
    "nurse = nurse[:-1].replace('[', '', 1)\n",
    "nurse_position = re.findall(r'\\[.*?\\]', nurse)[0]\n",
    "nurse_position = eval(nurse_position)[:-1]\n",
    "nurse_position"
   ]
  },
  {
   "cell_type": "code",
   "execution_count": 71,
   "metadata": {},
   "outputs": [
    {
     "data": {
      "image/png": "[encoded data removed]",
      "text/plain": [
       "<Figure size 432x288 with 1 Axes>"
      ]
     },
     "metadata": {
      "needs_background": "light"
     },
     "output_type": "display_data"
    }
   ],
   "source": [
    "def animate(i):\n",
    "    c = np.linspace(0, 1, i)\n",
    "    for j in range(len(positions)):\n",
    "        ax.plot([x[0] for x in positions[j][:i]], [x[1] for x in positions[j][:i]], \n",
    "                f'{colors[robots[j]]}-', zorder=j)\n",
    "        ax.scatter([x[0] for x in positions[j][:i]], [x[1] for x in positions[j][:i]],\n",
    "                  c=c, cmap=cmaps[robots[j]], zorder=j+100)\n",
    "        ax.annotate(robots[j], positions[j][0])\n",
    "    ax.scatter(lab_position[0], lab_position[1], color=\"cyan\")\n",
    "    ax.annotate(\"Lab\", (lab_position[0], lab_position[1]))\n",
    "    ax.scatter(nurse_position[0], nurse_position[1], color=\"magenta\")\n",
    "    ax.annotate(\"Nurse\", (nurse_position[0], nurse_position[1]))\n",
    "\n",
    "fig, ax = plt.subplots()\n",
    "ani = animation.FuncAnimation(fig, animate, frames=29)"
   ]
  },
  {
   "cell_type": "code",
   "execution_count": 72,
   "metadata": {},
   "outputs": [],
   "source": [
    "ani.save('animations/0.mp4', fps=2)"
   ]
  },
  {
   "cell_type": "markdown",
   "metadata": {},
   "source": [
    "# Final Positions"
   ]
  },
  {
   "cell_type": "code",
   "execution_count": 70,
   "metadata": {},
   "outputs": [
    {
     "data": {
      "text/plain": [
       "Text(-30.5, 20.0, 'Nurse')"
      ]
     },
     "execution_count": 70,
     "metadata": {},
     "output_type": "execute_result"
    },
    {
     "data": {
      "image/png": "[encoded data removed]",
      "text/plain": [
       "<Figure size 432x288 with 1 Axes>"
      ]
     },
     "metadata": {
      "needs_background": "light"
     },
     "output_type": "display_data"
    }
   ],
   "source": [
    "c = np.linspace(0, 1, 28)\n",
    "for j in range(len(positions)):\n",
    "    plt.plot([x[0] for x in positions[j]], [x[1] for x in positions[j]], \n",
    "            f'{colors[robots[j]]}-', zorder=j)\n",
    "    plt.scatter([x[0] for x in positions[j]], [x[1] for x in positions[j]],\n",
    "               c=c, cmap=cmaps[robots[j]], zorder=j+100)\n",
    "    plt.annotate(robots[j], positions[j][0])\n",
    "plt.scatter(lab_position[0], lab_position[1], color=\"cyan\")\n",
    "plt.annotate(\"Lab\", (lab_position[0], lab_position[1]))\n",
    "plt.scatter(nurse_position[0], nurse_position[1], color=\"magenta\")\n",
    "plt.annotate(\"Nurse\", (nurse_position[0], nurse_position[1]))"
   ]
  }
 ],
 "metadata": {
  "kernelspec": {
   "display_name": "Python 3",
   "language": "python",
   "name": "python3"
  },
  "language_info": {
   "codemirror_mode": {
    "name": "ipython",
    "version": 3
   },
   "file_extension": ".py",
   "mimetype": "text/x-python",
   "name": "python",
   "nbconvert_exporter": "python",
   "pygments_lexer": "ipython3",
   "version": "3.7.3"
  }
 },
 "nbformat": 4,
 "nbformat_minor": 2
}
