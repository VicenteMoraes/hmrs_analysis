{
 "cells": [
  {
   "cell_type": "markdown",
   "id": "196f6046",
   "metadata": {},
   "source": [
    "# Load data "
   ]
  },
  {
   "cell_type": "code",
   "execution_count": 1,
   "id": "1e5697e9",
   "metadata": {},
   "outputs": [
    {
     "name": "stdout",
     "output_type": "stream",
     "text": [
      "ignoring \"trial.log, wrong name format\"\n",
      "ignoring \"trial.log, wrong name format\"\n",
      "ignoring \"trial.log, wrong name format\"\n",
      "ignoring \"trial.log, wrong name format\"\n",
      "ignoring \"trial.log, wrong name format\"\n",
      "ignoring \"trial.log, wrong name format\"\n",
      "ignoring \"trial.log, wrong name format\"\n",
      "ignoring \"trial.log, wrong name format\"\n"
     ]
    }
   ],
   "source": [
    "import sys\n",
    "sys.path.append('../src')\n",
    "\n",
    "import pandas as pd\n",
    "import numpy as np\n",
    "import matplotlib.pyplot as plt\n",
    "import seaborn as sns\n",
    "from scipy import stats\n",
    "\n",
    "from parse_logs.parse_base import LogDir\n",
    "from parse_logs.extract_experiment_result import parse_experiment_result\n",
    "from parse_logs.parse_coordinator_logs import read_design\n",
    "\n",
    "from parse_logs.parse_coordinator_logs import get_flat_design\n",
    "from flatten_json import flatten\n",
    "\n",
    "sns.set(rc={\"figure.figsize\":(16, 8)})\n",
    "# parser.root_data_path = '../tests/data'\n",
    "#trial_run_objects = parser.get_trial_runs(\n",
    "#    exp_run_code='experiment_2021_04_01_16_20_00_run_1')\n",
    "\n",
    "LogDir.base_data_path = '../data'\n",
    "trial_run_objects = parse_experiment_result(exec_code='experiment_2021_07_29_15_33_17_run_1')\n",
    "\n",
    "# load trials run to dict (it can take a while)\n",
    "# sort and instantiate a dataframe\n",
    "trial_run_dicts = [trial_run.to_dict() for trial_run in trial_run_objects]\n",
    "# trial_run_dicts"
   ]
  },
  {
   "cell_type": "code",
   "execution_count": 2,
   "id": "4d643231",
   "metadata": {},
   "outputs": [
    {
     "data": {
      "text/html": [
       "<div>\n",
       "<style scoped>\n",
       "    .dataframe tbody tr th:only-of-type {\n",
       "        vertical-align: middle;\n",
       "    }\n",
       "\n",
       "    .dataframe tbody tr th {\n",
       "        vertical-align: top;\n",
       "    }\n",
       "\n",
       "    .dataframe thead th {\n",
       "        text-align: right;\n",
       "    }\n",
       "</style>\n",
       "<table border=\"1\" class=\"dataframe\">\n",
       "  <thead>\n",
       "    <tr style=\"text-align: right;\">\n",
       "      <th></th>\n",
       "      <th>exec_group</th>\n",
       "      <th>scenario_id</th>\n",
       "      <th>code</th>\n",
       "      <th>treatment</th>\n",
       "      <th>executor</th>\n",
       "      <th>ttc</th>\n",
       "      <th>failure_time</th>\n",
       "      <th>end_state</th>\n",
       "      <th>total_time_wall_clock</th>\n",
       "      <th>has_failure</th>\n",
       "    </tr>\n",
       "  </thead>\n",
       "  <tbody>\n",
       "    <tr>\n",
       "      <th>0</th>\n",
       "      <td>les-01</td>\n",
       "      <td>1</td>\n",
       "      <td>aaaaab</td>\n",
       "      <td>None</td>\n",
       "      <td>turtlebot4</td>\n",
       "      <td>NaN</td>\n",
       "      <td>155.27</td>\n",
       "      <td>low-battery</td>\n",
       "      <td>223.21</td>\n",
       "      <td>True</td>\n",
       "    </tr>\n",
       "    <tr>\n",
       "      <th>1</th>\n",
       "      <td>les-01</td>\n",
       "      <td>1</td>\n",
       "      <td>aaaaap</td>\n",
       "      <td>None</td>\n",
       "      <td>turtlebot2</td>\n",
       "      <td>421.43</td>\n",
       "      <td>NaN</td>\n",
       "      <td>success</td>\n",
       "      <td>646.63</td>\n",
       "      <td>False</td>\n",
       "    </tr>\n",
       "    <tr>\n",
       "      <th>2</th>\n",
       "      <td>les-01</td>\n",
       "      <td>2</td>\n",
       "      <td>aaaabb</td>\n",
       "      <td>None</td>\n",
       "      <td>turtlebot6</td>\n",
       "      <td>NaN</td>\n",
       "      <td>101.03</td>\n",
       "      <td>no-skill</td>\n",
       "      <td>170.18</td>\n",
       "      <td>True</td>\n",
       "    </tr>\n",
       "    <tr>\n",
       "      <th>3</th>\n",
       "      <td>les-01</td>\n",
       "      <td>2</td>\n",
       "      <td>aaaabp</td>\n",
       "      <td>None</td>\n",
       "      <td>turtlebot2</td>\n",
       "      <td>394.38</td>\n",
       "      <td>NaN</td>\n",
       "      <td>success</td>\n",
       "      <td>602.57</td>\n",
       "      <td>False</td>\n",
       "    </tr>\n",
       "    <tr>\n",
       "      <th>4</th>\n",
       "      <td>les-01</td>\n",
       "      <td>3</td>\n",
       "      <td>aaaacb</td>\n",
       "      <td>None</td>\n",
       "      <td>turtlebot6</td>\n",
       "      <td>NaN</td>\n",
       "      <td>69.28</td>\n",
       "      <td>no-skill</td>\n",
       "      <td>123.12</td>\n",
       "      <td>True</td>\n",
       "    </tr>\n",
       "    <tr>\n",
       "      <th>...</th>\n",
       "      <td>...</td>\n",
       "      <td>...</td>\n",
       "      <td>...</td>\n",
       "      <td>...</td>\n",
       "      <td>...</td>\n",
       "      <td>...</td>\n",
       "      <td>...</td>\n",
       "      <td>...</td>\n",
       "      <td>...</td>\n",
       "      <td>...</td>\n",
       "    </tr>\n",
       "    <tr>\n",
       "      <th>1291</th>\n",
       "      <td>les-08</td>\n",
       "      <td>79</td>\n",
       "      <td>acccap</td>\n",
       "      <td>None</td>\n",
       "      <td>turtlebot3</td>\n",
       "      <td>335.07</td>\n",
       "      <td>NaN</td>\n",
       "      <td>success</td>\n",
       "      <td>515.50</td>\n",
       "      <td>False</td>\n",
       "    </tr>\n",
       "    <tr>\n",
       "      <th>1292</th>\n",
       "      <td>les-08</td>\n",
       "      <td>80</td>\n",
       "      <td>acccbb</td>\n",
       "      <td>None</td>\n",
       "      <td>turtlebot3</td>\n",
       "      <td>430.25</td>\n",
       "      <td>NaN</td>\n",
       "      <td>success</td>\n",
       "      <td>653.62</td>\n",
       "      <td>False</td>\n",
       "    </tr>\n",
       "    <tr>\n",
       "      <th>1293</th>\n",
       "      <td>les-08</td>\n",
       "      <td>80</td>\n",
       "      <td>acccbp</td>\n",
       "      <td>None</td>\n",
       "      <td>turtlebot6</td>\n",
       "      <td>211.20</td>\n",
       "      <td>NaN</td>\n",
       "      <td>success</td>\n",
       "      <td>313.30</td>\n",
       "      <td>False</td>\n",
       "    </tr>\n",
       "    <tr>\n",
       "      <th>1294</th>\n",
       "      <td>les-08</td>\n",
       "      <td>81</td>\n",
       "      <td>accccb</td>\n",
       "      <td>None</td>\n",
       "      <td>turtlebot2</td>\n",
       "      <td>222.02</td>\n",
       "      <td>NaN</td>\n",
       "      <td>success</td>\n",
       "      <td>331.32</td>\n",
       "      <td>False</td>\n",
       "    </tr>\n",
       "    <tr>\n",
       "      <th>1295</th>\n",
       "      <td>les-08</td>\n",
       "      <td>81</td>\n",
       "      <td>accccp</td>\n",
       "      <td>None</td>\n",
       "      <td>turtlebot6</td>\n",
       "      <td>175.82</td>\n",
       "      <td>NaN</td>\n",
       "      <td>success</td>\n",
       "      <td>274.26</td>\n",
       "      <td>False</td>\n",
       "    </tr>\n",
       "  </tbody>\n",
       "</table>\n",
       "<p>1296 rows × 10 columns</p>\n",
       "</div>"
      ],
      "text/plain": [
       "     exec_group  scenario_id    code treatment    executor     ttc  \\\n",
       "0        les-01            1  aaaaab      None  turtlebot4     NaN   \n",
       "1        les-01            1  aaaaap      None  turtlebot2  421.43   \n",
       "2        les-01            2  aaaabb      None  turtlebot6     NaN   \n",
       "3        les-01            2  aaaabp      None  turtlebot2  394.38   \n",
       "4        les-01            3  aaaacb      None  turtlebot6     NaN   \n",
       "...         ...          ...     ...       ...         ...     ...   \n",
       "1291     les-08           79  acccap      None  turtlebot3  335.07   \n",
       "1292     les-08           80  acccbb      None  turtlebot3  430.25   \n",
       "1293     les-08           80  acccbp      None  turtlebot6  211.20   \n",
       "1294     les-08           81  accccb      None  turtlebot2  222.02   \n",
       "1295     les-08           81  accccp      None  turtlebot6  175.82   \n",
       "\n",
       "      failure_time    end_state  total_time_wall_clock  has_failure  \n",
       "0           155.27  low-battery                 223.21         True  \n",
       "1              NaN      success                 646.63        False  \n",
       "2           101.03     no-skill                 170.18         True  \n",
       "3              NaN      success                 602.57        False  \n",
       "4            69.28     no-skill                 123.12         True  \n",
       "...            ...          ...                    ...          ...  \n",
       "1291           NaN      success                 515.50        False  \n",
       "1292           NaN      success                 653.62        False  \n",
       "1293           NaN      success                 313.30        False  \n",
       "1294           NaN      success                 331.32        False  \n",
       "1295           NaN      success                 274.26        False  \n",
       "\n",
       "[1296 rows x 10 columns]"
      ]
     },
     "execution_count": 2,
     "metadata": {},
     "output_type": "execute_result"
    }
   ],
   "source": [
    "trial_run_dicts.sort( key=lambda tr: tr['exec_group']+tr['code'])\n",
    "# trial_run_dicts\n",
    "\n",
    "trial_run_df = pd.DataFrame.from_records(trial_run_dicts)\n",
    "trial_run_df"
   ]
  },
  {
   "cell_type": "code",
   "execution_count": 3,
   "id": "8c7bc30b-c0b8-4e56-ada3-93982035fdab",
   "metadata": {},
   "outputs": [
    {
     "data": {
      "text/html": [
       "<div>\n",
       "<style scoped>\n",
       "    .dataframe tbody tr th:only-of-type {\n",
       "        vertical-align: middle;\n",
       "    }\n",
       "\n",
       "    .dataframe tbody tr th {\n",
       "        vertical-align: top;\n",
       "    }\n",
       "\n",
       "    .dataframe thead th {\n",
       "        text-align: right;\n",
       "    }\n",
       "</style>\n",
       "<table border=\"1\" class=\"dataframe\">\n",
       "  <thead>\n",
       "    <tr style=\"text-align: right;\">\n",
       "      <th></th>\n",
       "      <th>scenario_id</th>\n",
       "      <th>factors_avg_speed</th>\n",
       "      <th>factors_battery_charge</th>\n",
       "      <th>factors_battery_discharge_rate</th>\n",
       "      <th>factors_location</th>\n",
       "      <th>factors_skills</th>\n",
       "      <th>treatment</th>\n",
       "    </tr>\n",
       "    <tr>\n",
       "      <th>code</th>\n",
       "      <th></th>\n",
       "      <th></th>\n",
       "      <th></th>\n",
       "      <th></th>\n",
       "      <th></th>\n",
       "      <th></th>\n",
       "      <th></th>\n",
       "    </tr>\n",
       "  </thead>\n",
       "  <tbody>\n",
       "    <tr>\n",
       "      <th>aaaaab</th>\n",
       "      <td>1</td>\n",
       "      <td>a</td>\n",
       "      <td>a</td>\n",
       "      <td>a</td>\n",
       "      <td>a</td>\n",
       "      <td>a</td>\n",
       "      <td>baseline</td>\n",
       "    </tr>\n",
       "    <tr>\n",
       "      <th>aaaaap</th>\n",
       "      <td>1</td>\n",
       "      <td>a</td>\n",
       "      <td>a</td>\n",
       "      <td>a</td>\n",
       "      <td>a</td>\n",
       "      <td>a</td>\n",
       "      <td>planned</td>\n",
       "    </tr>\n",
       "    <tr>\n",
       "      <th>aaaabb</th>\n",
       "      <td>2</td>\n",
       "      <td>a</td>\n",
       "      <td>a</td>\n",
       "      <td>a</td>\n",
       "      <td>b</td>\n",
       "      <td>a</td>\n",
       "      <td>baseline</td>\n",
       "    </tr>\n",
       "    <tr>\n",
       "      <th>aaaabp</th>\n",
       "      <td>2</td>\n",
       "      <td>a</td>\n",
       "      <td>a</td>\n",
       "      <td>a</td>\n",
       "      <td>b</td>\n",
       "      <td>a</td>\n",
       "      <td>planned</td>\n",
       "    </tr>\n",
       "    <tr>\n",
       "      <th>aaaacb</th>\n",
       "      <td>3</td>\n",
       "      <td>a</td>\n",
       "      <td>a</td>\n",
       "      <td>a</td>\n",
       "      <td>c</td>\n",
       "      <td>a</td>\n",
       "      <td>baseline</td>\n",
       "    </tr>\n",
       "    <tr>\n",
       "      <th>...</th>\n",
       "      <td>...</td>\n",
       "      <td>...</td>\n",
       "      <td>...</td>\n",
       "      <td>...</td>\n",
       "      <td>...</td>\n",
       "      <td>...</td>\n",
       "      <td>...</td>\n",
       "    </tr>\n",
       "    <tr>\n",
       "      <th>acccap</th>\n",
       "      <td>79</td>\n",
       "      <td>a</td>\n",
       "      <td>c</td>\n",
       "      <td>c</td>\n",
       "      <td>a</td>\n",
       "      <td>c</td>\n",
       "      <td>planned</td>\n",
       "    </tr>\n",
       "    <tr>\n",
       "      <th>acccbb</th>\n",
       "      <td>80</td>\n",
       "      <td>a</td>\n",
       "      <td>c</td>\n",
       "      <td>c</td>\n",
       "      <td>b</td>\n",
       "      <td>c</td>\n",
       "      <td>baseline</td>\n",
       "    </tr>\n",
       "    <tr>\n",
       "      <th>acccbp</th>\n",
       "      <td>80</td>\n",
       "      <td>a</td>\n",
       "      <td>c</td>\n",
       "      <td>c</td>\n",
       "      <td>b</td>\n",
       "      <td>c</td>\n",
       "      <td>planned</td>\n",
       "    </tr>\n",
       "    <tr>\n",
       "      <th>accccb</th>\n",
       "      <td>81</td>\n",
       "      <td>a</td>\n",
       "      <td>c</td>\n",
       "      <td>c</td>\n",
       "      <td>c</td>\n",
       "      <td>c</td>\n",
       "      <td>baseline</td>\n",
       "    </tr>\n",
       "    <tr>\n",
       "      <th>accccp</th>\n",
       "      <td>81</td>\n",
       "      <td>a</td>\n",
       "      <td>c</td>\n",
       "      <td>c</td>\n",
       "      <td>c</td>\n",
       "      <td>c</td>\n",
       "      <td>planned</td>\n",
       "    </tr>\n",
       "  </tbody>\n",
       "</table>\n",
       "<p>162 rows × 7 columns</p>\n",
       "</div>"
      ],
      "text/plain": [
       "        scenario_id factors_avg_speed factors_battery_charge  \\\n",
       "code                                                           \n",
       "aaaaab            1                 a                      a   \n",
       "aaaaap            1                 a                      a   \n",
       "aaaabb            2                 a                      a   \n",
       "aaaabp            2                 a                      a   \n",
       "aaaacb            3                 a                      a   \n",
       "...             ...               ...                    ...   \n",
       "acccap           79                 a                      c   \n",
       "acccbb           80                 a                      c   \n",
       "acccbp           80                 a                      c   \n",
       "accccb           81                 a                      c   \n",
       "accccp           81                 a                      c   \n",
       "\n",
       "       factors_battery_discharge_rate factors_location factors_skills  \\\n",
       "code                                                                    \n",
       "aaaaab                              a                a              a   \n",
       "aaaaap                              a                a              a   \n",
       "aaaabb                              a                b              a   \n",
       "aaaabp                              a                b              a   \n",
       "aaaacb                              a                c              a   \n",
       "...                               ...              ...            ...   \n",
       "acccap                              c                a              c   \n",
       "acccbb                              c                b              c   \n",
       "acccbp                              c                b              c   \n",
       "accccb                              c                c              c   \n",
       "accccp                              c                c              c   \n",
       "\n",
       "       treatment  \n",
       "code              \n",
       "aaaaab  baseline  \n",
       "aaaaap   planned  \n",
       "aaaabb  baseline  \n",
       "aaaabp   planned  \n",
       "aaaacb  baseline  \n",
       "...          ...  \n",
       "acccap   planned  \n",
       "acccbb  baseline  \n",
       "acccbp   planned  \n",
       "accccb  baseline  \n",
       "accccp   planned  \n",
       "\n",
       "[162 rows x 7 columns]"
      ]
     },
     "execution_count": 3,
     "metadata": {},
     "output_type": "execute_result"
    }
   ],
   "source": [
    "exp_design = get_flat_design(exec_code='experiment_2021_07_29_15_33_17_run_1')\n",
    "td_df = pd.DataFrame.from_records(exp_design)\n",
    "td_df = td_df.set_index('code')\n",
    "\n",
    "td_df"
   ]
  },
  {
   "cell_type": "code",
   "execution_count": 4,
   "id": "a49dee96-b53d-477f-8d18-7c38d6e697cb",
   "metadata": {},
   "outputs": [
    {
     "data": {
      "text/html": [
       "<div>\n",
       "<style scoped>\n",
       "    .dataframe tbody tr th:only-of-type {\n",
       "        vertical-align: middle;\n",
       "    }\n",
       "\n",
       "    .dataframe tbody tr th {\n",
       "        vertical-align: top;\n",
       "    }\n",
       "\n",
       "    .dataframe thead th {\n",
       "        text-align: right;\n",
       "    }\n",
       "</style>\n",
       "<table border=\"1\" class=\"dataframe\">\n",
       "  <thead>\n",
       "    <tr style=\"text-align: right;\">\n",
       "      <th></th>\n",
       "      <th>exec_group</th>\n",
       "      <th>scenario_id</th>\n",
       "      <th>code</th>\n",
       "      <th>executor</th>\n",
       "      <th>ttc</th>\n",
       "      <th>failure_time</th>\n",
       "      <th>end_state</th>\n",
       "      <th>total_time_wall_clock</th>\n",
       "      <th>has_failure</th>\n",
       "      <th>factors_avg_speed</th>\n",
       "      <th>factors_battery_charge</th>\n",
       "      <th>factors_battery_discharge_rate</th>\n",
       "      <th>factors_location</th>\n",
       "      <th>factors_skills</th>\n",
       "      <th>treatment</th>\n",
       "    </tr>\n",
       "  </thead>\n",
       "  <tbody>\n",
       "    <tr>\n",
       "      <th>0</th>\n",
       "      <td>les-01</td>\n",
       "      <td>1</td>\n",
       "      <td>aaaaab</td>\n",
       "      <td>turtlebot4</td>\n",
       "      <td>NaN</td>\n",
       "      <td>155.27</td>\n",
       "      <td>low-battery</td>\n",
       "      <td>223.21</td>\n",
       "      <td>True</td>\n",
       "      <td>a</td>\n",
       "      <td>a</td>\n",
       "      <td>a</td>\n",
       "      <td>a</td>\n",
       "      <td>a</td>\n",
       "      <td>baseline</td>\n",
       "    </tr>\n",
       "    <tr>\n",
       "      <th>1</th>\n",
       "      <td>les-01</td>\n",
       "      <td>1</td>\n",
       "      <td>aaaaap</td>\n",
       "      <td>turtlebot2</td>\n",
       "      <td>421.43</td>\n",
       "      <td>NaN</td>\n",
       "      <td>success</td>\n",
       "      <td>646.63</td>\n",
       "      <td>False</td>\n",
       "      <td>a</td>\n",
       "      <td>a</td>\n",
       "      <td>a</td>\n",
       "      <td>a</td>\n",
       "      <td>a</td>\n",
       "      <td>planned</td>\n",
       "    </tr>\n",
       "    <tr>\n",
       "      <th>2</th>\n",
       "      <td>les-01</td>\n",
       "      <td>2</td>\n",
       "      <td>aaaabb</td>\n",
       "      <td>turtlebot6</td>\n",
       "      <td>NaN</td>\n",
       "      <td>101.03</td>\n",
       "      <td>no-skill</td>\n",
       "      <td>170.18</td>\n",
       "      <td>True</td>\n",
       "      <td>a</td>\n",
       "      <td>a</td>\n",
       "      <td>a</td>\n",
       "      <td>b</td>\n",
       "      <td>a</td>\n",
       "      <td>baseline</td>\n",
       "    </tr>\n",
       "    <tr>\n",
       "      <th>3</th>\n",
       "      <td>les-01</td>\n",
       "      <td>2</td>\n",
       "      <td>aaaabp</td>\n",
       "      <td>turtlebot2</td>\n",
       "      <td>394.38</td>\n",
       "      <td>NaN</td>\n",
       "      <td>success</td>\n",
       "      <td>602.57</td>\n",
       "      <td>False</td>\n",
       "      <td>a</td>\n",
       "      <td>a</td>\n",
       "      <td>a</td>\n",
       "      <td>b</td>\n",
       "      <td>a</td>\n",
       "      <td>planned</td>\n",
       "    </tr>\n",
       "    <tr>\n",
       "      <th>4</th>\n",
       "      <td>les-01</td>\n",
       "      <td>3</td>\n",
       "      <td>aaaacb</td>\n",
       "      <td>turtlebot6</td>\n",
       "      <td>NaN</td>\n",
       "      <td>69.28</td>\n",
       "      <td>no-skill</td>\n",
       "      <td>123.12</td>\n",
       "      <td>True</td>\n",
       "      <td>a</td>\n",
       "      <td>a</td>\n",
       "      <td>a</td>\n",
       "      <td>c</td>\n",
       "      <td>a</td>\n",
       "      <td>baseline</td>\n",
       "    </tr>\n",
       "    <tr>\n",
       "      <th>...</th>\n",
       "      <td>...</td>\n",
       "      <td>...</td>\n",
       "      <td>...</td>\n",
       "      <td>...</td>\n",
       "      <td>...</td>\n",
       "      <td>...</td>\n",
       "      <td>...</td>\n",
       "      <td>...</td>\n",
       "      <td>...</td>\n",
       "      <td>...</td>\n",
       "      <td>...</td>\n",
       "      <td>...</td>\n",
       "      <td>...</td>\n",
       "      <td>...</td>\n",
       "      <td>...</td>\n",
       "    </tr>\n",
       "    <tr>\n",
       "      <th>1291</th>\n",
       "      <td>les-08</td>\n",
       "      <td>79</td>\n",
       "      <td>acccap</td>\n",
       "      <td>turtlebot3</td>\n",
       "      <td>335.07</td>\n",
       "      <td>NaN</td>\n",
       "      <td>success</td>\n",
       "      <td>515.50</td>\n",
       "      <td>False</td>\n",
       "      <td>a</td>\n",
       "      <td>c</td>\n",
       "      <td>c</td>\n",
       "      <td>a</td>\n",
       "      <td>c</td>\n",
       "      <td>planned</td>\n",
       "    </tr>\n",
       "    <tr>\n",
       "      <th>1292</th>\n",
       "      <td>les-08</td>\n",
       "      <td>80</td>\n",
       "      <td>acccbb</td>\n",
       "      <td>turtlebot3</td>\n",
       "      <td>430.25</td>\n",
       "      <td>NaN</td>\n",
       "      <td>success</td>\n",
       "      <td>653.62</td>\n",
       "      <td>False</td>\n",
       "      <td>a</td>\n",
       "      <td>c</td>\n",
       "      <td>c</td>\n",
       "      <td>b</td>\n",
       "      <td>c</td>\n",
       "      <td>baseline</td>\n",
       "    </tr>\n",
       "    <tr>\n",
       "      <th>1293</th>\n",
       "      <td>les-08</td>\n",
       "      <td>80</td>\n",
       "      <td>acccbp</td>\n",
       "      <td>turtlebot6</td>\n",
       "      <td>211.20</td>\n",
       "      <td>NaN</td>\n",
       "      <td>success</td>\n",
       "      <td>313.30</td>\n",
       "      <td>False</td>\n",
       "      <td>a</td>\n",
       "      <td>c</td>\n",
       "      <td>c</td>\n",
       "      <td>b</td>\n",
       "      <td>c</td>\n",
       "      <td>planned</td>\n",
       "    </tr>\n",
       "    <tr>\n",
       "      <th>1294</th>\n",
       "      <td>les-08</td>\n",
       "      <td>81</td>\n",
       "      <td>accccb</td>\n",
       "      <td>turtlebot2</td>\n",
       "      <td>222.02</td>\n",
       "      <td>NaN</td>\n",
       "      <td>success</td>\n",
       "      <td>331.32</td>\n",
       "      <td>False</td>\n",
       "      <td>a</td>\n",
       "      <td>c</td>\n",
       "      <td>c</td>\n",
       "      <td>c</td>\n",
       "      <td>c</td>\n",
       "      <td>baseline</td>\n",
       "    </tr>\n",
       "    <tr>\n",
       "      <th>1295</th>\n",
       "      <td>les-08</td>\n",
       "      <td>81</td>\n",
       "      <td>accccp</td>\n",
       "      <td>turtlebot6</td>\n",
       "      <td>175.82</td>\n",
       "      <td>NaN</td>\n",
       "      <td>success</td>\n",
       "      <td>274.26</td>\n",
       "      <td>False</td>\n",
       "      <td>a</td>\n",
       "      <td>c</td>\n",
       "      <td>c</td>\n",
       "      <td>c</td>\n",
       "      <td>c</td>\n",
       "      <td>planned</td>\n",
       "    </tr>\n",
       "  </tbody>\n",
       "</table>\n",
       "<p>1296 rows × 15 columns</p>\n",
       "</div>"
      ],
      "text/plain": [
       "     exec_group  scenario_id    code    executor     ttc  failure_time  \\\n",
       "0        les-01            1  aaaaab  turtlebot4     NaN        155.27   \n",
       "1        les-01            1  aaaaap  turtlebot2  421.43           NaN   \n",
       "2        les-01            2  aaaabb  turtlebot6     NaN        101.03   \n",
       "3        les-01            2  aaaabp  turtlebot2  394.38           NaN   \n",
       "4        les-01            3  aaaacb  turtlebot6     NaN         69.28   \n",
       "...         ...          ...     ...         ...     ...           ...   \n",
       "1291     les-08           79  acccap  turtlebot3  335.07           NaN   \n",
       "1292     les-08           80  acccbb  turtlebot3  430.25           NaN   \n",
       "1293     les-08           80  acccbp  turtlebot6  211.20           NaN   \n",
       "1294     les-08           81  accccb  turtlebot2  222.02           NaN   \n",
       "1295     les-08           81  accccp  turtlebot6  175.82           NaN   \n",
       "\n",
       "        end_state  total_time_wall_clock  has_failure factors_avg_speed  \\\n",
       "0     low-battery                 223.21         True                 a   \n",
       "1         success                 646.63        False                 a   \n",
       "2        no-skill                 170.18         True                 a   \n",
       "3         success                 602.57        False                 a   \n",
       "4        no-skill                 123.12         True                 a   \n",
       "...           ...                    ...          ...               ...   \n",
       "1291      success                 515.50        False                 a   \n",
       "1292      success                 653.62        False                 a   \n",
       "1293      success                 313.30        False                 a   \n",
       "1294      success                 331.32        False                 a   \n",
       "1295      success                 274.26        False                 a   \n",
       "\n",
       "     factors_battery_charge factors_battery_discharge_rate factors_location  \\\n",
       "0                         a                              a                a   \n",
       "1                         a                              a                a   \n",
       "2                         a                              a                b   \n",
       "3                         a                              a                b   \n",
       "4                         a                              a                c   \n",
       "...                     ...                            ...              ...   \n",
       "1291                      c                              c                a   \n",
       "1292                      c                              c                b   \n",
       "1293                      c                              c                b   \n",
       "1294                      c                              c                c   \n",
       "1295                      c                              c                c   \n",
       "\n",
       "     factors_skills treatment  \n",
       "0                 a  baseline  \n",
       "1                 a   planned  \n",
       "2                 a  baseline  \n",
       "3                 a   planned  \n",
       "4                 a  baseline  \n",
       "...             ...       ...  \n",
       "1291              c   planned  \n",
       "1292              c  baseline  \n",
       "1293              c   planned  \n",
       "1294              c  baseline  \n",
       "1295              c   planned  \n",
       "\n",
       "[1296 rows x 15 columns]"
      ]
     },
     "execution_count": 4,
     "metadata": {},
     "output_type": "execute_result"
    }
   ],
   "source": [
    "trial_run_df  = trial_run_df.drop(['treatment'], axis=1).join(td_df.drop(['scenario_id'], axis=1), on='code', lsuffix='_left', rsuffix='_right')\n",
    "trial_run_df"
   ]
  },
  {
   "cell_type": "markdown",
   "id": "0cfd5dde",
   "metadata": {},
   "source": [
    "## Baseline"
   ]
  },
  {
   "cell_type": "code",
   "execution_count": 5,
   "id": "0b26a803",
   "metadata": {},
   "outputs": [
    {
     "data": {
      "text/html": [
       "<div>\n",
       "<style scoped>\n",
       "    .dataframe tbody tr th:only-of-type {\n",
       "        vertical-align: middle;\n",
       "    }\n",
       "\n",
       "    .dataframe tbody tr th {\n",
       "        vertical-align: top;\n",
       "    }\n",
       "\n",
       "    .dataframe thead th {\n",
       "        text-align: right;\n",
       "    }\n",
       "</style>\n",
       "<table border=\"1\" class=\"dataframe\">\n",
       "  <thead>\n",
       "    <tr style=\"text-align: right;\">\n",
       "      <th></th>\n",
       "      <th>exec_group</th>\n",
       "      <th>scenario_id</th>\n",
       "      <th>code</th>\n",
       "      <th>executor</th>\n",
       "      <th>ttc</th>\n",
       "      <th>failure_time</th>\n",
       "      <th>end_state</th>\n",
       "      <th>total_time_wall_clock</th>\n",
       "      <th>has_failure</th>\n",
       "      <th>factors_avg_speed</th>\n",
       "      <th>factors_battery_charge</th>\n",
       "      <th>factors_battery_discharge_rate</th>\n",
       "      <th>factors_location</th>\n",
       "      <th>factors_skills</th>\n",
       "      <th>treatment</th>\n",
       "    </tr>\n",
       "  </thead>\n",
       "  <tbody>\n",
       "    <tr>\n",
       "      <th>0</th>\n",
       "      <td>les-01</td>\n",
       "      <td>1</td>\n",
       "      <td>aaaaab</td>\n",
       "      <td>turtlebot4</td>\n",
       "      <td>NaN</td>\n",
       "      <td>155.27</td>\n",
       "      <td>low-battery</td>\n",
       "      <td>223.21</td>\n",
       "      <td>True</td>\n",
       "      <td>a</td>\n",
       "      <td>a</td>\n",
       "      <td>a</td>\n",
       "      <td>a</td>\n",
       "      <td>a</td>\n",
       "      <td>baseline</td>\n",
       "    </tr>\n",
       "    <tr>\n",
       "      <th>2</th>\n",
       "      <td>les-01</td>\n",
       "      <td>2</td>\n",
       "      <td>aaaabb</td>\n",
       "      <td>turtlebot6</td>\n",
       "      <td>NaN</td>\n",
       "      <td>101.03</td>\n",
       "      <td>no-skill</td>\n",
       "      <td>170.18</td>\n",
       "      <td>True</td>\n",
       "      <td>a</td>\n",
       "      <td>a</td>\n",
       "      <td>a</td>\n",
       "      <td>b</td>\n",
       "      <td>a</td>\n",
       "      <td>baseline</td>\n",
       "    </tr>\n",
       "    <tr>\n",
       "      <th>4</th>\n",
       "      <td>les-01</td>\n",
       "      <td>3</td>\n",
       "      <td>aaaacb</td>\n",
       "      <td>turtlebot6</td>\n",
       "      <td>NaN</td>\n",
       "      <td>69.28</td>\n",
       "      <td>no-skill</td>\n",
       "      <td>123.12</td>\n",
       "      <td>True</td>\n",
       "      <td>a</td>\n",
       "      <td>a</td>\n",
       "      <td>a</td>\n",
       "      <td>c</td>\n",
       "      <td>a</td>\n",
       "      <td>baseline</td>\n",
       "    </tr>\n",
       "    <tr>\n",
       "      <th>6</th>\n",
       "      <td>les-01</td>\n",
       "      <td>4</td>\n",
       "      <td>aaabab</td>\n",
       "      <td>turtlebot5</td>\n",
       "      <td>490.72</td>\n",
       "      <td>NaN</td>\n",
       "      <td>success</td>\n",
       "      <td>680.66</td>\n",
       "      <td>False</td>\n",
       "      <td>a</td>\n",
       "      <td>a</td>\n",
       "      <td>a</td>\n",
       "      <td>a</td>\n",
       "      <td>b</td>\n",
       "      <td>baseline</td>\n",
       "    </tr>\n",
       "    <tr>\n",
       "      <th>8</th>\n",
       "      <td>les-01</td>\n",
       "      <td>5</td>\n",
       "      <td>aaabbb</td>\n",
       "      <td>turtlebot6</td>\n",
       "      <td>208.30</td>\n",
       "      <td>NaN</td>\n",
       "      <td>success</td>\n",
       "      <td>296.29</td>\n",
       "      <td>False</td>\n",
       "      <td>a</td>\n",
       "      <td>a</td>\n",
       "      <td>a</td>\n",
       "      <td>b</td>\n",
       "      <td>b</td>\n",
       "      <td>baseline</td>\n",
       "    </tr>\n",
       "    <tr>\n",
       "      <th>...</th>\n",
       "      <td>...</td>\n",
       "      <td>...</td>\n",
       "      <td>...</td>\n",
       "      <td>...</td>\n",
       "      <td>...</td>\n",
       "      <td>...</td>\n",
       "      <td>...</td>\n",
       "      <td>...</td>\n",
       "      <td>...</td>\n",
       "      <td>...</td>\n",
       "      <td>...</td>\n",
       "      <td>...</td>\n",
       "      <td>...</td>\n",
       "      <td>...</td>\n",
       "      <td>...</td>\n",
       "    </tr>\n",
       "    <tr>\n",
       "      <th>1286</th>\n",
       "      <td>les-08</td>\n",
       "      <td>77</td>\n",
       "      <td>accbbb</td>\n",
       "      <td>turtlebot1</td>\n",
       "      <td>NaN</td>\n",
       "      <td>137.78</td>\n",
       "      <td>no-skill</td>\n",
       "      <td>217.20</td>\n",
       "      <td>True</td>\n",
       "      <td>a</td>\n",
       "      <td>c</td>\n",
       "      <td>c</td>\n",
       "      <td>b</td>\n",
       "      <td>b</td>\n",
       "      <td>baseline</td>\n",
       "    </tr>\n",
       "    <tr>\n",
       "      <th>1288</th>\n",
       "      <td>les-08</td>\n",
       "      <td>78</td>\n",
       "      <td>accbcb</td>\n",
       "      <td>None</td>\n",
       "      <td>NaN</td>\n",
       "      <td>15.15</td>\n",
       "      <td>no-skill</td>\n",
       "      <td>41.04</td>\n",
       "      <td>True</td>\n",
       "      <td>a</td>\n",
       "      <td>c</td>\n",
       "      <td>c</td>\n",
       "      <td>c</td>\n",
       "      <td>b</td>\n",
       "      <td>baseline</td>\n",
       "    </tr>\n",
       "    <tr>\n",
       "      <th>1290</th>\n",
       "      <td>les-08</td>\n",
       "      <td>79</td>\n",
       "      <td>acccab</td>\n",
       "      <td>turtlebot3</td>\n",
       "      <td>406.70</td>\n",
       "      <td>NaN</td>\n",
       "      <td>success</td>\n",
       "      <td>609.59</td>\n",
       "      <td>False</td>\n",
       "      <td>a</td>\n",
       "      <td>c</td>\n",
       "      <td>c</td>\n",
       "      <td>a</td>\n",
       "      <td>c</td>\n",
       "      <td>baseline</td>\n",
       "    </tr>\n",
       "    <tr>\n",
       "      <th>1292</th>\n",
       "      <td>les-08</td>\n",
       "      <td>80</td>\n",
       "      <td>acccbb</td>\n",
       "      <td>turtlebot3</td>\n",
       "      <td>430.25</td>\n",
       "      <td>NaN</td>\n",
       "      <td>success</td>\n",
       "      <td>653.62</td>\n",
       "      <td>False</td>\n",
       "      <td>a</td>\n",
       "      <td>c</td>\n",
       "      <td>c</td>\n",
       "      <td>b</td>\n",
       "      <td>c</td>\n",
       "      <td>baseline</td>\n",
       "    </tr>\n",
       "    <tr>\n",
       "      <th>1294</th>\n",
       "      <td>les-08</td>\n",
       "      <td>81</td>\n",
       "      <td>accccb</td>\n",
       "      <td>turtlebot2</td>\n",
       "      <td>222.02</td>\n",
       "      <td>NaN</td>\n",
       "      <td>success</td>\n",
       "      <td>331.32</td>\n",
       "      <td>False</td>\n",
       "      <td>a</td>\n",
       "      <td>c</td>\n",
       "      <td>c</td>\n",
       "      <td>c</td>\n",
       "      <td>c</td>\n",
       "      <td>baseline</td>\n",
       "    </tr>\n",
       "  </tbody>\n",
       "</table>\n",
       "<p>648 rows × 15 columns</p>\n",
       "</div>"
      ],
      "text/plain": [
       "     exec_group  scenario_id    code    executor     ttc  failure_time  \\\n",
       "0        les-01            1  aaaaab  turtlebot4     NaN        155.27   \n",
       "2        les-01            2  aaaabb  turtlebot6     NaN        101.03   \n",
       "4        les-01            3  aaaacb  turtlebot6     NaN         69.28   \n",
       "6        les-01            4  aaabab  turtlebot5  490.72           NaN   \n",
       "8        les-01            5  aaabbb  turtlebot6  208.30           NaN   \n",
       "...         ...          ...     ...         ...     ...           ...   \n",
       "1286     les-08           77  accbbb  turtlebot1     NaN        137.78   \n",
       "1288     les-08           78  accbcb        None     NaN         15.15   \n",
       "1290     les-08           79  acccab  turtlebot3  406.70           NaN   \n",
       "1292     les-08           80  acccbb  turtlebot3  430.25           NaN   \n",
       "1294     les-08           81  accccb  turtlebot2  222.02           NaN   \n",
       "\n",
       "        end_state  total_time_wall_clock  has_failure factors_avg_speed  \\\n",
       "0     low-battery                 223.21         True                 a   \n",
       "2        no-skill                 170.18         True                 a   \n",
       "4        no-skill                 123.12         True                 a   \n",
       "6         success                 680.66        False                 a   \n",
       "8         success                 296.29        False                 a   \n",
       "...           ...                    ...          ...               ...   \n",
       "1286     no-skill                 217.20         True                 a   \n",
       "1288     no-skill                  41.04         True                 a   \n",
       "1290      success                 609.59        False                 a   \n",
       "1292      success                 653.62        False                 a   \n",
       "1294      success                 331.32        False                 a   \n",
       "\n",
       "     factors_battery_charge factors_battery_discharge_rate factors_location  \\\n",
       "0                         a                              a                a   \n",
       "2                         a                              a                b   \n",
       "4                         a                              a                c   \n",
       "6                         a                              a                a   \n",
       "8                         a                              a                b   \n",
       "...                     ...                            ...              ...   \n",
       "1286                      c                              c                b   \n",
       "1288                      c                              c                c   \n",
       "1290                      c                              c                a   \n",
       "1292                      c                              c                b   \n",
       "1294                      c                              c                c   \n",
       "\n",
       "     factors_skills treatment  \n",
       "0                 a  baseline  \n",
       "2                 a  baseline  \n",
       "4                 a  baseline  \n",
       "6                 b  baseline  \n",
       "8                 b  baseline  \n",
       "...             ...       ...  \n",
       "1286              b  baseline  \n",
       "1288              b  baseline  \n",
       "1290              c  baseline  \n",
       "1292              c  baseline  \n",
       "1294              c  baseline  \n",
       "\n",
       "[648 rows x 15 columns]"
      ]
     },
     "execution_count": 5,
     "metadata": {},
     "output_type": "execute_result"
    }
   ],
   "source": [
    "baseline_df = trial_run_df[trial_run_df.treatment == 'baseline']\n",
    "baseline_df"
   ]
  },
  {
   "cell_type": "markdown",
   "id": "d56efed0",
   "metadata": {},
   "source": [
    "# Planned"
   ]
  },
  {
   "cell_type": "code",
   "execution_count": 6,
   "id": "16c7b66a",
   "metadata": {},
   "outputs": [
    {
     "data": {
      "text/html": [
       "<div>\n",
       "<style scoped>\n",
       "    .dataframe tbody tr th:only-of-type {\n",
       "        vertical-align: middle;\n",
       "    }\n",
       "\n",
       "    .dataframe tbody tr th {\n",
       "        vertical-align: top;\n",
       "    }\n",
       "\n",
       "    .dataframe thead th {\n",
       "        text-align: right;\n",
       "    }\n",
       "</style>\n",
       "<table border=\"1\" class=\"dataframe\">\n",
       "  <thead>\n",
       "    <tr style=\"text-align: right;\">\n",
       "      <th></th>\n",
       "      <th>exec_group</th>\n",
       "      <th>scenario_id</th>\n",
       "      <th>code</th>\n",
       "      <th>executor</th>\n",
       "      <th>ttc</th>\n",
       "      <th>failure_time</th>\n",
       "      <th>end_state</th>\n",
       "      <th>total_time_wall_clock</th>\n",
       "      <th>has_failure</th>\n",
       "      <th>factors_avg_speed</th>\n",
       "      <th>factors_battery_charge</th>\n",
       "      <th>factors_battery_discharge_rate</th>\n",
       "      <th>factors_location</th>\n",
       "      <th>factors_skills</th>\n",
       "      <th>treatment</th>\n",
       "    </tr>\n",
       "  </thead>\n",
       "  <tbody>\n",
       "    <tr>\n",
       "      <th>1</th>\n",
       "      <td>les-01</td>\n",
       "      <td>1</td>\n",
       "      <td>aaaaap</td>\n",
       "      <td>turtlebot2</td>\n",
       "      <td>421.43</td>\n",
       "      <td>NaN</td>\n",
       "      <td>success</td>\n",
       "      <td>646.63</td>\n",
       "      <td>False</td>\n",
       "      <td>a</td>\n",
       "      <td>a</td>\n",
       "      <td>a</td>\n",
       "      <td>a</td>\n",
       "      <td>a</td>\n",
       "      <td>planned</td>\n",
       "    </tr>\n",
       "    <tr>\n",
       "      <th>3</th>\n",
       "      <td>les-01</td>\n",
       "      <td>2</td>\n",
       "      <td>aaaabp</td>\n",
       "      <td>turtlebot2</td>\n",
       "      <td>394.38</td>\n",
       "      <td>NaN</td>\n",
       "      <td>success</td>\n",
       "      <td>602.57</td>\n",
       "      <td>False</td>\n",
       "      <td>a</td>\n",
       "      <td>a</td>\n",
       "      <td>a</td>\n",
       "      <td>b</td>\n",
       "      <td>a</td>\n",
       "      <td>planned</td>\n",
       "    </tr>\n",
       "    <tr>\n",
       "      <th>5</th>\n",
       "      <td>les-01</td>\n",
       "      <td>3</td>\n",
       "      <td>aaaacp</td>\n",
       "      <td>turtlebot2</td>\n",
       "      <td>213.23</td>\n",
       "      <td>NaN</td>\n",
       "      <td>success</td>\n",
       "      <td>320.31</td>\n",
       "      <td>False</td>\n",
       "      <td>a</td>\n",
       "      <td>a</td>\n",
       "      <td>a</td>\n",
       "      <td>c</td>\n",
       "      <td>a</td>\n",
       "      <td>planned</td>\n",
       "    </tr>\n",
       "    <tr>\n",
       "      <th>7</th>\n",
       "      <td>les-01</td>\n",
       "      <td>4</td>\n",
       "      <td>aaabap</td>\n",
       "      <td>turtlebot6</td>\n",
       "      <td>331.75</td>\n",
       "      <td>NaN</td>\n",
       "      <td>success</td>\n",
       "      <td>486.47</td>\n",
       "      <td>False</td>\n",
       "      <td>a</td>\n",
       "      <td>a</td>\n",
       "      <td>a</td>\n",
       "      <td>a</td>\n",
       "      <td>b</td>\n",
       "      <td>planned</td>\n",
       "    </tr>\n",
       "    <tr>\n",
       "      <th>9</th>\n",
       "      <td>les-01</td>\n",
       "      <td>5</td>\n",
       "      <td>aaabbp</td>\n",
       "      <td>turtlebot6</td>\n",
       "      <td>204.15</td>\n",
       "      <td>NaN</td>\n",
       "      <td>success</td>\n",
       "      <td>315.29</td>\n",
       "      <td>False</td>\n",
       "      <td>a</td>\n",
       "      <td>a</td>\n",
       "      <td>a</td>\n",
       "      <td>b</td>\n",
       "      <td>b</td>\n",
       "      <td>planned</td>\n",
       "    </tr>\n",
       "    <tr>\n",
       "      <th>...</th>\n",
       "      <td>...</td>\n",
       "      <td>...</td>\n",
       "      <td>...</td>\n",
       "      <td>...</td>\n",
       "      <td>...</td>\n",
       "      <td>...</td>\n",
       "      <td>...</td>\n",
       "      <td>...</td>\n",
       "      <td>...</td>\n",
       "      <td>...</td>\n",
       "      <td>...</td>\n",
       "      <td>...</td>\n",
       "      <td>...</td>\n",
       "      <td>...</td>\n",
       "      <td>...</td>\n",
       "    </tr>\n",
       "    <tr>\n",
       "      <th>1287</th>\n",
       "      <td>les-08</td>\n",
       "      <td>77</td>\n",
       "      <td>accbbp</td>\n",
       "      <td>turtlebot6</td>\n",
       "      <td>209.98</td>\n",
       "      <td>NaN</td>\n",
       "      <td>success</td>\n",
       "      <td>306.30</td>\n",
       "      <td>False</td>\n",
       "      <td>a</td>\n",
       "      <td>c</td>\n",
       "      <td>c</td>\n",
       "      <td>b</td>\n",
       "      <td>b</td>\n",
       "      <td>planned</td>\n",
       "    </tr>\n",
       "    <tr>\n",
       "      <th>1289</th>\n",
       "      <td>les-08</td>\n",
       "      <td>78</td>\n",
       "      <td>accbcp</td>\n",
       "      <td>turtlebot6</td>\n",
       "      <td>185.38</td>\n",
       "      <td>NaN</td>\n",
       "      <td>success</td>\n",
       "      <td>275.27</td>\n",
       "      <td>False</td>\n",
       "      <td>a</td>\n",
       "      <td>c</td>\n",
       "      <td>c</td>\n",
       "      <td>c</td>\n",
       "      <td>b</td>\n",
       "      <td>planned</td>\n",
       "    </tr>\n",
       "    <tr>\n",
       "      <th>1291</th>\n",
       "      <td>les-08</td>\n",
       "      <td>79</td>\n",
       "      <td>acccap</td>\n",
       "      <td>turtlebot3</td>\n",
       "      <td>335.07</td>\n",
       "      <td>NaN</td>\n",
       "      <td>success</td>\n",
       "      <td>515.50</td>\n",
       "      <td>False</td>\n",
       "      <td>a</td>\n",
       "      <td>c</td>\n",
       "      <td>c</td>\n",
       "      <td>a</td>\n",
       "      <td>c</td>\n",
       "      <td>planned</td>\n",
       "    </tr>\n",
       "    <tr>\n",
       "      <th>1293</th>\n",
       "      <td>les-08</td>\n",
       "      <td>80</td>\n",
       "      <td>acccbp</td>\n",
       "      <td>turtlebot6</td>\n",
       "      <td>211.20</td>\n",
       "      <td>NaN</td>\n",
       "      <td>success</td>\n",
       "      <td>313.30</td>\n",
       "      <td>False</td>\n",
       "      <td>a</td>\n",
       "      <td>c</td>\n",
       "      <td>c</td>\n",
       "      <td>b</td>\n",
       "      <td>c</td>\n",
       "      <td>planned</td>\n",
       "    </tr>\n",
       "    <tr>\n",
       "      <th>1295</th>\n",
       "      <td>les-08</td>\n",
       "      <td>81</td>\n",
       "      <td>accccp</td>\n",
       "      <td>turtlebot6</td>\n",
       "      <td>175.82</td>\n",
       "      <td>NaN</td>\n",
       "      <td>success</td>\n",
       "      <td>274.26</td>\n",
       "      <td>False</td>\n",
       "      <td>a</td>\n",
       "      <td>c</td>\n",
       "      <td>c</td>\n",
       "      <td>c</td>\n",
       "      <td>c</td>\n",
       "      <td>planned</td>\n",
       "    </tr>\n",
       "  </tbody>\n",
       "</table>\n",
       "<p>648 rows × 15 columns</p>\n",
       "</div>"
      ],
      "text/plain": [
       "     exec_group  scenario_id    code    executor     ttc  failure_time  \\\n",
       "1        les-01            1  aaaaap  turtlebot2  421.43           NaN   \n",
       "3        les-01            2  aaaabp  turtlebot2  394.38           NaN   \n",
       "5        les-01            3  aaaacp  turtlebot2  213.23           NaN   \n",
       "7        les-01            4  aaabap  turtlebot6  331.75           NaN   \n",
       "9        les-01            5  aaabbp  turtlebot6  204.15           NaN   \n",
       "...         ...          ...     ...         ...     ...           ...   \n",
       "1287     les-08           77  accbbp  turtlebot6  209.98           NaN   \n",
       "1289     les-08           78  accbcp  turtlebot6  185.38           NaN   \n",
       "1291     les-08           79  acccap  turtlebot3  335.07           NaN   \n",
       "1293     les-08           80  acccbp  turtlebot6  211.20           NaN   \n",
       "1295     les-08           81  accccp  turtlebot6  175.82           NaN   \n",
       "\n",
       "     end_state  total_time_wall_clock  has_failure factors_avg_speed  \\\n",
       "1      success                 646.63        False                 a   \n",
       "3      success                 602.57        False                 a   \n",
       "5      success                 320.31        False                 a   \n",
       "7      success                 486.47        False                 a   \n",
       "9      success                 315.29        False                 a   \n",
       "...        ...                    ...          ...               ...   \n",
       "1287   success                 306.30        False                 a   \n",
       "1289   success                 275.27        False                 a   \n",
       "1291   success                 515.50        False                 a   \n",
       "1293   success                 313.30        False                 a   \n",
       "1295   success                 274.26        False                 a   \n",
       "\n",
       "     factors_battery_charge factors_battery_discharge_rate factors_location  \\\n",
       "1                         a                              a                a   \n",
       "3                         a                              a                b   \n",
       "5                         a                              a                c   \n",
       "7                         a                              a                a   \n",
       "9                         a                              a                b   \n",
       "...                     ...                            ...              ...   \n",
       "1287                      c                              c                b   \n",
       "1289                      c                              c                c   \n",
       "1291                      c                              c                a   \n",
       "1293                      c                              c                b   \n",
       "1295                      c                              c                c   \n",
       "\n",
       "     factors_skills treatment  \n",
       "1                 a   planned  \n",
       "3                 a   planned  \n",
       "5                 a   planned  \n",
       "7                 b   planned  \n",
       "9                 b   planned  \n",
       "...             ...       ...  \n",
       "1287              b   planned  \n",
       "1289              b   planned  \n",
       "1291              c   planned  \n",
       "1293              c   planned  \n",
       "1295              c   planned  \n",
       "\n",
       "[648 rows x 15 columns]"
      ]
     },
     "execution_count": 6,
     "metadata": {},
     "output_type": "execute_result"
    }
   ],
   "source": [
    "planned_df = trial_run_df[trial_run_df.treatment == 'planned']\n",
    "planned_df"
   ]
  },
  {
   "cell_type": "code",
   "execution_count": 7,
   "id": "544ca2d2",
   "metadata": {},
   "outputs": [
    {
     "data": {
      "text/plain": [
       "268.49532258064517"
      ]
     },
     "execution_count": 7,
     "metadata": {},
     "output_type": "execute_result"
    }
   ],
   "source": [
    "# Average TCC\n",
    "\n",
    "planned_ttc_avg = planned_df['ttc'].mean()\n",
    "planned_ttc_avg"
   ]
  },
  {
   "cell_type": "code",
   "execution_count": 8,
   "id": "1b7a056b",
   "metadata": {},
   "outputs": [
    {
     "data": {
      "text/plain": [
       "(279.39690140845073,\n",
       " 263.3765671641791,\n",
       " 270.1132857142857,\n",
       " 267.5704109589041,\n",
       " 270.819696969697,\n",
       " 265.1230882352941,\n",
       " 270.3883333333333)"
      ]
     },
     "execution_count": 8,
     "metadata": {},
     "output_type": "execute_result"
    }
   ],
   "source": [
    "# by machine (no trial run dummy aparece o mesmo porque a pasta foi copiada)\n",
    "(planned_df[planned_df.exec_group == 'les-01']['ttc'].mean(),\n",
    "planned_df[planned_df.exec_group == 'les-03']['ttc'].mean(),\n",
    "planned_df[planned_df.exec_group == 'les-04']['ttc'].mean(),\n",
    "planned_df[planned_df.exec_group == 'les-05']['ttc'].mean(),\n",
    "planned_df[planned_df.exec_group == 'les-06']['ttc'].mean(),\n",
    "planned_df[planned_df.exec_group == 'les-07']['ttc'].mean(),\n",
    "planned_df[planned_df.exec_group == 'les-08']['ttc'].mean())"
   ]
  },
  {
   "cell_type": "code",
   "execution_count": 9,
   "id": "4abde928",
   "metadata": {},
   "outputs": [
    {
     "data": {
      "text/plain": [
       "[(278.55255434782606, 262.80322580645156, 264.2836170212766),\n",
       " (276.1551282051282, 278.09030927835056, 248.64272189349114),\n",
       " (413.8902, 239.56568627450977, 190.51696078431377),\n",
       " (276.1551282051282, 278.09030927835056, 248.64272189349114),\n",
       " (306.43392265193364, 245.90486772486776, 254.67994680851064)]"
      ]
     },
     "execution_count": 9,
     "metadata": {},
     "output_type": "execute_result"
    }
   ],
   "source": [
    "# comparing factors (no dummy os fatores não foram distinguidos, porque teria que renomear os arquivos)\n",
    "[(planned_df[planned_df.factors_battery_charge == 'a']['ttc'].mean(),\n",
    " planned_df[planned_df.factors_battery_charge == 'b']['ttc'].mean(),\n",
    " planned_df[planned_df.factors_battery_charge == 'c']['ttc'].mean()),\n",
    "\n",
    "(planned_df[planned_df.factors_battery_discharge_rate == 'a']['ttc'].mean(),\n",
    " planned_df[planned_df.factors_battery_discharge_rate == 'b']['ttc'].mean(),\n",
    " planned_df[planned_df.factors_battery_discharge_rate == 'c']['ttc'].mean()),\n",
    "\n",
    "(planned_df[planned_df.factors_location == 'a']['ttc'].mean(),\n",
    " planned_df[planned_df.factors_location == 'b']['ttc'].mean(),\n",
    " planned_df[planned_df.factors_location == 'c']['ttc'].mean()),\n",
    "\n",
    "(planned_df[planned_df.factors_battery_discharge_rate == 'a']['ttc'].mean(),\n",
    " planned_df[planned_df.factors_battery_discharge_rate == 'b']['ttc'].mean(),\n",
    " planned_df[planned_df.factors_battery_discharge_rate == 'c']['ttc'].mean()),\n",
    "\n",
    "(planned_df[planned_df.factors_skills == 'a']['ttc'].mean(),\n",
    " planned_df[planned_df.factors_skills == 'b']['ttc'].mean(),\n",
    " planned_df[planned_df.factors_skills == 'c']['ttc'].mean())]"
   ]
  },
  {
   "cell_type": "markdown",
   "id": "fdd16a6d",
   "metadata": {},
   "source": [
    "# Statistics"
   ]
  },
  {
   "cell_type": "markdown",
   "id": "11c354fb",
   "metadata": {},
   "source": [
    "## Number of each event\n",
    "i.e. how many times did the simulation achieve each status"
   ]
  },
  {
   "cell_type": "code",
   "execution_count": 10,
   "id": "4e5ca938",
   "metadata": {},
   "outputs": [
    {
     "data": {
      "text/plain": [
       "end_state     treatment\n",
       "low-battery   baseline      97\n",
       "              planned       35\n",
       "no-skill      baseline     175\n",
       "success       baseline     354\n",
       "              planned      558\n",
       "timeout-sim   baseline      18\n",
       "              planned       43\n",
       "timeout-wall  baseline       4\n",
       "              planned       12\n",
       "Name: end_state, dtype: int64"
      ]
     },
     "execution_count": 10,
     "metadata": {},
     "output_type": "execute_result"
    }
   ],
   "source": [
    "by_end_state = trial_run_df.groupby(['end_state', 'treatment'])['end_state']\n",
    "by_end_state.count()\n",
    "# planned_by_end_state_df = planned_df.groupby('end_state')['end_state'].count()\n",
    "# pd.merge(baseline_by_end_state_df, planned_by_end_state_df, on='end_state')"
   ]
  },
  {
   "cell_type": "code",
   "execution_count": 11,
   "id": "b5199f84",
   "metadata": {},
   "outputs": [
    {
     "data": {
      "text/plain": [
       "scenario_id  code    treatment  end_state   \n",
       "1            aaaaab  baseline   low-battery     7\n",
       "                                timeout-wall    1\n",
       "             aaaaap  planned    success         8\n",
       "2            aaaabb  baseline   no-skill        8\n",
       "             aaaabp  planned    success         7\n",
       "                                               ..\n",
       "80           acccbp  planned    success         7\n",
       "                                timeout-sim     1\n",
       "81           accccb  baseline   success         8\n",
       "             accccp  planned    success         6\n",
       "                                timeout-sim     2\n",
       "Name: end_state, Length: 234, dtype: int64"
      ]
     },
     "execution_count": 11,
     "metadata": {},
     "output_type": "execute_result"
    }
   ],
   "source": [
    "trial_run_df.groupby(['scenario_id', 'code', 'treatment'])['end_state'].value_counts()"
   ]
  },
  {
   "cell_type": "markdown",
   "id": "0c5af3c4",
   "metadata": {},
   "source": [
    "## Planned"
   ]
  },
  {
   "cell_type": "code",
   "execution_count": 12,
   "id": "317e161e",
   "metadata": {},
   "outputs": [
    {
     "data": {
      "text/plain": [
       "array([<AxesSubplot:title={'center':'low-battery'}, xlabel='scenario_id'>,\n",
       "       <AxesSubplot:title={'center':'success'}, xlabel='scenario_id'>,\n",
       "       <AxesSubplot:title={'center':'timeout-sim'}, xlabel='scenario_id'>,\n",
       "       <AxesSubplot:title={'center':'timeout-wall'}, xlabel='scenario_id'>],\n",
       "      dtype=object)"
      ]
     },
     "execution_count": 12,
     "metadata": {},
     "output_type": "execute_result"
    },
    {
     "data": {
      "image/png": "[encoded data removed]",
      "text/plain": [
       "<Figure size 1152x576 with 4 Axes>"
      ]
     },
     "metadata": {},
     "output_type": "display_data"
    }
   ],
   "source": [
    "planned_df.groupby(\"scenario_id\")[\"end_state\"].value_counts().unstack().plot.bar(subplots=True, legend=True, \n",
    "                                                                              color={\"success\": \"green\", \n",
    "                                                                                     \"failure-bt\": \"orange\",\n",
    "                                                                                     \"low-battery\": \"blue\",\n",
    "                                                                                     \"timeout-wall\": \"purple\", \n",
    "                                                                                     \"timeout-sim\": \"red\" })"
   ]
  },
  {
   "cell_type": "markdown",
   "id": "5092d737",
   "metadata": {},
   "source": [
    "## Baseline"
   ]
  },
  {
   "cell_type": "code",
   "execution_count": 13,
   "id": "09ed40d3",
   "metadata": {},
   "outputs": [
    {
     "data": {
      "text/plain": [
       "array([<AxesSubplot:title={'center':'low-battery'}, xlabel='scenario_id'>,\n",
       "       <AxesSubplot:title={'center':'no-skill'}, xlabel='scenario_id'>,\n",
       "       <AxesSubplot:title={'center':'success'}, xlabel='scenario_id'>,\n",
       "       <AxesSubplot:title={'center':'timeout-sim'}, xlabel='scenario_id'>,\n",
       "       <AxesSubplot:title={'center':'timeout-wall'}, xlabel='scenario_id'>],\n",
       "      dtype=object)"
      ]
     },
     "execution_count": 13,
     "metadata": {},
     "output_type": "execute_result"
    },
    {
     "data": {
      "image/png": "[encoded data removed]",
      "text/plain": [
       "<Figure size 1152x576 with 5 Axes>"
      ]
     },
     "metadata": {},
     "output_type": "display_data"
    }
   ],
   "source": [
    "baseline_df.groupby(\"scenario_id\")[\"end_state\"].value_counts().unstack().plot.bar(subplots=True, legend=True,\n",
    "                                                                               color={\"success\": \"green\", \n",
    "                                                                                      \"no-skill\": \"orange\", \n",
    "                                                                                      \"timeout-sim\": \"red\",\n",
    "                                                                                      \"low-battery\": \"blue\",\n",
    "                                                                                      \"timeout-wall\": \"purple\"})"
   ]
  },
  {
   "cell_type": "markdown",
   "id": "9197b5a2",
   "metadata": {},
   "source": [
    "## Time to Conclusion"
   ]
  },
  {
   "cell_type": "code",
   "execution_count": 14,
   "id": "72a8087b",
   "metadata": {},
   "outputs": [
    {
     "data": {
      "text/plain": [
       "array([<AxesSubplot:title={'center':'baseline'}, xlabel='scenario_id'>,\n",
       "       <AxesSubplot:title={'center':'planned'}, xlabel='scenario_id'>],\n",
       "      dtype=object)"
      ]
     },
     "execution_count": 14,
     "metadata": {},
     "output_type": "execute_result"
    },
    {
     "data": {
      "image/png": "[encoded data removed]",
      "text/plain": [
       "<Figure size 1152x576 with 2 Axes>"
      ]
     },
     "metadata": {},
     "output_type": "display_data"
    }
   ],
   "source": [
    "trial_run_df.groupby([\"scenario_id\", \"treatment\"])[\"ttc\"].mean().unstack().plot.bar(subplots=True, legend=True)"
   ]
  },
  {
   "cell_type": "code",
   "execution_count": 15,
   "id": "6909d4e6",
   "metadata": {},
   "outputs": [
    {
     "data": {
      "text/plain": [
       "<AxesSubplot:xlabel='scenario_id', ylabel='ttc'>"
      ]
     },
     "execution_count": 15,
     "metadata": {},
     "output_type": "execute_result"
    },
    {
     "data": {
      "image/png": "[encoded data removed]",
      "text/plain": [
       "<Figure size 1152x576 with 1 Axes>"
      ]
     },
     "metadata": {},
     "output_type": "display_data"
    }
   ],
   "source": [
    "sns.boxplot(x=\"scenario_id\", y=\"ttc\", hue=\"treatment\", data=trial_run_df)"
   ]
  },
  {
   "cell_type": "code",
   "execution_count": 16,
   "id": "upset-guess",
   "metadata": {},
   "outputs": [
    {
     "data": {
      "text/plain": [
       "<AxesSubplot:xlabel='scenario_id', ylabel='ttc'>"
      ]
     },
     "execution_count": 16,
     "metadata": {},
     "output_type": "execute_result"
    },
    {
     "data": {
      "image/png": "[encoded data removed]",
      "text/plain": [
       "<Figure size 1152x576 with 1 Axes>"
      ]
     },
     "metadata": {},
     "output_type": "display_data"
    }
   ],
   "source": [
    "sns.boxplot(x=\"scenario_id\", y=\"ttc\", hue=\"treatment\", data=trial_run_df[trial_run_df.scenario_id < 30])"
   ]
  },
  {
   "cell_type": "code",
   "execution_count": 17,
   "id": "suffering-professor",
   "metadata": {},
   "outputs": [
    {
     "data": {
      "text/plain": [
       "<AxesSubplot:xlabel='scenario_id', ylabel='ttc'>"
      ]
     },
     "execution_count": 17,
     "metadata": {},
     "output_type": "execute_result"
    },
    {
     "data": {
      "image/png": "[encoded data removed]",
      "text/plain": [
       "<Figure size 1152x576 with 1 Axes>"
      ]
     },
     "metadata": {},
     "output_type": "display_data"
    }
   ],
   "source": [
    "sns.boxplot(x=\"scenario_id\", y=\"ttc\", hue=\"treatment\", data=trial_run_df[trial_run_df.scenario_id < 10])"
   ]
  },
  {
   "cell_type": "code",
   "execution_count": 18,
   "id": "b086495e-85a9-4bc9-b994-fddd62468f81",
   "metadata": {},
   "outputs": [
    {
     "data": {
      "text/plain": [
       "scenario_id  treatment  executor    end_state  \n",
       "1            baseline   turtlebot4  low-battery    7\n",
       "             planned    turtlebot2  success        7\n",
       "2            baseline   turtlebot6  no-skill       8\n",
       "             planned    turtlebot2  success        7\n",
       "                                    timeout-sim    1\n",
       "                                                  ..\n",
       "80           planned    turtlebot6  success        7\n",
       "                                    timeout-sim    1\n",
       "81           baseline   turtlebot2  success        8\n",
       "             planned    turtlebot6  success        6\n",
       "                                    timeout-sim    2\n",
       "Name: end_state, Length: 212, dtype: int64"
      ]
     },
     "execution_count": 18,
     "metadata": {},
     "output_type": "execute_result"
    }
   ],
   "source": [
    "trial_run_df.groupby([\"scenario_id\", \"treatment\", \"executor\"])['end_state'].value_counts()"
   ]
  },
  {
   "cell_type": "markdown",
   "id": "d6e8899c",
   "metadata": {},
   "source": [
    "## STD"
   ]
  },
  {
   "cell_type": "code",
   "execution_count": 19,
   "id": "eac67749",
   "metadata": {},
   "outputs": [
    {
     "data": {
      "text/plain": [
       "array([<AxesSubplot:title={'center':'baseline'}, xlabel='scenario_id'>,\n",
       "       <AxesSubplot:title={'center':'planned'}, xlabel='scenario_id'>],\n",
       "      dtype=object)"
      ]
     },
     "execution_count": 19,
     "metadata": {},
     "output_type": "execute_result"
    },
    {
     "data": {
      "image/png": "[encoded data removed]",
      "text/plain": [
       "<Figure size 1152x576 with 2 Axes>"
      ]
     },
     "metadata": {},
     "output_type": "display_data"
    }
   ],
   "source": [
    "trial_run_df.groupby([\"scenario_id\", \"treatment\"])[\"ttc\"].std().unstack().plot.bar(subplots=True, legend=True)"
   ]
  },
  {
   "cell_type": "code",
   "execution_count": 20,
   "id": "eb1ce629",
   "metadata": {},
   "outputs": [
    {
     "data": {
      "text/plain": [
       "<AxesSubplot:xlabel='scenario_id'>"
      ]
     },
     "execution_count": 20,
     "metadata": {},
     "output_type": "execute_result"
    },
    {
     "data": {
      "image/png": "[encoded data removed]",
      "text/plain": [
       "<Figure size 1152x576 with 1 Axes>"
      ]
     },
     "metadata": {},
     "output_type": "display_data"
    }
   ],
   "source": [
    "trial_run_df.groupby([\"scenario_id\", \"treatment\"])[\"ttc\"].std().unstack().plot.bar(legend=True)"
   ]
  },
  {
   "cell_type": "code",
   "execution_count": 21,
   "id": "44745fae",
   "metadata": {},
   "outputs": [
    {
     "data": {
      "text/html": [
       "<div>\n",
       "<style scoped>\n",
       "    .dataframe tbody tr th:only-of-type {\n",
       "        vertical-align: middle;\n",
       "    }\n",
       "\n",
       "    .dataframe tbody tr th {\n",
       "        vertical-align: top;\n",
       "    }\n",
       "\n",
       "    .dataframe thead th {\n",
       "        text-align: right;\n",
       "    }\n",
       "</style>\n",
       "<table border=\"1\" class=\"dataframe\">\n",
       "  <thead>\n",
       "    <tr style=\"text-align: right;\">\n",
       "      <th>treatment</th>\n",
       "      <th>baseline</th>\n",
       "      <th>planned</th>\n",
       "    </tr>\n",
       "    <tr>\n",
       "      <th>scenario_id</th>\n",
       "      <th></th>\n",
       "      <th></th>\n",
       "    </tr>\n",
       "  </thead>\n",
       "  <tbody>\n",
       "    <tr>\n",
       "      <th>1</th>\n",
       "      <td>NaN</td>\n",
       "      <td>21.373245</td>\n",
       "    </tr>\n",
       "    <tr>\n",
       "      <th>2</th>\n",
       "      <td>NaN</td>\n",
       "      <td>5.175854</td>\n",
       "    </tr>\n",
       "    <tr>\n",
       "      <th>3</th>\n",
       "      <td>NaN</td>\n",
       "      <td>2.778607</td>\n",
       "    </tr>\n",
       "    <tr>\n",
       "      <th>4</th>\n",
       "      <td>15.534089</td>\n",
       "      <td>103.473376</td>\n",
       "    </tr>\n",
       "    <tr>\n",
       "      <th>5</th>\n",
       "      <td>3.700135</td>\n",
       "      <td>3.793445</td>\n",
       "    </tr>\n",
       "    <tr>\n",
       "      <th>...</th>\n",
       "      <td>...</td>\n",
       "      <td>...</td>\n",
       "    </tr>\n",
       "    <tr>\n",
       "      <th>77</th>\n",
       "      <td>NaN</td>\n",
       "      <td>4.755962</td>\n",
       "    </tr>\n",
       "    <tr>\n",
       "      <th>78</th>\n",
       "      <td>NaN</td>\n",
       "      <td>11.818658</td>\n",
       "    </tr>\n",
       "    <tr>\n",
       "      <th>79</th>\n",
       "      <td>60.341103</td>\n",
       "      <td>15.790224</td>\n",
       "    </tr>\n",
       "    <tr>\n",
       "      <th>80</th>\n",
       "      <td>2.425525</td>\n",
       "      <td>4.195998</td>\n",
       "    </tr>\n",
       "    <tr>\n",
       "      <th>81</th>\n",
       "      <td>4.417691</td>\n",
       "      <td>3.716771</td>\n",
       "    </tr>\n",
       "  </tbody>\n",
       "</table>\n",
       "<p>81 rows × 2 columns</p>\n",
       "</div>"
      ],
      "text/plain": [
       "treatment     baseline     planned\n",
       "scenario_id                       \n",
       "1                  NaN   21.373245\n",
       "2                  NaN    5.175854\n",
       "3                  NaN    2.778607\n",
       "4            15.534089  103.473376\n",
       "5             3.700135    3.793445\n",
       "...                ...         ...\n",
       "77                 NaN    4.755962\n",
       "78                 NaN   11.818658\n",
       "79           60.341103   15.790224\n",
       "80            2.425525    4.195998\n",
       "81            4.417691    3.716771\n",
       "\n",
       "[81 rows x 2 columns]"
      ]
     },
     "execution_count": 21,
     "metadata": {},
     "output_type": "execute_result"
    }
   ],
   "source": [
    "trial_run_df.groupby([\"scenario_id\", \"treatment\"])[\"ttc\"].std().unstack()"
   ]
  },
  {
   "cell_type": "markdown",
   "id": "5e46b555",
   "metadata": {},
   "source": [
    "# Plots"
   ]
  },
  {
   "cell_type": "markdown",
   "id": "ada11d25",
   "metadata": {},
   "source": [
    "## Successes per trial"
   ]
  },
  {
   "cell_type": "code",
   "execution_count": 22,
   "id": "aa240275",
   "metadata": {},
   "outputs": [],
   "source": [
    "successes = trial_run_df[trial_run_df.end_state == \"success\"]\n",
    "counts = successes.groupby([\"scenario_id\", \"treatment\"])[\"end_state\"].count().to_frame().reset_index()"
   ]
  },
  {
   "cell_type": "code",
   "execution_count": 23,
   "id": "6891824d",
   "metadata": {},
   "outputs": [
    {
     "data": {
      "text/plain": [
       "array([<AxesSubplot:title={'center':'baseline'}, xlabel='scenario_id'>,\n",
       "       <AxesSubplot:title={'center':'planned'}, xlabel='scenario_id'>],\n",
       "      dtype=object)"
      ]
     },
     "execution_count": 23,
     "metadata": {},
     "output_type": "execute_result"
    },
    {
     "data": {
      "image/png": "[encoded data removed]",
      "text/plain": [
       "<Figure size 1152x576 with 2 Axes>"
      ]
     },
     "metadata": {},
     "output_type": "display_data"
    }
   ],
   "source": [
    "successes.groupby([\"scenario_id\", \"treatment\"])[\"end_state\"].count().unstack().plot.bar(subplots=True, legend=True)"
   ]
  },
  {
   "cell_type": "markdown",
   "id": "innovative-kazakhstan",
   "metadata": {},
   "source": [
    "## 10 first successes boxplot"
   ]
  },
  {
   "cell_type": "code",
   "execution_count": 24,
   "id": "looking-sleeve",
   "metadata": {},
   "outputs": [
    {
     "data": {
      "text/html": [
       "<div>\n",
       "<style scoped>\n",
       "    .dataframe tbody tr th:only-of-type {\n",
       "        vertical-align: middle;\n",
       "    }\n",
       "\n",
       "    .dataframe tbody tr th {\n",
       "        vertical-align: top;\n",
       "    }\n",
       "\n",
       "    .dataframe thead th {\n",
       "        text-align: right;\n",
       "    }\n",
       "</style>\n",
       "<table border=\"1\" class=\"dataframe\">\n",
       "  <thead>\n",
       "    <tr style=\"text-align: right;\">\n",
       "      <th></th>\n",
       "      <th>exec_group</th>\n",
       "      <th>scenario_id</th>\n",
       "      <th>code</th>\n",
       "      <th>executor</th>\n",
       "      <th>ttc</th>\n",
       "      <th>failure_time</th>\n",
       "      <th>end_state</th>\n",
       "      <th>total_time_wall_clock</th>\n",
       "      <th>has_failure</th>\n",
       "      <th>factors_avg_speed</th>\n",
       "      <th>factors_battery_charge</th>\n",
       "      <th>factors_battery_discharge_rate</th>\n",
       "      <th>factors_location</th>\n",
       "      <th>factors_skills</th>\n",
       "      <th>treatment</th>\n",
       "    </tr>\n",
       "  </thead>\n",
       "  <tbody>\n",
       "    <tr>\n",
       "      <th>6</th>\n",
       "      <td>les-01</td>\n",
       "      <td>4</td>\n",
       "      <td>aaabab</td>\n",
       "      <td>turtlebot5</td>\n",
       "      <td>490.72</td>\n",
       "      <td>NaN</td>\n",
       "      <td>success</td>\n",
       "      <td>680.66</td>\n",
       "      <td>False</td>\n",
       "      <td>a</td>\n",
       "      <td>a</td>\n",
       "      <td>a</td>\n",
       "      <td>a</td>\n",
       "      <td>b</td>\n",
       "      <td>baseline</td>\n",
       "    </tr>\n",
       "    <tr>\n",
       "      <th>7</th>\n",
       "      <td>les-01</td>\n",
       "      <td>4</td>\n",
       "      <td>aaabap</td>\n",
       "      <td>turtlebot6</td>\n",
       "      <td>331.75</td>\n",
       "      <td>NaN</td>\n",
       "      <td>success</td>\n",
       "      <td>486.47</td>\n",
       "      <td>False</td>\n",
       "      <td>a</td>\n",
       "      <td>a</td>\n",
       "      <td>a</td>\n",
       "      <td>a</td>\n",
       "      <td>b</td>\n",
       "      <td>planned</td>\n",
       "    </tr>\n",
       "    <tr>\n",
       "      <th>8</th>\n",
       "      <td>les-01</td>\n",
       "      <td>5</td>\n",
       "      <td>aaabbb</td>\n",
       "      <td>turtlebot6</td>\n",
       "      <td>208.30</td>\n",
       "      <td>NaN</td>\n",
       "      <td>success</td>\n",
       "      <td>296.29</td>\n",
       "      <td>False</td>\n",
       "      <td>a</td>\n",
       "      <td>a</td>\n",
       "      <td>a</td>\n",
       "      <td>b</td>\n",
       "      <td>b</td>\n",
       "      <td>baseline</td>\n",
       "    </tr>\n",
       "    <tr>\n",
       "      <th>9</th>\n",
       "      <td>les-01</td>\n",
       "      <td>5</td>\n",
       "      <td>aaabbp</td>\n",
       "      <td>turtlebot6</td>\n",
       "      <td>204.15</td>\n",
       "      <td>NaN</td>\n",
       "      <td>success</td>\n",
       "      <td>315.29</td>\n",
       "      <td>False</td>\n",
       "      <td>a</td>\n",
       "      <td>a</td>\n",
       "      <td>a</td>\n",
       "      <td>b</td>\n",
       "      <td>b</td>\n",
       "      <td>planned</td>\n",
       "    </tr>\n",
       "    <tr>\n",
       "      <th>10</th>\n",
       "      <td>les-01</td>\n",
       "      <td>6</td>\n",
       "      <td>aaabcb</td>\n",
       "      <td>turtlebot6</td>\n",
       "      <td>176.85</td>\n",
       "      <td>NaN</td>\n",
       "      <td>success</td>\n",
       "      <td>271.26</td>\n",
       "      <td>False</td>\n",
       "      <td>a</td>\n",
       "      <td>a</td>\n",
       "      <td>a</td>\n",
       "      <td>c</td>\n",
       "      <td>b</td>\n",
       "      <td>baseline</td>\n",
       "    </tr>\n",
       "    <tr>\n",
       "      <th>...</th>\n",
       "      <td>...</td>\n",
       "      <td>...</td>\n",
       "      <td>...</td>\n",
       "      <td>...</td>\n",
       "      <td>...</td>\n",
       "      <td>...</td>\n",
       "      <td>...</td>\n",
       "      <td>...</td>\n",
       "      <td>...</td>\n",
       "      <td>...</td>\n",
       "      <td>...</td>\n",
       "      <td>...</td>\n",
       "      <td>...</td>\n",
       "      <td>...</td>\n",
       "      <td>...</td>\n",
       "    </tr>\n",
       "    <tr>\n",
       "      <th>1291</th>\n",
       "      <td>les-08</td>\n",
       "      <td>79</td>\n",
       "      <td>acccap</td>\n",
       "      <td>turtlebot3</td>\n",
       "      <td>335.07</td>\n",
       "      <td>NaN</td>\n",
       "      <td>success</td>\n",
       "      <td>515.50</td>\n",
       "      <td>False</td>\n",
       "      <td>a</td>\n",
       "      <td>c</td>\n",
       "      <td>c</td>\n",
       "      <td>a</td>\n",
       "      <td>c</td>\n",
       "      <td>planned</td>\n",
       "    </tr>\n",
       "    <tr>\n",
       "      <th>1292</th>\n",
       "      <td>les-08</td>\n",
       "      <td>80</td>\n",
       "      <td>acccbb</td>\n",
       "      <td>turtlebot3</td>\n",
       "      <td>430.25</td>\n",
       "      <td>NaN</td>\n",
       "      <td>success</td>\n",
       "      <td>653.62</td>\n",
       "      <td>False</td>\n",
       "      <td>a</td>\n",
       "      <td>c</td>\n",
       "      <td>c</td>\n",
       "      <td>b</td>\n",
       "      <td>c</td>\n",
       "      <td>baseline</td>\n",
       "    </tr>\n",
       "    <tr>\n",
       "      <th>1293</th>\n",
       "      <td>les-08</td>\n",
       "      <td>80</td>\n",
       "      <td>acccbp</td>\n",
       "      <td>turtlebot6</td>\n",
       "      <td>211.20</td>\n",
       "      <td>NaN</td>\n",
       "      <td>success</td>\n",
       "      <td>313.30</td>\n",
       "      <td>False</td>\n",
       "      <td>a</td>\n",
       "      <td>c</td>\n",
       "      <td>c</td>\n",
       "      <td>b</td>\n",
       "      <td>c</td>\n",
       "      <td>planned</td>\n",
       "    </tr>\n",
       "    <tr>\n",
       "      <th>1294</th>\n",
       "      <td>les-08</td>\n",
       "      <td>81</td>\n",
       "      <td>accccb</td>\n",
       "      <td>turtlebot2</td>\n",
       "      <td>222.02</td>\n",
       "      <td>NaN</td>\n",
       "      <td>success</td>\n",
       "      <td>331.32</td>\n",
       "      <td>False</td>\n",
       "      <td>a</td>\n",
       "      <td>c</td>\n",
       "      <td>c</td>\n",
       "      <td>c</td>\n",
       "      <td>c</td>\n",
       "      <td>baseline</td>\n",
       "    </tr>\n",
       "    <tr>\n",
       "      <th>1295</th>\n",
       "      <td>les-08</td>\n",
       "      <td>81</td>\n",
       "      <td>accccp</td>\n",
       "      <td>turtlebot6</td>\n",
       "      <td>175.82</td>\n",
       "      <td>NaN</td>\n",
       "      <td>success</td>\n",
       "      <td>274.26</td>\n",
       "      <td>False</td>\n",
       "      <td>a</td>\n",
       "      <td>c</td>\n",
       "      <td>c</td>\n",
       "      <td>c</td>\n",
       "      <td>c</td>\n",
       "      <td>planned</td>\n",
       "    </tr>\n",
       "  </tbody>\n",
       "</table>\n",
       "<p>752 rows × 15 columns</p>\n",
       "</div>"
      ],
      "text/plain": [
       "     exec_group  scenario_id    code    executor     ttc  failure_time  \\\n",
       "6        les-01            4  aaabab  turtlebot5  490.72           NaN   \n",
       "7        les-01            4  aaabap  turtlebot6  331.75           NaN   \n",
       "8        les-01            5  aaabbb  turtlebot6  208.30           NaN   \n",
       "9        les-01            5  aaabbp  turtlebot6  204.15           NaN   \n",
       "10       les-01            6  aaabcb  turtlebot6  176.85           NaN   \n",
       "...         ...          ...     ...         ...     ...           ...   \n",
       "1291     les-08           79  acccap  turtlebot3  335.07           NaN   \n",
       "1292     les-08           80  acccbb  turtlebot3  430.25           NaN   \n",
       "1293     les-08           80  acccbp  turtlebot6  211.20           NaN   \n",
       "1294     les-08           81  accccb  turtlebot2  222.02           NaN   \n",
       "1295     les-08           81  accccp  turtlebot6  175.82           NaN   \n",
       "\n",
       "     end_state  total_time_wall_clock  has_failure factors_avg_speed  \\\n",
       "6      success                 680.66        False                 a   \n",
       "7      success                 486.47        False                 a   \n",
       "8      success                 296.29        False                 a   \n",
       "9      success                 315.29        False                 a   \n",
       "10     success                 271.26        False                 a   \n",
       "...        ...                    ...          ...               ...   \n",
       "1291   success                 515.50        False                 a   \n",
       "1292   success                 653.62        False                 a   \n",
       "1293   success                 313.30        False                 a   \n",
       "1294   success                 331.32        False                 a   \n",
       "1295   success                 274.26        False                 a   \n",
       "\n",
       "     factors_battery_charge factors_battery_discharge_rate factors_location  \\\n",
       "6                         a                              a                a   \n",
       "7                         a                              a                a   \n",
       "8                         a                              a                b   \n",
       "9                         a                              a                b   \n",
       "10                        a                              a                c   \n",
       "...                     ...                            ...              ...   \n",
       "1291                      c                              c                a   \n",
       "1292                      c                              c                b   \n",
       "1293                      c                              c                b   \n",
       "1294                      c                              c                c   \n",
       "1295                      c                              c                c   \n",
       "\n",
       "     factors_skills treatment  \n",
       "6                 b  baseline  \n",
       "7                 b   planned  \n",
       "8                 b  baseline  \n",
       "9                 b   planned  \n",
       "10                b  baseline  \n",
       "...             ...       ...  \n",
       "1291              c   planned  \n",
       "1292              c  baseline  \n",
       "1293              c   planned  \n",
       "1294              c  baseline  \n",
       "1295              c   planned  \n",
       "\n",
       "[752 rows x 15 columns]"
      ]
     },
     "execution_count": 24,
     "metadata": {},
     "output_type": "execute_result"
    }
   ],
   "source": [
    "both_trials_succcess = successes.groupby([\"scenario_id\", \"treatment\"])[\"end_state\"].count().unstack()\n",
    "both_trials_succcess = both_trials_succcess[(both_trials_succcess.baseline > 0) & (both_trials_succcess.planned > 0)].reset_index()\n",
    "both_trials_succcess = trial_run_df[trial_run_df['scenario_id'].isin(both_trials_succcess.scenario_id)]\n",
    "both_trials_succcess"
   ]
  },
  {
   "cell_type": "code",
   "execution_count": 27,
   "id": "featured-commissioner",
   "metadata": {},
   "outputs": [
    {
     "data": {
      "text/plain": [
       "<AxesSubplot:xlabel='scenario_id', ylabel='ttc'>"
      ]
     },
     "execution_count": 27,
     "metadata": {},
     "output_type": "execute_result"
    },
    {
     "data": {
      "image/png": "[encoded data removed]",
      "text/plain": [
       "<Figure size 1152x576 with 1 Axes>"
      ]
     },
     "metadata": {},
     "output_type": "display_data"
    }
   ],
   "source": [
    "sns.boxplot(x=\"scenario_id\", y=\"ttc\", hue=\"treatment\", data=both_trials_succcess[both_trials_succcess.scenario_id < 20])"
   ]
  },
  {
   "cell_type": "markdown",
   "id": "8260bb00",
   "metadata": {},
   "source": [
    "### Average time to reach target"
   ]
  },
  {
   "cell_type": "code",
   "execution_count": 28,
   "id": "cb4b846e",
   "metadata": {},
   "outputs": [
    {
     "data": {
      "text/plain": [
       "array([<AxesSubplot:title={'center':'baseline'}, xlabel='scenario_id'>,\n",
       "       <AxesSubplot:title={'center':'planned'}, xlabel='scenario_id'>],\n",
       "      dtype=object)"
      ]
     },
     "execution_count": 28,
     "metadata": {},
     "output_type": "execute_result"
    },
    {
     "data": {
      "image/png": "[encoded data removed]",
      "text/plain": [
       "<Figure size 1152x576 with 2 Axes>"
      ]
     },
     "metadata": {},
     "output_type": "display_data"
    }
   ],
   "source": [
    "successes.groupby([\"scenario_id\", \"treatment\"])[\"ttc\"].mean().unstack().plot.bar(subplots=True, legend=True, figsize=(16,8))"
   ]
  },
  {
   "cell_type": "code",
   "execution_count": 29,
   "id": "8dccdad3",
   "metadata": {},
   "outputs": [
    {
     "data": {
      "text/plain": [
       "<AxesSubplot:xlabel='scenario_id', ylabel='ttc'>"
      ]
     },
     "execution_count": 29,
     "metadata": {},
     "output_type": "execute_result"
    },
    {
     "data": {
      "image/png": "[encoded data removed]",
      "text/plain": [
       "<Figure size 1152x576 with 1 Axes>"
      ]
     },
     "metadata": {},
     "output_type": "display_data"
    }
   ],
   "source": [
    "#successes.groupby([\"scenario_id\", \"treatment\"])[\"ttc\"].mean().unstack().plot.bar(legend=True, figsize=(16,8))\n",
    "sns.scatterplot(x=\"scenario_id\", y=\"ttc\", hue=\"treatment\", data=successes)"
   ]
  },
  {
   "cell_type": "markdown",
   "id": "altered-isaac",
   "metadata": {},
   "source": [
    "# Adaptation Space"
   ]
  },
  {
   "cell_type": "code",
   "execution_count": null,
   "id": "convenient-forestry",
   "metadata": {},
   "outputs": [],
   "source": []
  },
  {
   "cell_type": "markdown",
   "id": "e6bb3294",
   "metadata": {},
   "source": [
    "# Factors"
   ]
  },
  {
   "cell_type": "code",
   "execution_count": 30,
   "id": "b1b7a30d",
   "metadata": {},
   "outputs": [
    {
     "data": {
      "text/plain": [
       "factors_avg_speed  treatment  end_state   \n",
       "a                  baseline   success         354\n",
       "                              no-skill        175\n",
       "                              low-battery      97\n",
       "                              timeout-sim      18\n",
       "                              timeout-wall      4\n",
       "                   planned    success         558\n",
       "                              timeout-sim      43\n",
       "                              low-battery      35\n",
       "                              timeout-wall     12\n",
       "Name: end_state, dtype: int64"
      ]
     },
     "execution_count": 30,
     "metadata": {},
     "output_type": "execute_result"
    }
   ],
   "source": [
    "trial_run_df.groupby([\"factors_avg_speed\", \"treatment\"])[\"end_state\"].value_counts()"
   ]
  },
  {
   "cell_type": "code",
   "execution_count": 31,
   "id": "7231072b",
   "metadata": {},
   "outputs": [
    {
     "data": {
      "text/plain": [
       "factors_battery_charge  treatment  end_state   \n",
       "a                       baseline   success         109\n",
       "                                   low-battery      65\n",
       "                                   no-skill         38\n",
       "                                   timeout-sim       2\n",
       "                                   timeout-wall      2\n",
       "                        planned    success         184\n",
       "                                   low-battery      25\n",
       "                                   timeout-sim       5\n",
       "                                   timeout-wall      2\n",
       "b                       baseline   success         117\n",
       "                                   no-skill         68\n",
       "                                   low-battery      20\n",
       "                                   timeout-sim      10\n",
       "                                   timeout-wall      1\n",
       "                        planned    success         186\n",
       "                                   timeout-sim      18\n",
       "                                   low-battery       6\n",
       "                                   timeout-wall      6\n",
       "c                       baseline   success         128\n",
       "                                   no-skill         69\n",
       "                                   low-battery      12\n",
       "                                   timeout-sim       6\n",
       "                                   timeout-wall      1\n",
       "                        planned    success         188\n",
       "                                   timeout-sim      20\n",
       "                                   low-battery       4\n",
       "                                   timeout-wall      4\n",
       "Name: end_state, dtype: int64"
      ]
     },
     "execution_count": 31,
     "metadata": {},
     "output_type": "execute_result"
    }
   ],
   "source": [
    "trial_run_df.groupby([\"factors_battery_charge\", \"treatment\"])[\"end_state\"].value_counts()"
   ]
  },
  {
   "cell_type": "code",
   "execution_count": 32,
   "id": "b9b1eb1d",
   "metadata": {},
   "outputs": [
    {
     "data": {
      "text/plain": [
       "factors_battery_discharge_rate  treatment  end_state   \n",
       "a                               baseline   success         138\n",
       "                                           no-skill         54\n",
       "                                           low-battery      17\n",
       "                                           timeout-sim       5\n",
       "                                           timeout-wall      2\n",
       "                                planned    success         195\n",
       "                                           timeout-sim      11\n",
       "                                           low-battery       6\n",
       "                                           timeout-wall      4\n",
       "b                               baseline   success         114\n",
       "                                           low-battery      61\n",
       "                                           no-skill         40\n",
       "                                           timeout-sim       1\n",
       "                                planned    success         194\n",
       "                                           timeout-sim      15\n",
       "                                           low-battery       6\n",
       "                                           timeout-wall      1\n",
       "c                               baseline   success         102\n",
       "                                           no-skill         81\n",
       "                                           low-battery      19\n",
       "                                           timeout-sim      12\n",
       "                                           timeout-wall      2\n",
       "                                planned    success         169\n",
       "                                           low-battery      23\n",
       "                                           timeout-sim      17\n",
       "                                           timeout-wall      7\n",
       "Name: end_state, dtype: int64"
      ]
     },
     "execution_count": 32,
     "metadata": {},
     "output_type": "execute_result"
    }
   ],
   "source": [
    "trial_run_df.groupby([\"factors_battery_discharge_rate\", \"treatment\"])[\"end_state\"].value_counts()"
   ]
  },
  {
   "cell_type": "code",
   "execution_count": 33,
   "id": "5a666dfe",
   "metadata": {},
   "outputs": [
    {
     "data": {
      "text/plain": [
       "factors_skills  treatment  end_state   \n",
       "a               baseline   no-skill        120\n",
       "                           success          54\n",
       "                           low-battery      34\n",
       "                           timeout-sim       5\n",
       "                           timeout-wall      3\n",
       "                planned    success         181\n",
       "                           timeout-sim      17\n",
       "                           low-battery      12\n",
       "                           timeout-wall      6\n",
       "b               baseline   success         135\n",
       "                           no-skill         55\n",
       "                           low-battery      20\n",
       "                           timeout-sim       5\n",
       "                           timeout-wall      1\n",
       "                planned    success         189\n",
       "                           low-battery      12\n",
       "                           timeout-sim      12\n",
       "                           timeout-wall      3\n",
       "c               baseline   success         165\n",
       "                           low-battery      43\n",
       "                           timeout-sim       8\n",
       "                planned    success         188\n",
       "                           timeout-sim      14\n",
       "                           low-battery      11\n",
       "                           timeout-wall      3\n",
       "Name: end_state, dtype: int64"
      ]
     },
     "execution_count": 33,
     "metadata": {},
     "output_type": "execute_result"
    }
   ],
   "source": [
    "trial_run_df.groupby([\"factors_skills\", \"treatment\"])[\"end_state\"].value_counts()"
   ]
  },
  {
   "cell_type": "code",
   "execution_count": 34,
   "id": "42656ceb",
   "metadata": {},
   "outputs": [
    {
     "data": {
      "text/plain": [
       "factors_location  treatment  end_state   \n",
       "a                 baseline   success          90\n",
       "                             low-battery      68\n",
       "                             no-skill         45\n",
       "                             timeout-sim      11\n",
       "                             timeout-wall      2\n",
       "                  planned    success         150\n",
       "                             low-battery      32\n",
       "                             timeout-sim      28\n",
       "                             timeout-wall      6\n",
       "b                 baseline   success         132\n",
       "                             no-skill         69\n",
       "                             low-battery      12\n",
       "                             timeout-sim       2\n",
       "                             timeout-wall      1\n",
       "                  planned    success         204\n",
       "                             timeout-sim       6\n",
       "                             timeout-wall      4\n",
       "                             low-battery       2\n",
       "c                 baseline   success         132\n",
       "                             no-skill         61\n",
       "                             low-battery      17\n",
       "                             timeout-sim       5\n",
       "                             timeout-wall      1\n",
       "                  planned    success         204\n",
       "                             timeout-sim       9\n",
       "                             timeout-wall      2\n",
       "                             low-battery       1\n",
       "Name: end_state, dtype: int64"
      ]
     },
     "execution_count": 34,
     "metadata": {},
     "output_type": "execute_result"
    }
   ],
   "source": [
    "trial_run_df.groupby([\"factors_location\", \"treatment\"])[\"end_state\"].value_counts()"
   ]
  },
  {
   "cell_type": "markdown",
   "id": "8a9c01d5",
   "metadata": {},
   "source": [
    "## Time by factor"
   ]
  },
  {
   "cell_type": "code",
   "execution_count": 35,
   "id": "1fd28265",
   "metadata": {},
   "outputs": [
    {
     "data": {
      "text/plain": [
       "<AxesSubplot:xlabel='factors_battery_charge', ylabel='ttc'>"
      ]
     },
     "execution_count": 35,
     "metadata": {},
     "output_type": "execute_result"
    },
    {
     "data": {
      "image/png": "[encoded data removed]",
      "text/plain": [
       "<Figure size 1152x576 with 1 Axes>"
      ]
     },
     "metadata": {},
     "output_type": "display_data"
    }
   ],
   "source": [
    "sns.boxplot(x=\"factors_battery_charge\", y=\"ttc\", hue=\"treatment\", data=trial_run_df)"
   ]
  },
  {
   "cell_type": "code",
   "execution_count": 36,
   "id": "9921b812",
   "metadata": {},
   "outputs": [
    {
     "data": {
      "text/plain": [
       "<AxesSubplot:xlabel='factors_battery_discharge_rate', ylabel='ttc'>"
      ]
     },
     "execution_count": 36,
     "metadata": {},
     "output_type": "execute_result"
    },
    {
     "data": {
      "image/png": "[encoded data removed]",
      "text/plain": [
       "<Figure size 1152x576 with 1 Axes>"
      ]
     },
     "metadata": {},
     "output_type": "display_data"
    }
   ],
   "source": [
    "sns.boxplot(x=\"factors_battery_discharge_rate\", y=\"ttc\", hue=\"treatment\", data=trial_run_df)"
   ]
  },
  {
   "cell_type": "code",
   "execution_count": 37,
   "id": "b7891532",
   "metadata": {},
   "outputs": [
    {
     "data": {
      "text/plain": [
       "<AxesSubplot:xlabel='factors_skills', ylabel='ttc'>"
      ]
     },
     "execution_count": 37,
     "metadata": {},
     "output_type": "execute_result"
    },
    {
     "data": {
      "image/png": "[encoded data removed]",
      "text/plain": [
       "<Figure size 1152x576 with 1 Axes>"
      ]
     },
     "metadata": {},
     "output_type": "display_data"
    }
   ],
   "source": [
    "sns.boxplot(x=\"factors_skills\", y=\"ttc\", hue=\"treatment\", data=trial_run_df)"
   ]
  },
  {
   "cell_type": "code",
   "execution_count": 38,
   "id": "5755db47",
   "metadata": {},
   "outputs": [
    {
     "data": {
      "text/plain": [
       "<AxesSubplot:xlabel='factors_location', ylabel='ttc'>"
      ]
     },
     "execution_count": 38,
     "metadata": {},
     "output_type": "execute_result"
    },
    {
     "data": {
      "image/png": "[encoded data removed]",
      "text/plain": [
       "<Figure size 1152x576 with 1 Axes>"
      ]
     },
     "metadata": {},
     "output_type": "display_data"
    }
   ],
   "source": [
    "sns.boxplot(x=\"factors_location\", y=\"ttc\", hue=\"treatment\", data=trial_run_df)"
   ]
  },
  {
   "cell_type": "markdown",
   "id": "d45e9dd9",
   "metadata": {},
   "source": [
    "# Metrics\n",
    "## Metric1 - Success"
   ]
  },
  {
   "cell_type": "code",
   "execution_count": 39,
   "id": "b56e9518",
   "metadata": {},
   "outputs": [],
   "source": [
    "planned_suc = successes[successes.treatment == \"planned\"].groupby(\"scenario_id\")[\"end_state\"].count()\n",
    "baseline_suc = successes[successes.treatment == \"baseline\"].groupby(\"scenario_id\")[\"end_state\"].count()"
   ]
  },
  {
   "cell_type": "code",
   "execution_count": 40,
   "id": "c49c9e2e",
   "metadata": {},
   "outputs": [
    {
     "data": {
      "text/plain": [
       "1.576271186440678"
      ]
     },
     "execution_count": 40,
     "metadata": {},
     "output_type": "execute_result"
    }
   ],
   "source": [
    "metric1 = sum(planned_suc)/sum(baseline_suc)\n",
    "metric1"
   ]
  },
  {
   "cell_type": "markdown",
   "id": "6e217e52",
   "metadata": {},
   "source": [
    "## Metric2 - TTC"
   ]
  },
  {
   "cell_type": "code",
   "execution_count": 41,
   "id": "a5463516",
   "metadata": {},
   "outputs": [],
   "source": [
    "planned_ttc = successes[successes.treatment == \"planned\"].groupby(\"scenario_id\")[\"ttc\"].mean()\n",
    "baseline_ttc = successes[successes.treatment == \"baseline\"].groupby(\"scenario_id\")[\"ttc\"].mean()"
   ]
  },
  {
   "cell_type": "code",
   "execution_count": 42,
   "id": "a1fb7851",
   "metadata": {},
   "outputs": [
    {
     "data": {
      "text/plain": [
       "scenario_id\n",
       "1          NaN\n",
       "2          NaN\n",
       "3          NaN\n",
       "4     0.927112\n",
       "5     1.006694\n",
       "        ...   \n",
       "77         NaN\n",
       "78         NaN\n",
       "79    0.946462\n",
       "80    0.481131\n",
       "81    0.805439\n",
       "Name: ttc, Length: 80, dtype: float64"
      ]
     },
     "execution_count": 42,
     "metadata": {},
     "output_type": "execute_result"
    }
   ],
   "source": [
    "metric2 = planned_ttc / baseline_ttc\n",
    "metric2"
   ]
  },
  {
   "cell_type": "code",
   "execution_count": 43,
   "id": "02e6d715",
   "metadata": {},
   "outputs": [
    {
     "data": {
      "text/plain": [
       "<AxesSubplot:xlabel='scenario_id'>"
      ]
     },
     "execution_count": 43,
     "metadata": {},
     "output_type": "execute_result"
    },
    {
     "data": {
      "image/png": "[encoded data removed]",
      "text/plain": [
       "<Figure size 1152x576 with 1 Axes>"
      ]
     },
     "metadata": {},
     "output_type": "display_data"
    }
   ],
   "source": [
    "metric2.plot.bar(figsize=(16, 8))"
   ]
  },
  {
   "cell_type": "code",
   "execution_count": 44,
   "id": "e4a61fe4",
   "metadata": {},
   "outputs": [
    {
     "data": {
      "text/plain": [
       "0.830693001964429"
      ]
     },
     "execution_count": 44,
     "metadata": {},
     "output_type": "execute_result"
    }
   ],
   "source": [
    "metric2.mean()"
   ]
  },
  {
   "cell_type": "markdown",
   "id": "5a63f1e4",
   "metadata": {},
   "source": [
    "## Metric 3 - Battery"
   ]
  },
  {
   "cell_type": "code",
   "execution_count": 45,
   "id": "420db8ca",
   "metadata": {},
   "outputs": [
    {
     "data": {
      "text/plain": [
       "scenario_id\n",
       "1      7\n",
       "4      2\n",
       "7      8\n",
       "9      1\n",
       "10     8\n",
       "12     8\n",
       "13     1\n",
       "15     1\n",
       "16     8\n",
       "18     8\n",
       "19     8\n",
       "22    15\n",
       "25     7\n",
       "26     8\n",
       "32     1\n",
       "37     8\n",
       "40     9\n",
       "43     5\n",
       "47     2\n",
       "49     1\n",
       "55     3\n",
       "62     1\n",
       "64     1\n",
       "65     1\n",
       "67     1\n",
       "70     8\n",
       "77     1\n",
       "Name: end_state, dtype: int64"
      ]
     },
     "execution_count": 45,
     "metadata": {},
     "output_type": "execute_result"
    }
   ],
   "source": [
    "battery = trial_run_df[trial_run_df.end_state == \"low-battery\"]\n",
    "battery.groupby(\"scenario_id\")[\"end_state\"].count()"
   ]
  },
  {
   "cell_type": "code",
   "execution_count": 46,
   "id": "395af06a",
   "metadata": {},
   "outputs": [
    {
     "data": {
      "text/plain": [
       "scenario_id  end_state  \n",
       "4            low-battery    2\n",
       "9            low-battery    1\n",
       "19           low-battery    8\n",
       "22           low-battery    7\n",
       "25           low-battery    7\n",
       "32           low-battery    1\n",
       "40           low-battery    1\n",
       "43           low-battery    3\n",
       "49           low-battery    1\n",
       "55           low-battery    2\n",
       "64           low-battery    1\n",
       "65           low-battery    1\n",
       "Name: end_state, dtype: int64"
      ]
     },
     "execution_count": 46,
     "metadata": {},
     "output_type": "execute_result"
    }
   ],
   "source": [
    "planned_battery = battery[battery.treatment == \"planned\"].groupby(\"scenario_id\")[\"end_state\"].value_counts()\n",
    "planned_battery"
   ]
  },
  {
   "cell_type": "code",
   "execution_count": 47,
   "id": "776ed4d7",
   "metadata": {},
   "outputs": [
    {
     "data": {
      "text/plain": [
       "scenario_id  end_state  \n",
       "1            low-battery    7\n",
       "7            low-battery    8\n",
       "10           low-battery    8\n",
       "12           low-battery    8\n",
       "13           low-battery    1\n",
       "15           low-battery    1\n",
       "16           low-battery    8\n",
       "18           low-battery    8\n",
       "22           low-battery    8\n",
       "26           low-battery    8\n",
       "37           low-battery    8\n",
       "40           low-battery    8\n",
       "43           low-battery    2\n",
       "47           low-battery    2\n",
       "55           low-battery    1\n",
       "62           low-battery    1\n",
       "67           low-battery    1\n",
       "70           low-battery    8\n",
       "77           low-battery    1\n",
       "Name: end_state, dtype: int64"
      ]
     },
     "execution_count": 47,
     "metadata": {},
     "output_type": "execute_result"
    }
   ],
   "source": [
    "baseline_battery = battery[battery.treatment == \"baseline\"].groupby(\"scenario_id\")[\"end_state\"].value_counts()\n",
    "baseline_battery"
   ]
  },
  {
   "cell_type": "code",
   "execution_count": 48,
   "id": "8e071413",
   "metadata": {},
   "outputs": [
    {
     "data": {
      "text/plain": [
       "0.36082474226804123"
      ]
     },
     "execution_count": 48,
     "metadata": {},
     "output_type": "execute_result"
    }
   ],
   "source": [
    "metric3 = sum(planned_battery) / sum(baseline_battery)\n",
    "metric3"
   ]
  },
  {
   "cell_type": "markdown",
   "id": "found-cathedral",
   "metadata": {},
   "source": [
    "# Metric 4 Utility"
   ]
  },
  {
   "cell_type": "code",
   "execution_count": 81,
   "id": "prescription-bracket",
   "metadata": {},
   "outputs": [
    {
     "data": {
      "text/plain": [
       "70"
      ]
     },
     "execution_count": 81,
     "metadata": {},
     "output_type": "execute_result"
    }
   ],
   "source": [
    "suc_by_scenario_treatment = successes.groupby([\"scenario_id\", \"treatment\"])[\"end_state\"].count().unstack()\n",
    "metric4 = 0\n",
    "for scen_id, scen_suc in suc_by_scenario_treatment.iterrows():\n",
    "    if scen_suc.planned >= 1 and np.isnan(scen_suc.baseline):\n",
    "        metric4 += 1\n",
    "    elif metric2[scen_id] < 1:\n",
    "        metric4 += 1\n",
    "metric4"
   ]
  },
  {
   "cell_type": "markdown",
   "id": "quick-gabriel",
   "metadata": {},
   "source": [
    "# T-test"
   ]
  },
  {
   "cell_type": "code",
   "execution_count": 51,
   "id": "regulation-rebate",
   "metadata": {},
   "outputs": [
    {
     "data": {
      "text/plain": [
       "Ttest_indResult(statistic=-6.773231273520563, pvalue=2.2579375138455955e-11)"
      ]
     },
     "execution_count": 51,
     "metadata": {},
     "output_type": "execute_result"
    }
   ],
   "source": [
    "stats.ttest_ind(successes[successes.treatment == \"planned\"]['ttc'], successes[successes.treatment == \"baseline\"]['ttc'])"
   ]
  },
  {
   "cell_type": "code",
   "execution_count": 52,
   "id": "agricultural-array",
   "metadata": {},
   "outputs": [
    {
     "data": {
      "text/plain": [
       "Ttest_indResult(statistic=-2.3977225599090835, pvalue=0.017976567965261335)"
      ]
     },
     "execution_count": 52,
     "metadata": {},
     "output_type": "execute_result"
    }
   ],
   "source": [
    "stats.ttest_ind(counts[counts.treatment == \"planned\"]['end_state'], counts[counts.treatment == \"baseline\"]['end_state'])"
   ]
  },
  {
   "cell_type": "markdown",
   "id": "collaborative-prophet",
   "metadata": {},
   "source": [
    "## TTC Distribution"
   ]
  },
  {
   "cell_type": "code",
   "execution_count": 53,
   "id": "written-distance",
   "metadata": {},
   "outputs": [
    {
     "data": {
      "image/png": "[encoded data removed]",
      "text/plain": [
       "<Figure size 1152x576 with 1 Axes>"
      ]
     },
     "metadata": {},
     "output_type": "display_data"
    }
   ],
   "source": [
    "pdist = stats.t(successes[successes.treatment == \"planned\"]['ttc'])\n",
    "bdist = stats.t(successes[successes.treatment == \"baseline\"]['ttc'])\n",
    "x1 = np.linspace(pdist.ppf(0.001), pdist.ppf(0.999), 1000)\n",
    "x2 = np.linspace(bdist.ppf(0.001), bdist.ppf(0.999), 1000)\n",
    "plt.plot(x1, pdist.pdf(x1), '-')\n",
    "plt.plot(x2, bdist.pdf(x2), '--')\n",
    "pass"
   ]
  },
  {
   "cell_type": "code",
   "execution_count": 54,
   "id": "bright-radio",
   "metadata": {},
   "outputs": [
    {
     "data": {
      "image/png": "[encoded data removed]",
      "text/plain": [
       "<Figure size 1152x576 with 1 Axes>"
      ]
     },
     "metadata": {},
     "output_type": "display_data"
    }
   ],
   "source": [
    "pdist = stats.t(counts[counts.treatment == \"planned\"]['end_state'])\n",
    "bdist = stats.t(counts[counts.treatment == \"baseline\"]['end_state'])\n",
    "x1 = np.linspace(pdist.ppf(0.01), pdist.ppf(0.99), 1000)\n",
    "x2 = np.linspace(bdist.ppf(0.01), bdist.ppf(0.99), 1000)\n",
    "plt.plot(x1, pdist.pdf(x1), '-')\n",
    "plt.plot(x2, bdist.pdf(x2), '--')\n",
    "pass"
   ]
  }
 ],
 "metadata": {
  "interpreter": {
   "hash": "6a9074120e93e453c0437e01fdceb6c59be14e77f9d51ff6bb2c84aeee0e8b9d"
  },
  "kernelspec": {
   "display_name": "Python 3",
   "language": "python",
   "name": "python3"
  },
  "language_info": {
   "codemirror_mode": {
    "name": "ipython",
    "version": 3
   },
   "file_extension": ".py",
   "mimetype": "text/x-python",
   "name": "python",
   "nbconvert_exporter": "python",
   "pygments_lexer": "ipython3",
   "version": "3.9.2"
  }
 },
 "nbformat": 4,
 "nbformat_minor": 5
}
