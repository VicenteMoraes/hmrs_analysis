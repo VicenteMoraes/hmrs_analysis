{
 "cells": [
  {
   "cell_type": "markdown",
   "id": "196f6046",
   "metadata": {},
   "source": [
    "# Load data "
   ]
  },
  {
   "cell_type": "code",
   "execution_count": 18,
   "id": "1e5697e9",
   "metadata": {},
   "outputs": [
    {
     "name": "stdout",
     "output_type": "stream",
     "text": [
      "file experiment with wrong name format:\n",
      "not enough values to unpack (expected 2, got 1)\n",
      "ignoring experiment\n",
      "file experiment with wrong name format:\n",
      "not enough values to unpack (expected 2, got 1)\n",
      "ignoring experiment\n",
      "file experiment with wrong name format:\n",
      "not enough values to unpack (expected 2, got 1)\n",
      "ignoring experiment\n",
      "file experiment with wrong name format:\n",
      "not enough values to unpack (expected 2, got 1)\n",
      "ignoring experiment\n",
      "file experiment with wrong name format:\n",
      "not enough values to unpack (expected 2, got 1)\n",
      "ignoring experiment\n",
      "file experiment with wrong name format:\n",
      "not enough values to unpack (expected 2, got 1)\n",
      "ignoring experiment\n",
      "file experiment with wrong name format:\n",
      "not enough values to unpack (expected 2, got 1)\n",
      "ignoring experiment\n",
      "file experiment with wrong name format:\n",
      "not enough values to unpack (expected 2, got 1)\n",
      "ignoring experiment\n"
     ]
    }
   ],
   "source": [
    "import sys\n",
    "sys.path.append('../src')\n",
    "\n",
    "import pandas as pd\n",
    "import numpy as np\n",
    "import matplotlib.pyplot as plt\n",
    "import seaborn as sns\n",
    "\n",
    "from parse_logs import parser\n",
    "from parse_logs.parse_base import LogDir\n",
    "\n",
    "sns.set(rc={\"figure.figsize\":(16, 8)})\n",
    "# parser.root_data_path = '../tests/data'\n",
    "#trial_run_objects = parser.get_trial_runs(\n",
    "#    exp_run_code='experiment_2021_04_01_16_20_00_run_1')\n",
    "\n",
    "LogDir.base_data_path = '../data'\n",
    "\n",
    "# load trials run to dict (it can take a while)\n",
    "trial_run_objects = parser.get_trial_runs(\n",
    "    exec_code='experiment_2021_07_16_16_16_05_run_1')\n",
    "trial_run_dicts = [trial_run.to_dict() for trial_run in trial_run_objects]"
   ]
  },
  {
   "cell_type": "code",
   "execution_count": 17,
   "id": "4d643231",
   "metadata": {},
   "outputs": [
    {
     "data": {
      "text/html": [
       "<div>\n",
       "<style scoped>\n",
       "    .dataframe tbody tr th:only-of-type {\n",
       "        vertical-align: middle;\n",
       "    }\n",
       "\n",
       "    .dataframe tbody tr th {\n",
       "        vertical-align: top;\n",
       "    }\n",
       "\n",
       "    .dataframe thead th {\n",
       "        text-align: right;\n",
       "    }\n",
       "</style>\n",
       "<table border=\"1\" class=\"dataframe\">\n",
       "  <thead>\n",
       "    <tr style=\"text-align: right;\">\n",
       "      <th></th>\n",
       "      <th>trial_id</th>\n",
       "      <th>code</th>\n",
       "      <th>machine</th>\n",
       "      <th>treatment</th>\n",
       "      <th>ttc</th>\n",
       "      <th>failure_time</th>\n",
       "      <th>end_state</th>\n",
       "      <th>total_time_wall_clock</th>\n",
       "      <th>has_failure</th>\n",
       "      <th>factors_avg_speed</th>\n",
       "      <th>factors_battery_charge</th>\n",
       "      <th>factors_battery_discharge_rate</th>\n",
       "      <th>factors_skills</th>\n",
       "      <th>factors_location</th>\n",
       "    </tr>\n",
       "  </thead>\n",
       "  <tbody>\n",
       "    <tr>\n",
       "      <th>0</th>\n",
       "      <td>1</td>\n",
       "      <td>aaaaap</td>\n",
       "      <td>les-02</td>\n",
       "      <td>planned</td>\n",
       "      <td>532.683333</td>\n",
       "      <td>NaN</td>\n",
       "      <td>reach-target</td>\n",
       "      <td>678.756781</td>\n",
       "      <td>False</td>\n",
       "      <td>a</td>\n",
       "      <td>a</td>\n",
       "      <td>a</td>\n",
       "      <td>a</td>\n",
       "      <td>a</td>\n",
       "    </tr>\n",
       "    <tr>\n",
       "      <th>1</th>\n",
       "      <td>1</td>\n",
       "      <td>aaaaab</td>\n",
       "      <td>les-02</td>\n",
       "      <td>baseline</td>\n",
       "      <td>NaN</td>\n",
       "      <td>NaN</td>\n",
       "      <td>timeout-sim</td>\n",
       "      <td>1105.196014</td>\n",
       "      <td>False</td>\n",
       "      <td>a</td>\n",
       "      <td>a</td>\n",
       "      <td>a</td>\n",
       "      <td>a</td>\n",
       "      <td>a</td>\n",
       "    </tr>\n",
       "    <tr>\n",
       "      <th>2</th>\n",
       "      <td>1</td>\n",
       "      <td>aaaaap</td>\n",
       "      <td>les-05</td>\n",
       "      <td>planned</td>\n",
       "      <td>495.766667</td>\n",
       "      <td>NaN</td>\n",
       "      <td>reach-target</td>\n",
       "      <td>610.652392</td>\n",
       "      <td>False</td>\n",
       "      <td>a</td>\n",
       "      <td>a</td>\n",
       "      <td>a</td>\n",
       "      <td>a</td>\n",
       "      <td>a</td>\n",
       "    </tr>\n",
       "    <tr>\n",
       "      <th>3</th>\n",
       "      <td>1</td>\n",
       "      <td>aaaaab</td>\n",
       "      <td>les-05</td>\n",
       "      <td>baseline</td>\n",
       "      <td>424.266667</td>\n",
       "      <td>NaN</td>\n",
       "      <td>reach-target</td>\n",
       "      <td>559.581255</td>\n",
       "      <td>False</td>\n",
       "      <td>a</td>\n",
       "      <td>a</td>\n",
       "      <td>a</td>\n",
       "      <td>a</td>\n",
       "      <td>a</td>\n",
       "    </tr>\n",
       "    <tr>\n",
       "      <th>4</th>\n",
       "      <td>1</td>\n",
       "      <td>aaaaap</td>\n",
       "      <td>les-04</td>\n",
       "      <td>planned</td>\n",
       "      <td>466.116667</td>\n",
       "      <td>NaN</td>\n",
       "      <td>reach-target</td>\n",
       "      <td>580.636589</td>\n",
       "      <td>False</td>\n",
       "      <td>a</td>\n",
       "      <td>a</td>\n",
       "      <td>a</td>\n",
       "      <td>a</td>\n",
       "      <td>a</td>\n",
       "    </tr>\n",
       "    <tr>\n",
       "      <th>...</th>\n",
       "      <td>...</td>\n",
       "      <td>...</td>\n",
       "      <td>...</td>\n",
       "      <td>...</td>\n",
       "      <td>...</td>\n",
       "      <td>...</td>\n",
       "      <td>...</td>\n",
       "      <td>...</td>\n",
       "      <td>...</td>\n",
       "      <td>...</td>\n",
       "      <td>...</td>\n",
       "      <td>...</td>\n",
       "      <td>...</td>\n",
       "      <td>...</td>\n",
       "    </tr>\n",
       "    <tr>\n",
       "      <th>1274</th>\n",
       "      <td>81</td>\n",
       "      <td>accccp</td>\n",
       "      <td>les-08</td>\n",
       "      <td>planned</td>\n",
       "      <td>NaN</td>\n",
       "      <td>NaN</td>\n",
       "      <td>timeout-sim</td>\n",
       "      <td>1103.245536</td>\n",
       "      <td>False</td>\n",
       "      <td>a</td>\n",
       "      <td>c</td>\n",
       "      <td>c</td>\n",
       "      <td>c</td>\n",
       "      <td>c</td>\n",
       "    </tr>\n",
       "    <tr>\n",
       "      <th>1275</th>\n",
       "      <td>81</td>\n",
       "      <td>accccb</td>\n",
       "      <td>les-06</td>\n",
       "      <td>baseline</td>\n",
       "      <td>200.716667</td>\n",
       "      <td>NaN</td>\n",
       "      <td>reach-target</td>\n",
       "      <td>238.238989</td>\n",
       "      <td>False</td>\n",
       "      <td>a</td>\n",
       "      <td>c</td>\n",
       "      <td>c</td>\n",
       "      <td>c</td>\n",
       "      <td>c</td>\n",
       "    </tr>\n",
       "    <tr>\n",
       "      <th>1276</th>\n",
       "      <td>81</td>\n",
       "      <td>accccp</td>\n",
       "      <td>les-06</td>\n",
       "      <td>planned</td>\n",
       "      <td>358.650000</td>\n",
       "      <td>NaN</td>\n",
       "      <td>reach-target</td>\n",
       "      <td>421.440350</td>\n",
       "      <td>False</td>\n",
       "      <td>a</td>\n",
       "      <td>c</td>\n",
       "      <td>c</td>\n",
       "      <td>c</td>\n",
       "      <td>c</td>\n",
       "    </tr>\n",
       "    <tr>\n",
       "      <th>1277</th>\n",
       "      <td>81</td>\n",
       "      <td>accccb</td>\n",
       "      <td>les-07</td>\n",
       "      <td>baseline</td>\n",
       "      <td>194.400000</td>\n",
       "      <td>NaN</td>\n",
       "      <td>reach-target</td>\n",
       "      <td>235.240533</td>\n",
       "      <td>False</td>\n",
       "      <td>a</td>\n",
       "      <td>c</td>\n",
       "      <td>c</td>\n",
       "      <td>c</td>\n",
       "      <td>c</td>\n",
       "    </tr>\n",
       "    <tr>\n",
       "      <th>1278</th>\n",
       "      <td>81</td>\n",
       "      <td>accccp</td>\n",
       "      <td>les-07</td>\n",
       "      <td>planned</td>\n",
       "      <td>370.283333</td>\n",
       "      <td>NaN</td>\n",
       "      <td>reach-target</td>\n",
       "      <td>431.460369</td>\n",
       "      <td>False</td>\n",
       "      <td>a</td>\n",
       "      <td>c</td>\n",
       "      <td>c</td>\n",
       "      <td>c</td>\n",
       "      <td>c</td>\n",
       "    </tr>\n",
       "  </tbody>\n",
       "</table>\n",
       "<p>1279 rows × 14 columns</p>\n",
       "</div>"
      ],
      "text/plain": [
       "      trial_id    code machine treatment         ttc  failure_time  \\\n",
       "0            1  aaaaap  les-02   planned  532.683333           NaN   \n",
       "1            1  aaaaab  les-02  baseline         NaN           NaN   \n",
       "2            1  aaaaap  les-05   planned  495.766667           NaN   \n",
       "3            1  aaaaab  les-05  baseline  424.266667           NaN   \n",
       "4            1  aaaaap  les-04   planned  466.116667           NaN   \n",
       "...        ...     ...     ...       ...         ...           ...   \n",
       "1274        81  accccp  les-08   planned         NaN           NaN   \n",
       "1275        81  accccb  les-06  baseline  200.716667           NaN   \n",
       "1276        81  accccp  les-06   planned  358.650000           NaN   \n",
       "1277        81  accccb  les-07  baseline  194.400000           NaN   \n",
       "1278        81  accccp  les-07   planned  370.283333           NaN   \n",
       "\n",
       "         end_state  total_time_wall_clock  has_failure factors_avg_speed  \\\n",
       "0     reach-target             678.756781        False                 a   \n",
       "1      timeout-sim            1105.196014        False                 a   \n",
       "2     reach-target             610.652392        False                 a   \n",
       "3     reach-target             559.581255        False                 a   \n",
       "4     reach-target             580.636589        False                 a   \n",
       "...            ...                    ...          ...               ...   \n",
       "1274   timeout-sim            1103.245536        False                 a   \n",
       "1275  reach-target             238.238989        False                 a   \n",
       "1276  reach-target             421.440350        False                 a   \n",
       "1277  reach-target             235.240533        False                 a   \n",
       "1278  reach-target             431.460369        False                 a   \n",
       "\n",
       "     factors_battery_charge factors_battery_discharge_rate factors_skills  \\\n",
       "0                         a                              a              a   \n",
       "1                         a                              a              a   \n",
       "2                         a                              a              a   \n",
       "3                         a                              a              a   \n",
       "4                         a                              a              a   \n",
       "...                     ...                            ...            ...   \n",
       "1274                      c                              c              c   \n",
       "1275                      c                              c              c   \n",
       "1276                      c                              c              c   \n",
       "1277                      c                              c              c   \n",
       "1278                      c                              c              c   \n",
       "\n",
       "     factors_location  \n",
       "0                   a  \n",
       "1                   a  \n",
       "2                   a  \n",
       "3                   a  \n",
       "4                   a  \n",
       "...               ...  \n",
       "1274                c  \n",
       "1275                c  \n",
       "1276                c  \n",
       "1277                c  \n",
       "1278                c  \n",
       "\n",
       "[1279 rows x 14 columns]"
      ]
     },
     "execution_count": 17,
     "metadata": {},
     "output_type": "execute_result"
    }
   ],
   "source": [
    "# sort and instantiate a dataframe\n",
    "trial_run_dicts.sort(key=lambda tr: tr['trial_id'])\n",
    "trial_run_dicts\n",
    "\n",
    "trial_run_df = pd.DataFrame.from_records(trial_run_dicts)\n",
    "trial_run_df"
   ]
  },
  {
   "cell_type": "markdown",
   "id": "0cfd5dde",
   "metadata": {},
   "source": [
    "## Baseline"
   ]
  },
  {
   "cell_type": "code",
   "execution_count": null,
   "id": "0b26a803",
   "metadata": {},
   "outputs": [
    {
     "data": {
      "text/html": [
       "<div>\n",
       "<style scoped>\n",
       "    .dataframe tbody tr th:only-of-type {\n",
       "        vertical-align: middle;\n",
       "    }\n",
       "\n",
       "    .dataframe tbody tr th {\n",
       "        vertical-align: top;\n",
       "    }\n",
       "\n",
       "    .dataframe thead th {\n",
       "        text-align: right;\n",
       "    }\n",
       "</style>\n",
       "<table border=\"1\" class=\"dataframe\">\n",
       "  <thead>\n",
       "    <tr style=\"text-align: right;\">\n",
       "      <th></th>\n",
       "      <th>trial_id</th>\n",
       "      <th>code</th>\n",
       "      <th>machine</th>\n",
       "      <th>treatment</th>\n",
       "      <th>ttc</th>\n",
       "      <th>failure_time</th>\n",
       "      <th>end_state</th>\n",
       "      <th>total_time_wall_clock</th>\n",
       "      <th>has_failure</th>\n",
       "      <th>factors_avg_speed</th>\n",
       "      <th>factors_battery_charge</th>\n",
       "      <th>factors_battery_discharge_rate</th>\n",
       "      <th>factors_skills</th>\n",
       "      <th>factors_location</th>\n",
       "    </tr>\n",
       "  </thead>\n",
       "  <tbody>\n",
       "    <tr>\n",
       "      <th>0</th>\n",
       "      <td>1</td>\n",
       "      <td>aaaaab</td>\n",
       "      <td>les-06</td>\n",
       "      <td>baseline</td>\n",
       "      <td>556.233333</td>\n",
       "      <td>NaN</td>\n",
       "      <td>reach-target</td>\n",
       "      <td>735.794799</td>\n",
       "      <td>False</td>\n",
       "      <td>a</td>\n",
       "      <td>a</td>\n",
       "      <td>a</td>\n",
       "      <td>a</td>\n",
       "      <td>a</td>\n",
       "    </tr>\n",
       "    <tr>\n",
       "      <th>1</th>\n",
       "      <td>1</td>\n",
       "      <td>aaaaab</td>\n",
       "      <td>les-05</td>\n",
       "      <td>baseline</td>\n",
       "      <td>424.266667</td>\n",
       "      <td>NaN</td>\n",
       "      <td>reach-target</td>\n",
       "      <td>559.581255</td>\n",
       "      <td>False</td>\n",
       "      <td>a</td>\n",
       "      <td>a</td>\n",
       "      <td>a</td>\n",
       "      <td>a</td>\n",
       "      <td>a</td>\n",
       "    </tr>\n",
       "    <tr>\n",
       "      <th>3</th>\n",
       "      <td>1</td>\n",
       "      <td>aaaaab</td>\n",
       "      <td>les-04</td>\n",
       "      <td>baseline</td>\n",
       "      <td>379.300000</td>\n",
       "      <td>NaN</td>\n",
       "      <td>reach-target</td>\n",
       "      <td>519.533063</td>\n",
       "      <td>False</td>\n",
       "      <td>a</td>\n",
       "      <td>a</td>\n",
       "      <td>a</td>\n",
       "      <td>a</td>\n",
       "      <td>a</td>\n",
       "    </tr>\n",
       "    <tr>\n",
       "      <th>5</th>\n",
       "      <td>1</td>\n",
       "      <td>aaaaab</td>\n",
       "      <td>les-03</td>\n",
       "      <td>baseline</td>\n",
       "      <td>396.950000</td>\n",
       "      <td>NaN</td>\n",
       "      <td>reach-target</td>\n",
       "      <td>532.560485</td>\n",
       "      <td>False</td>\n",
       "      <td>a</td>\n",
       "      <td>a</td>\n",
       "      <td>a</td>\n",
       "      <td>a</td>\n",
       "      <td>a</td>\n",
       "    </tr>\n",
       "    <tr>\n",
       "      <th>8</th>\n",
       "      <td>1</td>\n",
       "      <td>aaaaab</td>\n",
       "      <td>les-08</td>\n",
       "      <td>baseline</td>\n",
       "      <td>347.616667</td>\n",
       "      <td>NaN</td>\n",
       "      <td>reach-target</td>\n",
       "      <td>469.486996</td>\n",
       "      <td>False</td>\n",
       "      <td>a</td>\n",
       "      <td>a</td>\n",
       "      <td>a</td>\n",
       "      <td>a</td>\n",
       "      <td>a</td>\n",
       "    </tr>\n",
       "    <tr>\n",
       "      <th>...</th>\n",
       "      <td>...</td>\n",
       "      <td>...</td>\n",
       "      <td>...</td>\n",
       "      <td>...</td>\n",
       "      <td>...</td>\n",
       "      <td>...</td>\n",
       "      <td>...</td>\n",
       "      <td>...</td>\n",
       "      <td>...</td>\n",
       "      <td>...</td>\n",
       "      <td>...</td>\n",
       "      <td>...</td>\n",
       "      <td>...</td>\n",
       "      <td>...</td>\n",
       "    </tr>\n",
       "    <tr>\n",
       "      <th>1188</th>\n",
       "      <td>81</td>\n",
       "      <td>accccb</td>\n",
       "      <td>les-04</td>\n",
       "      <td>baseline</td>\n",
       "      <td>189.916667</td>\n",
       "      <td>NaN</td>\n",
       "      <td>reach-target</td>\n",
       "      <td>239.252352</td>\n",
       "      <td>False</td>\n",
       "      <td>a</td>\n",
       "      <td>c</td>\n",
       "      <td>c</td>\n",
       "      <td>c</td>\n",
       "      <td>c</td>\n",
       "    </tr>\n",
       "    <tr>\n",
       "      <th>1189</th>\n",
       "      <td>81</td>\n",
       "      <td>accccb</td>\n",
       "      <td>les-03</td>\n",
       "      <td>baseline</td>\n",
       "      <td>204.066667</td>\n",
       "      <td>NaN</td>\n",
       "      <td>reach-target</td>\n",
       "      <td>245.249477</td>\n",
       "      <td>False</td>\n",
       "      <td>a</td>\n",
       "      <td>c</td>\n",
       "      <td>c</td>\n",
       "      <td>c</td>\n",
       "      <td>c</td>\n",
       "    </tr>\n",
       "    <tr>\n",
       "      <th>1191</th>\n",
       "      <td>81</td>\n",
       "      <td>accccb</td>\n",
       "      <td>les-02</td>\n",
       "      <td>baseline</td>\n",
       "      <td>191.566667</td>\n",
       "      <td>NaN</td>\n",
       "      <td>reach-target</td>\n",
       "      <td>227.230592</td>\n",
       "      <td>False</td>\n",
       "      <td>a</td>\n",
       "      <td>c</td>\n",
       "      <td>c</td>\n",
       "      <td>c</td>\n",
       "      <td>c</td>\n",
       "    </tr>\n",
       "    <tr>\n",
       "      <th>1192</th>\n",
       "      <td>81</td>\n",
       "      <td>accccb</td>\n",
       "      <td>les-08</td>\n",
       "      <td>baseline</td>\n",
       "      <td>190.883333</td>\n",
       "      <td>NaN</td>\n",
       "      <td>reach-target</td>\n",
       "      <td>239.242548</td>\n",
       "      <td>False</td>\n",
       "      <td>a</td>\n",
       "      <td>c</td>\n",
       "      <td>c</td>\n",
       "      <td>c</td>\n",
       "      <td>c</td>\n",
       "    </tr>\n",
       "    <tr>\n",
       "      <th>1194</th>\n",
       "      <td>81</td>\n",
       "      <td>accccb</td>\n",
       "      <td>les-07</td>\n",
       "      <td>baseline</td>\n",
       "      <td>194.400000</td>\n",
       "      <td>NaN</td>\n",
       "      <td>reach-target</td>\n",
       "      <td>235.240533</td>\n",
       "      <td>False</td>\n",
       "      <td>a</td>\n",
       "      <td>c</td>\n",
       "      <td>c</td>\n",
       "      <td>c</td>\n",
       "      <td>c</td>\n",
       "    </tr>\n",
       "  </tbody>\n",
       "</table>\n",
       "<p>628 rows × 14 columns</p>\n",
       "</div>"
      ],
      "text/plain": [
       "      trial_id    code machine treatment         ttc  failure_time  \\\n",
       "0            1  aaaaab  les-06  baseline  556.233333           NaN   \n",
       "1            1  aaaaab  les-05  baseline  424.266667           NaN   \n",
       "3            1  aaaaab  les-04  baseline  379.300000           NaN   \n",
       "5            1  aaaaab  les-03  baseline  396.950000           NaN   \n",
       "8            1  aaaaab  les-08  baseline  347.616667           NaN   \n",
       "...        ...     ...     ...       ...         ...           ...   \n",
       "1188        81  accccb  les-04  baseline  189.916667           NaN   \n",
       "1189        81  accccb  les-03  baseline  204.066667           NaN   \n",
       "1191        81  accccb  les-02  baseline  191.566667           NaN   \n",
       "1192        81  accccb  les-08  baseline  190.883333           NaN   \n",
       "1194        81  accccb  les-07  baseline  194.400000           NaN   \n",
       "\n",
       "         end_state  total_time_wall_clock  has_failure factors_avg_speed  \\\n",
       "0     reach-target             735.794799        False                 a   \n",
       "1     reach-target             559.581255        False                 a   \n",
       "3     reach-target             519.533063        False                 a   \n",
       "5     reach-target             532.560485        False                 a   \n",
       "8     reach-target             469.486996        False                 a   \n",
       "...            ...                    ...          ...               ...   \n",
       "1188  reach-target             239.252352        False                 a   \n",
       "1189  reach-target             245.249477        False                 a   \n",
       "1191  reach-target             227.230592        False                 a   \n",
       "1192  reach-target             239.242548        False                 a   \n",
       "1194  reach-target             235.240533        False                 a   \n",
       "\n",
       "     factors_battery_charge factors_battery_discharge_rate factors_skills  \\\n",
       "0                         a                              a              a   \n",
       "1                         a                              a              a   \n",
       "3                         a                              a              a   \n",
       "5                         a                              a              a   \n",
       "8                         a                              a              a   \n",
       "...                     ...                            ...            ...   \n",
       "1188                      c                              c              c   \n",
       "1189                      c                              c              c   \n",
       "1191                      c                              c              c   \n",
       "1192                      c                              c              c   \n",
       "1194                      c                              c              c   \n",
       "\n",
       "     factors_location  \n",
       "0                   a  \n",
       "1                   a  \n",
       "3                   a  \n",
       "5                   a  \n",
       "8                   a  \n",
       "...               ...  \n",
       "1188                c  \n",
       "1189                c  \n",
       "1191                c  \n",
       "1192                c  \n",
       "1194                c  \n",
       "\n",
       "[628 rows x 14 columns]"
      ]
     },
     "execution_count": 3,
     "metadata": {},
     "output_type": "execute_result"
    }
   ],
   "source": [
    "baseline_df = trial_run_df[trial_run_df.treatment == 'baseline']\n",
    "baseline_df"
   ]
  },
  {
   "cell_type": "markdown",
   "id": "d56efed0",
   "metadata": {},
   "source": [
    "# Planned"
   ]
  },
  {
   "cell_type": "code",
   "execution_count": null,
   "id": "16c7b66a",
   "metadata": {},
   "outputs": [
    {
     "data": {
      "text/html": [
       "<div>\n",
       "<style scoped>\n",
       "    .dataframe tbody tr th:only-of-type {\n",
       "        vertical-align: middle;\n",
       "    }\n",
       "\n",
       "    .dataframe tbody tr th {\n",
       "        vertical-align: top;\n",
       "    }\n",
       "\n",
       "    .dataframe thead th {\n",
       "        text-align: right;\n",
       "    }\n",
       "</style>\n",
       "<table border=\"1\" class=\"dataframe\">\n",
       "  <thead>\n",
       "    <tr style=\"text-align: right;\">\n",
       "      <th></th>\n",
       "      <th>trial_id</th>\n",
       "      <th>code</th>\n",
       "      <th>machine</th>\n",
       "      <th>treatment</th>\n",
       "      <th>ttc</th>\n",
       "      <th>failure_time</th>\n",
       "      <th>end_state</th>\n",
       "      <th>total_time_wall_clock</th>\n",
       "      <th>has_failure</th>\n",
       "      <th>factors_avg_speed</th>\n",
       "      <th>factors_battery_charge</th>\n",
       "      <th>factors_battery_discharge_rate</th>\n",
       "      <th>factors_skills</th>\n",
       "      <th>factors_location</th>\n",
       "    </tr>\n",
       "  </thead>\n",
       "  <tbody>\n",
       "    <tr>\n",
       "      <th>2</th>\n",
       "      <td>1</td>\n",
       "      <td>aaaaap</td>\n",
       "      <td>les-05</td>\n",
       "      <td>planned</td>\n",
       "      <td>495.766667</td>\n",
       "      <td>NaN</td>\n",
       "      <td>reach-target</td>\n",
       "      <td>610.652392</td>\n",
       "      <td>False</td>\n",
       "      <td>a</td>\n",
       "      <td>a</td>\n",
       "      <td>a</td>\n",
       "      <td>a</td>\n",
       "      <td>a</td>\n",
       "    </tr>\n",
       "    <tr>\n",
       "      <th>4</th>\n",
       "      <td>1</td>\n",
       "      <td>aaaaap</td>\n",
       "      <td>les-04</td>\n",
       "      <td>planned</td>\n",
       "      <td>466.116667</td>\n",
       "      <td>NaN</td>\n",
       "      <td>reach-target</td>\n",
       "      <td>580.636589</td>\n",
       "      <td>False</td>\n",
       "      <td>a</td>\n",
       "      <td>a</td>\n",
       "      <td>a</td>\n",
       "      <td>a</td>\n",
       "      <td>a</td>\n",
       "    </tr>\n",
       "    <tr>\n",
       "      <th>6</th>\n",
       "      <td>1</td>\n",
       "      <td>aaaaap</td>\n",
       "      <td>les-03</td>\n",
       "      <td>planned</td>\n",
       "      <td>481.383333</td>\n",
       "      <td>NaN</td>\n",
       "      <td>reach-target</td>\n",
       "      <td>604.655203</td>\n",
       "      <td>False</td>\n",
       "      <td>a</td>\n",
       "      <td>a</td>\n",
       "      <td>a</td>\n",
       "      <td>a</td>\n",
       "      <td>a</td>\n",
       "    </tr>\n",
       "    <tr>\n",
       "      <th>7</th>\n",
       "      <td>1</td>\n",
       "      <td>aaaaap</td>\n",
       "      <td>les-02</td>\n",
       "      <td>planned</td>\n",
       "      <td>532.683333</td>\n",
       "      <td>NaN</td>\n",
       "      <td>reach-target</td>\n",
       "      <td>678.756781</td>\n",
       "      <td>False</td>\n",
       "      <td>a</td>\n",
       "      <td>a</td>\n",
       "      <td>a</td>\n",
       "      <td>a</td>\n",
       "      <td>a</td>\n",
       "    </tr>\n",
       "    <tr>\n",
       "      <th>9</th>\n",
       "      <td>1</td>\n",
       "      <td>aaaaap</td>\n",
       "      <td>les-08</td>\n",
       "      <td>planned</td>\n",
       "      <td>436.816667</td>\n",
       "      <td>NaN</td>\n",
       "      <td>reach-target</td>\n",
       "      <td>549.601302</td>\n",
       "      <td>False</td>\n",
       "      <td>a</td>\n",
       "      <td>a</td>\n",
       "      <td>a</td>\n",
       "      <td>a</td>\n",
       "      <td>a</td>\n",
       "    </tr>\n",
       "    <tr>\n",
       "      <th>...</th>\n",
       "      <td>...</td>\n",
       "      <td>...</td>\n",
       "      <td>...</td>\n",
       "      <td>...</td>\n",
       "      <td>...</td>\n",
       "      <td>...</td>\n",
       "      <td>...</td>\n",
       "      <td>...</td>\n",
       "      <td>...</td>\n",
       "      <td>...</td>\n",
       "      <td>...</td>\n",
       "      <td>...</td>\n",
       "      <td>...</td>\n",
       "      <td>...</td>\n",
       "    </tr>\n",
       "    <tr>\n",
       "      <th>1182</th>\n",
       "      <td>80</td>\n",
       "      <td>acccbp</td>\n",
       "      <td>les-07</td>\n",
       "      <td>planned</td>\n",
       "      <td>805.783333</td>\n",
       "      <td>NaN</td>\n",
       "      <td>reach-target</td>\n",
       "      <td>961.068459</td>\n",
       "      <td>False</td>\n",
       "      <td>a</td>\n",
       "      <td>c</td>\n",
       "      <td>c</td>\n",
       "      <td>c</td>\n",
       "      <td>b</td>\n",
       "    </tr>\n",
       "    <tr>\n",
       "      <th>1184</th>\n",
       "      <td>81</td>\n",
       "      <td>accccp</td>\n",
       "      <td>les-06</td>\n",
       "      <td>planned</td>\n",
       "      <td>358.650000</td>\n",
       "      <td>NaN</td>\n",
       "      <td>reach-target</td>\n",
       "      <td>421.440350</td>\n",
       "      <td>False</td>\n",
       "      <td>a</td>\n",
       "      <td>c</td>\n",
       "      <td>c</td>\n",
       "      <td>c</td>\n",
       "      <td>c</td>\n",
       "    </tr>\n",
       "    <tr>\n",
       "      <th>1186</th>\n",
       "      <td>81</td>\n",
       "      <td>accccp</td>\n",
       "      <td>les-05</td>\n",
       "      <td>planned</td>\n",
       "      <td>423.416667</td>\n",
       "      <td>NaN</td>\n",
       "      <td>reach-target</td>\n",
       "      <td>503.531729</td>\n",
       "      <td>False</td>\n",
       "      <td>a</td>\n",
       "      <td>c</td>\n",
       "      <td>c</td>\n",
       "      <td>c</td>\n",
       "      <td>c</td>\n",
       "    </tr>\n",
       "    <tr>\n",
       "      <th>1190</th>\n",
       "      <td>81</td>\n",
       "      <td>accccp</td>\n",
       "      <td>les-02</td>\n",
       "      <td>planned</td>\n",
       "      <td>421.266667</td>\n",
       "      <td>NaN</td>\n",
       "      <td>reach-target</td>\n",
       "      <td>522.553201</td>\n",
       "      <td>False</td>\n",
       "      <td>a</td>\n",
       "      <td>c</td>\n",
       "      <td>c</td>\n",
       "      <td>c</td>\n",
       "      <td>c</td>\n",
       "    </tr>\n",
       "    <tr>\n",
       "      <th>1193</th>\n",
       "      <td>81</td>\n",
       "      <td>accccp</td>\n",
       "      <td>les-07</td>\n",
       "      <td>planned</td>\n",
       "      <td>370.283333</td>\n",
       "      <td>NaN</td>\n",
       "      <td>reach-target</td>\n",
       "      <td>431.460369</td>\n",
       "      <td>False</td>\n",
       "      <td>a</td>\n",
       "      <td>c</td>\n",
       "      <td>c</td>\n",
       "      <td>c</td>\n",
       "      <td>c</td>\n",
       "    </tr>\n",
       "  </tbody>\n",
       "</table>\n",
       "<p>567 rows × 14 columns</p>\n",
       "</div>"
      ],
      "text/plain": [
       "      trial_id    code machine treatment         ttc  failure_time  \\\n",
       "2            1  aaaaap  les-05   planned  495.766667           NaN   \n",
       "4            1  aaaaap  les-04   planned  466.116667           NaN   \n",
       "6            1  aaaaap  les-03   planned  481.383333           NaN   \n",
       "7            1  aaaaap  les-02   planned  532.683333           NaN   \n",
       "9            1  aaaaap  les-08   planned  436.816667           NaN   \n",
       "...        ...     ...     ...       ...         ...           ...   \n",
       "1182        80  acccbp  les-07   planned  805.783333           NaN   \n",
       "1184        81  accccp  les-06   planned  358.650000           NaN   \n",
       "1186        81  accccp  les-05   planned  423.416667           NaN   \n",
       "1190        81  accccp  les-02   planned  421.266667           NaN   \n",
       "1193        81  accccp  les-07   planned  370.283333           NaN   \n",
       "\n",
       "         end_state  total_time_wall_clock  has_failure factors_avg_speed  \\\n",
       "2     reach-target             610.652392        False                 a   \n",
       "4     reach-target             580.636589        False                 a   \n",
       "6     reach-target             604.655203        False                 a   \n",
       "7     reach-target             678.756781        False                 a   \n",
       "9     reach-target             549.601302        False                 a   \n",
       "...            ...                    ...          ...               ...   \n",
       "1182  reach-target             961.068459        False                 a   \n",
       "1184  reach-target             421.440350        False                 a   \n",
       "1186  reach-target             503.531729        False                 a   \n",
       "1190  reach-target             522.553201        False                 a   \n",
       "1193  reach-target             431.460369        False                 a   \n",
       "\n",
       "     factors_battery_charge factors_battery_discharge_rate factors_skills  \\\n",
       "2                         a                              a              a   \n",
       "4                         a                              a              a   \n",
       "6                         a                              a              a   \n",
       "7                         a                              a              a   \n",
       "9                         a                              a              a   \n",
       "...                     ...                            ...            ...   \n",
       "1182                      c                              c              c   \n",
       "1184                      c                              c              c   \n",
       "1186                      c                              c              c   \n",
       "1190                      c                              c              c   \n",
       "1193                      c                              c              c   \n",
       "\n",
       "     factors_location  \n",
       "2                   a  \n",
       "4                   a  \n",
       "6                   a  \n",
       "7                   a  \n",
       "9                   a  \n",
       "...               ...  \n",
       "1182                b  \n",
       "1184                c  \n",
       "1186                c  \n",
       "1190                c  \n",
       "1193                c  \n",
       "\n",
       "[567 rows x 14 columns]"
      ]
     },
     "execution_count": 4,
     "metadata": {},
     "output_type": "execute_result"
    }
   ],
   "source": [
    "planned_df = trial_run_df[trial_run_df.treatment == 'planned']\n",
    "planned_df"
   ]
  },
  {
   "cell_type": "code",
   "execution_count": null,
   "id": "544ca2d2",
   "metadata": {},
   "outputs": [
    {
     "data": {
      "text/plain": [
       "525.9594936808587"
      ]
     },
     "execution_count": 5,
     "metadata": {},
     "output_type": "execute_result"
    }
   ],
   "source": [
    "# Average TCC\n",
    "\n",
    "planned_ttc_avg = planned_df['ttc'].mean()\n",
    "planned_ttc_avg"
   ]
  },
  {
   "cell_type": "code",
   "execution_count": null,
   "id": "1b7a056b",
   "metadata": {},
   "outputs": [
    {
     "data": {
      "text/plain": [
       "(526.9577381057678, 532.763846181, 535.0717514288983)"
      ]
     },
     "execution_count": 6,
     "metadata": {},
     "output_type": "execute_result"
    }
   ],
   "source": [
    "# by machine (no trial run dummy aparece o mesmo porque a pasta foi copiada)\n",
    "(planned_df[planned_df.machine == 'les-01']['ttc'].mean(),\n",
    "planned_df[planned_df.machine == 'les-02']['ttc'].mean(),\n",
    "planned_df[planned_df.machine == 'les-03']['ttc'].mean())"
   ]
  },
  {
   "cell_type": "code",
   "execution_count": null,
   "id": "4abde928",
   "metadata": {},
   "outputs": [
    {
     "data": {
      "text/plain": [
       "(nan, nan)"
      ]
     },
     "execution_count": 7,
     "metadata": {},
     "output_type": "execute_result"
    }
   ],
   "source": [
    "# comparing factors (no dummy os fatores não foram distinguidos, porque teria que renomear os arquivos)\n",
    "(planned_df[planned_df.factors_battery_charge == 'x']['ttc'].mean(),\n",
    " planned_df[planned_df.factors_battery_charge == 'x']['ttc'].mean())"
   ]
  },
  {
   "cell_type": "markdown",
   "id": "fdd16a6d",
   "metadata": {},
   "source": [
    "# Statistics"
   ]
  },
  {
   "cell_type": "markdown",
   "id": "11c354fb",
   "metadata": {},
   "source": [
    "## Number of each event\n",
    "i.e. how many times did the simulation achieve each status"
   ]
  },
  {
   "cell_type": "code",
   "execution_count": null,
   "id": "4e5ca938",
   "metadata": {},
   "outputs": [
    {
     "data": {
      "text/plain": [
       "end_state     treatment\n",
       "failure-bt    baseline     256\n",
       "              planned       54\n",
       "low-battery   baseline       3\n",
       "              planned        9\n",
       "reach-target  baseline     334\n",
       "              planned      479\n",
       "timeout-wall  baseline      35\n",
       "              planned       25\n",
       "Name: end_state, dtype: int64"
      ]
     },
     "execution_count": 8,
     "metadata": {},
     "output_type": "execute_result"
    }
   ],
   "source": [
    "by_end_state = trial_run_df.groupby(['end_state', 'treatment'])['end_state']\n",
    "by_end_state.count()\n",
    "# planned_by_end_state_df = planned_df.groupby('end_state')['end_state'].count()\n",
    "# pd.merge(baseline_by_end_state_df, planned_by_end_state_df, on='end_state')"
   ]
  },
  {
   "cell_type": "code",
   "execution_count": null,
   "id": "b5199f84",
   "metadata": {},
   "outputs": [
    {
     "data": {
      "text/plain": [
       "trial_id  code    treatment  end_state   \n",
       "1         aaaaab  baseline   reach-target    7\n",
       "          aaaaap  planned    reach-target    5\n",
       "                             failure-bt      1\n",
       "2         aaaabb  baseline   reach-target    8\n",
       "          aaaabp  planned    reach-target    5\n",
       "                                            ..\n",
       "80        acccbb  baseline   failure-bt      6\n",
       "                             timeout-wall    1\n",
       "          acccbp  planned    reach-target    7\n",
       "81        accccb  baseline   reach-target    7\n",
       "          accccp  planned    reach-target    4\n",
       "Name: end_state, Length: 277, dtype: int64"
      ]
     },
     "execution_count": 9,
     "metadata": {},
     "output_type": "execute_result"
    }
   ],
   "source": [
    "trial_run_df.groupby(['trial_id', 'code', 'treatment'])['end_state'].value_counts()"
   ]
  },
  {
   "cell_type": "markdown",
   "id": "0c5af3c4",
   "metadata": {},
   "source": [
    "## Planned"
   ]
  },
  {
   "cell_type": "code",
   "execution_count": null,
   "id": "317e161e",
   "metadata": {},
   "outputs": [
    {
     "data": {
      "text/plain": [
       "array([<AxesSubplot:title={'center':'failure-bt'}, xlabel='trial_id'>,\n",
       "       <AxesSubplot:title={'center':'low-battery'}, xlabel='trial_id'>,\n",
       "       <AxesSubplot:title={'center':'reach-target'}, xlabel='trial_id'>,\n",
       "       <AxesSubplot:title={'center':'timeout-wall'}, xlabel='trial_id'>],\n",
       "      dtype=object)"
      ]
     },
     "execution_count": 13,
     "metadata": {},
     "output_type": "execute_result"
    },
    {
     "data": {
      "image/png": "[encoded data removed]",
      "text/plain": [
       "<Figure size 1152x576 with 4 Axes>"
      ]
     },
     "metadata": {},
     "output_type": "display_data"
    }
   ],
   "source": [
    "planned_df.groupby(\"trial_id\")[\"end_state\"].value_counts().unstack().plot.bar(subplots=True, legend=True, \n",
    "                                                                              color={\"reach-target\": \"green\", \n",
    "                                                                                     \"failure-bt\": \"orange\", \n",
    "                                                                                     \"timeout\": \"red\",\n",
    "                                                                                     \"low-battery\": \"blue\",\n",
    "                                                                                     \"timeout-wall\": \"purple\"})"
   ]
  },
  {
   "cell_type": "code",
   "execution_count": null,
   "id": "838798a2",
   "metadata": {},
   "outputs": [
    {
     "data": {
      "image/png": "[encoded data removed]",
      "text/plain": [
       "<Figure size 1152x576 with 1 Axes>"
      ]
     },
     "metadata": {},
     "output_type": "display_data"
    }
   ],
   "source": [
    "ax_planned = sns.countplot(x='trial_id', hue=\"end_state\", data=planned_df)"
   ]
  },
  {
   "cell_type": "markdown",
   "id": "5092d737",
   "metadata": {},
   "source": [
    "## Baseline"
   ]
  },
  {
   "cell_type": "code",
   "execution_count": null,
   "id": "09ed40d3",
   "metadata": {},
   "outputs": [
    {
     "data": {
      "text/plain": [
       "array([<AxesSubplot:title={'center':'failure-bt'}, xlabel='trial_id'>,\n",
       "       <AxesSubplot:title={'center':'low-battery'}, xlabel='trial_id'>,\n",
       "       <AxesSubplot:title={'center':'reach-target'}, xlabel='trial_id'>,\n",
       "       <AxesSubplot:title={'center':'timeout-wall'}, xlabel='trial_id'>],\n",
       "      dtype=object)"
      ]
     },
     "execution_count": 15,
     "metadata": {},
     "output_type": "execute_result"
    },
    {
     "data": {
      "image/png": "[encoded data removed]",
      "text/plain": [
       "<Figure size 1152x576 with 4 Axes>"
      ]
     },
     "metadata": {},
     "output_type": "display_data"
    }
   ],
   "source": [
    "baseline_df.groupby(\"trial_id\")[\"end_state\"].value_counts().unstack().plot.bar(subplots=True, legend=True,\n",
    "                                                                               color={\"reach-target\": \"green\", \n",
    "                                                                                      \"failure-bt\": \"orange\", \n",
    "                                                                                      \"timeout\": \"red\",\n",
    "                                                                                      \"low-battery\": \"blue\",\n",
    "                                                                                      \"timeout-wall\": \"purple\"})"
   ]
  },
  {
   "cell_type": "code",
   "execution_count": null,
   "id": "a119681a",
   "metadata": {},
   "outputs": [
    {
     "data": {
      "image/png": "[encoded data removed]",
      "text/plain": [
       "<Figure size 1152x576 with 1 Axes>"
      ]
     },
     "metadata": {},
     "output_type": "display_data"
    }
   ],
   "source": [
    "ax_baseline = sns.countplot(x='trial_id', hue=\"end_state\", data=baseline_df)"
   ]
  },
  {
   "cell_type": "markdown",
   "id": "9197b5a2",
   "metadata": {},
   "source": [
    "## Time to Conclusion"
   ]
  },
  {
   "cell_type": "code",
   "execution_count": null,
   "id": "72a8087b",
   "metadata": {},
   "outputs": [
    {
     "data": {
      "text/plain": [
       "array([<AxesSubplot:title={'center':'baseline'}, xlabel='trial_id'>,\n",
       "       <AxesSubplot:title={'center':'planned'}, xlabel='trial_id'>],\n",
       "      dtype=object)"
      ]
     },
     "execution_count": 21,
     "metadata": {},
     "output_type": "execute_result"
    },
    {
     "data": {
      "image/png": "[encoded data removed]",
      "text/plain": [
       "<Figure size 1152x576 with 2 Axes>"
      ]
     },
     "metadata": {},
     "output_type": "display_data"
    }
   ],
   "source": [
    "trial_run_df.groupby([\"trial_id\", \"treatment\"])[\"ttc\"].mean().unstack().plot.bar(subplots=True, legend=True)"
   ]
  },
  {
   "cell_type": "code",
   "execution_count": null,
   "id": "6909d4e6",
   "metadata": {},
   "outputs": [
    {
     "data": {
      "text/plain": [
       "<AxesSubplot:xlabel='trial_id'>"
      ]
     },
     "execution_count": 23,
     "metadata": {},
     "output_type": "execute_result"
    },
    {
     "data": {
      "image/png": "[encoded data removed]",
      "text/plain": [
       "<Figure size 1152x576 with 1 Axes>"
      ]
     },
     "metadata": {},
     "output_type": "display_data"
    }
   ],
   "source": [
    "trial_run_df.groupby([\"trial_id\", \"treatment\"])[\"ttc\"].mean().unstack().plot.bar(legend=True, figsize=(16,8))"
   ]
  },
  {
   "cell_type": "markdown",
   "id": "d6e8899c",
   "metadata": {},
   "source": [
    "## STD"
   ]
  },
  {
   "cell_type": "code",
   "execution_count": null,
   "id": "eac67749",
   "metadata": {},
   "outputs": [
    {
     "data": {
      "text/plain": [
       "array([<AxesSubplot:title={'center':'baseline'}, xlabel='trial_id'>,\n",
       "       <AxesSubplot:title={'center':'planned'}, xlabel='trial_id'>],\n",
       "      dtype=object)"
      ]
     },
     "execution_count": 24,
     "metadata": {},
     "output_type": "execute_result"
    },
    {
     "data": {
      "image/png": "[encoded data removed]",
      "text/plain": [
       "<Figure size 1152x576 with 2 Axes>"
      ]
     },
     "metadata": {},
     "output_type": "display_data"
    }
   ],
   "source": [
    "trial_run_df.groupby([\"trial_id\", \"treatment\"])[\"ttc\"].std().unstack().plot.bar(subplots=True, legend=True)"
   ]
  },
  {
   "cell_type": "code",
   "execution_count": null,
   "id": "eb1ce629",
   "metadata": {},
   "outputs": [
    {
     "data": {
      "text/plain": [
       "<AxesSubplot:xlabel='trial_id'>"
      ]
     },
     "execution_count": 28,
     "metadata": {},
     "output_type": "execute_result"
    },
    {
     "data": {
      "image/png": "[encoded data removed]",
      "text/plain": [
       "<Figure size 1152x576 with 1 Axes>"
      ]
     },
     "metadata": {},
     "output_type": "display_data"
    }
   ],
   "source": [
    "trial_run_df.groupby([\"trial_id\", \"treatment\"])[\"ttc\"].std().unstack().plot.bar(legend=True)"
   ]
  },
  {
   "cell_type": "code",
   "execution_count": null,
   "id": "44745fae",
   "metadata": {},
   "outputs": [
    {
     "data": {
      "text/html": [
       "<div>\n",
       "<style scoped>\n",
       "    .dataframe tbody tr th:only-of-type {\n",
       "        vertical-align: middle;\n",
       "    }\n",
       "\n",
       "    .dataframe tbody tr th {\n",
       "        vertical-align: top;\n",
       "    }\n",
       "\n",
       "    .dataframe thead th {\n",
       "        text-align: right;\n",
       "    }\n",
       "</style>\n",
       "<table border=\"1\" class=\"dataframe\">\n",
       "  <thead>\n",
       "    <tr style=\"text-align: right;\">\n",
       "      <th>treatment</th>\n",
       "      <th>baseline</th>\n",
       "      <th>planned</th>\n",
       "    </tr>\n",
       "    <tr>\n",
       "      <th>trial_id</th>\n",
       "      <th></th>\n",
       "      <th></th>\n",
       "    </tr>\n",
       "  </thead>\n",
       "  <tbody>\n",
       "    <tr>\n",
       "      <th>1</th>\n",
       "      <td>70.315316</td>\n",
       "      <td>35.535140</td>\n",
       "    </tr>\n",
       "    <tr>\n",
       "      <th>2</th>\n",
       "      <td>6.405857</td>\n",
       "      <td>27.539697</td>\n",
       "    </tr>\n",
       "    <tr>\n",
       "      <th>3</th>\n",
       "      <td>12.484521</td>\n",
       "      <td>29.766700</td>\n",
       "    </tr>\n",
       "    <tr>\n",
       "      <th>4</th>\n",
       "      <td>16.536706</td>\n",
       "      <td>22.158203</td>\n",
       "    </tr>\n",
       "    <tr>\n",
       "      <th>5</th>\n",
       "      <td>10.455893</td>\n",
       "      <td>54.583108</td>\n",
       "    </tr>\n",
       "    <tr>\n",
       "      <th>...</th>\n",
       "      <td>...</td>\n",
       "      <td>...</td>\n",
       "    </tr>\n",
       "    <tr>\n",
       "      <th>77</th>\n",
       "      <td>NaN</td>\n",
       "      <td>39.496926</td>\n",
       "    </tr>\n",
       "    <tr>\n",
       "      <th>78</th>\n",
       "      <td>26.858202</td>\n",
       "      <td>7.854047</td>\n",
       "    </tr>\n",
       "    <tr>\n",
       "      <th>79</th>\n",
       "      <td>NaN</td>\n",
       "      <td>20.747784</td>\n",
       "    </tr>\n",
       "    <tr>\n",
       "      <th>80</th>\n",
       "      <td>NaN</td>\n",
       "      <td>22.340496</td>\n",
       "    </tr>\n",
       "    <tr>\n",
       "      <th>81</th>\n",
       "      <td>5.426315</td>\n",
       "      <td>33.761389</td>\n",
       "    </tr>\n",
       "  </tbody>\n",
       "</table>\n",
       "<p>81 rows × 2 columns</p>\n",
       "</div>"
      ],
      "text/plain": [
       "treatment   baseline    planned\n",
       "trial_id                       \n",
       "1          70.315316  35.535140\n",
       "2           6.405857  27.539697\n",
       "3          12.484521  29.766700\n",
       "4          16.536706  22.158203\n",
       "5          10.455893  54.583108\n",
       "...              ...        ...\n",
       "77               NaN  39.496926\n",
       "78         26.858202   7.854047\n",
       "79               NaN  20.747784\n",
       "80               NaN  22.340496\n",
       "81          5.426315  33.761389\n",
       "\n",
       "[81 rows x 2 columns]"
      ]
     },
     "execution_count": 29,
     "metadata": {},
     "output_type": "execute_result"
    }
   ],
   "source": [
    "trial_run_df.groupby([\"trial_id\", \"treatment\"])[\"ttc\"].std().unstack()"
   ]
  },
  {
   "cell_type": "markdown",
   "id": "5e46b555",
   "metadata": {},
   "source": [
    "# Plots"
   ]
  },
  {
   "cell_type": "markdown",
   "id": "ada11d25",
   "metadata": {},
   "source": [
    "## Successes per trial"
   ]
  },
  {
   "cell_type": "code",
   "execution_count": null,
   "id": "aa240275",
   "metadata": {},
   "outputs": [],
   "source": [
    "successes = trial_run_df[trial_run_df.end_state == \"reach-target\"]"
   ]
  },
  {
   "cell_type": "code",
   "execution_count": null,
   "id": "6891824d",
   "metadata": {},
   "outputs": [
    {
     "data": {
      "text/plain": [
       "array([<AxesSubplot:title={'center':'baseline'}, xlabel='trial_id'>,\n",
       "       <AxesSubplot:title={'center':'planned'}, xlabel='trial_id'>],\n",
       "      dtype=object)"
      ]
     },
     "execution_count": 41,
     "metadata": {},
     "output_type": "execute_result"
    },
    {
     "data": {
      "image/png": "[encoded data removed]",
      "text/plain": [
       "<Figure size 1152x576 with 2 Axes>"
      ]
     },
     "metadata": {},
     "output_type": "display_data"
    }
   ],
   "source": [
    "successes.groupby([\"trial_id\", \"treatment\"])[\"end_state\"].count().unstack().plot.bar(subplots=True, legend=True)"
   ]
  },
  {
   "cell_type": "code",
   "execution_count": null,
   "id": "3127a912",
   "metadata": {},
   "outputs": [
    {
     "data": {
      "text/plain": [
       "<AxesSubplot:xlabel='trial_id'>"
      ]
     },
     "execution_count": 83,
     "metadata": {},
     "output_type": "execute_result"
    },
    {
     "data": {
      "image/png": "[encoded data removed]",
      "text/plain": [
       "<Figure size 1152x576 with 1 Axes>"
      ]
     },
     "metadata": {},
     "output_type": "display_data"
    }
   ],
   "source": [
    "successes.groupby([\"trial_id\", \"treatment\"])[\"end_state\"].count().unstack().plot.bar(legend=True)"
   ]
  },
  {
   "cell_type": "markdown",
   "id": "8260bb00",
   "metadata": {},
   "source": [
    "### Average time to reach target"
   ]
  },
  {
   "cell_type": "code",
   "execution_count": null,
   "id": "8dccdad3",
   "metadata": {},
   "outputs": [
    {
     "data": {
      "text/plain": [
       "<AxesSubplot:xlabel='trial_id'>"
      ]
     },
     "execution_count": 42,
     "metadata": {},
     "output_type": "execute_result"
    },
    {
     "data": {
      "image/png": "[encoded data removed]",
      "text/plain": [
       "<Figure size 1152x576 with 1 Axes>"
      ]
     },
     "metadata": {},
     "output_type": "display_data"
    }
   ],
   "source": [
    "successes.groupby([\"trial_id\", \"treatment\"])[\"ttc\"].mean().unstack().plot.bar(legend=True, figsize=(16,8))"
   ]
  },
  {
   "cell_type": "code",
   "execution_count": null,
   "id": "cb4b846e",
   "metadata": {},
   "outputs": [
    {
     "data": {
      "text/plain": [
       "array([<AxesSubplot:title={'center':'baseline'}, xlabel='trial_id'>,\n",
       "       <AxesSubplot:title={'center':'planned'}, xlabel='trial_id'>],\n",
       "      dtype=object)"
      ]
     },
     "execution_count": 44,
     "metadata": {},
     "output_type": "execute_result"
    },
    {
     "data": {
      "image/png": "[encoded data removed]",
      "text/plain": [
       "<Figure size 1152x576 with 2 Axes>"
      ]
     },
     "metadata": {},
     "output_type": "display_data"
    }
   ],
   "source": [
    "successes.groupby([\"trial_id\", \"treatment\"])[\"ttc\"].mean().unstack().plot.bar(subplots=True, legend=True, figsize=(16,8))"
   ]
  },
  {
   "cell_type": "markdown",
   "id": "d45e9dd9",
   "metadata": {},
   "source": [
    "# Metrics\n",
    "## Metric1 - Success"
   ]
  },
  {
   "cell_type": "code",
   "execution_count": null,
   "id": "b56e9518",
   "metadata": {},
   "outputs": [],
   "source": [
    "planned_suc = successes[successes.treatment == \"planned\"].groupby(\"trial_id\")[\"end_state\"].count()\n",
    "baseline_suc = successes[successes.treatment == \"baseline\"].groupby(\"trial_id\")[\"end_state\"].count()"
   ]
  },
  {
   "cell_type": "code",
   "execution_count": null,
   "id": "c49c9e2e",
   "metadata": {},
   "outputs": [
    {
     "data": {
      "text/plain": [
       "trial_id\n",
       "1     0.714286\n",
       "2     0.625000\n",
       "3     1.000000\n",
       "4     0.857143\n",
       "5     1.142857\n",
       "        ...   \n",
       "77         NaN\n",
       "78    1.000000\n",
       "79         NaN\n",
       "80         NaN\n",
       "81    0.571429\n",
       "Name: end_state, Length: 81, dtype: float64"
      ]
     },
     "execution_count": 71,
     "metadata": {},
     "output_type": "execute_result"
    }
   ],
   "source": [
    "metric1 = planned_suc/baseline_suc\n",
    "metric1"
   ]
  },
  {
   "cell_type": "code",
   "execution_count": null,
   "id": "b411065e",
   "metadata": {},
   "outputs": [
    {
     "data": {
      "text/plain": [
       "<AxesSubplot:xlabel='trial_id'>"
      ]
     },
     "execution_count": 64,
     "metadata": {},
     "output_type": "execute_result"
    },
    {
     "data": {
      "image/png": "[encoded data removed]",
      "text/plain": [
       "<Figure size 1152x576 with 1 Axes>"
      ]
     },
     "metadata": {},
     "output_type": "display_data"
    }
   ],
   "source": [
    "metric1.plot.bar(figsize=(16, 8))"
   ]
  },
  {
   "cell_type": "code",
   "execution_count": null,
   "id": "de0e0ab4",
   "metadata": {},
   "outputs": [
    {
     "data": {
      "text/plain": [
       "1.0547385620915033"
      ]
     },
     "execution_count": 74,
     "metadata": {},
     "output_type": "execute_result"
    }
   ],
   "source": [
    "metric1.mean()"
   ]
  },
  {
   "cell_type": "markdown",
   "id": "6e217e52",
   "metadata": {},
   "source": [
    "## Metric2 - TTC"
   ]
  },
  {
   "cell_type": "code",
   "execution_count": null,
   "id": "a5463516",
   "metadata": {},
   "outputs": [],
   "source": [
    "planned_ttc = successes[successes.treatment == \"planned\"].groupby(\"trial_id\")[\"ttc\"].mean()\n",
    "baseline_ttc = successes[successes.treatment == \"baseline\"].groupby(\"trial_id\")[\"ttc\"].mean()"
   ]
  },
  {
   "cell_type": "code",
   "execution_count": null,
   "id": "a1fb7851",
   "metadata": {},
   "outputs": [
    {
     "data": {
      "text/plain": [
       "trial_id\n",
       "1     1.184796\n",
       "2     1.305772\n",
       "3     1.027994\n",
       "4     1.450622\n",
       "5     1.343793\n",
       "        ...   \n",
       "77         NaN\n",
       "78    0.807920\n",
       "79         NaN\n",
       "80         NaN\n",
       "81    2.019084\n",
       "Name: ttc, Length: 81, dtype: float64"
      ]
     },
     "execution_count": 79,
     "metadata": {},
     "output_type": "execute_result"
    }
   ],
   "source": [
    "metric2 = planned_ttc / baseline_ttc\n",
    "metric2"
   ]
  },
  {
   "cell_type": "code",
   "execution_count": null,
   "id": "02e6d715",
   "metadata": {},
   "outputs": [
    {
     "data": {
      "text/plain": [
       "<AxesSubplot:xlabel='trial_id'>"
      ]
     },
     "execution_count": 81,
     "metadata": {},
     "output_type": "execute_result"
    },
    {
     "data": {
      "image/png": "[encoded data removed]",
      "text/plain": [
       "<Figure size 1152x576 with 1 Axes>"
      ]
     },
     "metadata": {},
     "output_type": "display_data"
    }
   ],
   "source": [
    "metric2.plot.bar(figsize=(16, 8))"
   ]
  },
  {
   "cell_type": "code",
   "execution_count": null,
   "id": "e4a61fe4",
   "metadata": {},
   "outputs": [
    {
     "data": {
      "text/plain": [
       "1.3761398298173833"
      ]
     },
     "execution_count": 82,
     "metadata": {},
     "output_type": "execute_result"
    }
   ],
   "source": [
    "metric2.mean()"
   ]
  },
  {
   "cell_type": "markdown",
   "id": "5a63f1e4",
   "metadata": {},
   "source": [
    "## Metric 3 - Battery"
   ]
  },
  {
   "cell_type": "code",
   "execution_count": null,
   "id": "420db8ca",
   "metadata": {},
   "outputs": [
    {
     "data": {
      "text/plain": [
       "trial_id\n",
       "3     1\n",
       "6     1\n",
       "9     4\n",
       "17    2\n",
       "18    2\n",
       "59    1\n",
       "64    1\n",
       "Name: end_state, dtype: int64"
      ]
     },
     "execution_count": 119,
     "metadata": {},
     "output_type": "execute_result"
    }
   ],
   "source": [
    "battery = trial_run_df[trial_run_df.end_state == \"low-battery\"]\n",
    "battery.groupby(\"trial_id\")[\"end_state\"].count()"
   ]
  },
  {
   "cell_type": "code",
   "execution_count": null,
   "id": "395af06a",
   "metadata": {},
   "outputs": [
    {
     "data": {
      "text/plain": [
       "trial_id  end_state  \n",
       "3         low-battery    1\n",
       "9         low-battery    4\n",
       "17        low-battery    2\n",
       "18        low-battery    2\n",
       "Name: end_state, dtype: int64"
      ]
     },
     "execution_count": 120,
     "metadata": {},
     "output_type": "execute_result"
    }
   ],
   "source": [
    "planned_battery = battery[battery.treatment == \"planned\"].groupby(\"trial_id\")[\"end_state\"].value_counts()\n",
    "planned_battery"
   ]
  },
  {
   "cell_type": "code",
   "execution_count": null,
   "id": "776ed4d7",
   "metadata": {},
   "outputs": [
    {
     "data": {
      "text/plain": [
       "trial_id  end_state  \n",
       "6         low-battery    1\n",
       "59        low-battery    1\n",
       "64        low-battery    1\n",
       "Name: end_state, dtype: int64"
      ]
     },
     "execution_count": 121,
     "metadata": {},
     "output_type": "execute_result"
    }
   ],
   "source": [
    "baseline_battery = battery[battery.treatment == \"baseline\"].groupby(\"trial_id\")[\"end_state\"].value_counts()\n",
    "baseline_battery"
   ]
  },
  {
   "cell_type": "code",
   "execution_count": null,
   "id": "8e071413",
   "metadata": {},
   "outputs": [
    {
     "data": {
      "text/plain": [
       "1.3333333333333333"
      ]
     },
     "execution_count": 123,
     "metadata": {},
     "output_type": "execute_result"
    }
   ],
   "source": [
    "metric3 = len(planned_battery) / len(baseline_battery)\n",
    "metric3"
   ]
  }
 ],
 "metadata": {
  "interpreter": {
   "hash": "6a9074120e93e453c0437e01fdceb6c59be14e77f9d51ff6bb2c84aeee0e8b9d"
  },
  "kernelspec": {
   "display_name": "hmrs_analysis_ipy",
   "language": "python",
   "name": "hmrs_analysis_ipy"
  },
  "language_info": {
   "codemirror_mode": {
    "name": "ipython",
    "version": 3
   },
   "file_extension": ".py",
   "mimetype": "text/x-python",
   "name": "python",
   "nbconvert_exporter": "python",
   "pygments_lexer": "ipython3",
   "version": "3.9.5"
  }
 },
 "nbformat": 4,
 "nbformat_minor": 5
}
