{
 "cells": [
  {
   "cell_type": "markdown",
   "id": "massive-psychology",
   "metadata": {},
   "source": [
    "# Load data "
   ]
  },
  {
   "cell_type": "code",
   "execution_count": 62,
   "id": "artistic-reservation",
   "metadata": {},
   "outputs": [],
   "source": [
    "import sys\n",
    "sys.path.append('../src')\n",
    "\n",
    "import pandas as pd\n",
    "import numpy as np\n",
    "import matplotlib.pyplot as plt\n",
    "import seaborn as sns\n",
    "from functools import reduce\n",
    "\n",
    "from parse_logs import parser\n",
    "\n",
    "# parser.root_data_path = '../data'\n",
    "parser.root_data_path = '../tests/data'\n",
    "\n",
    "# load trials run to dict (it can take a while)\n",
    "#trial_run_objects = parser.get_trial_runs(\n",
    "#    exp_run_code='experiment_2021_07_09_10_03_24_run_dummy')\n",
    "\n",
    "trial_run_objects = parser.get_trial_runs(\n",
    "    exp_run_code='experiment_2021_04_01_16_20_00_run_1')\n",
    "\n",
    "trial_run_dicts = [trial_run.to_dict() for trial_run in trial_run_objects]"
   ]
  },
  {
   "cell_type": "code",
   "execution_count": 63,
   "id": "adequate-print",
   "metadata": {},
   "outputs": [
    {
     "data": {
      "text/html": [
       "<div>\n",
       "<style scoped>\n",
       "    .dataframe tbody tr th:only-of-type {\n",
       "        vertical-align: middle;\n",
       "    }\n",
       "\n",
       "    .dataframe tbody tr th {\n",
       "        vertical-align: top;\n",
       "    }\n",
       "\n",
       "    .dataframe thead th {\n",
       "        text-align: right;\n",
       "    }\n",
       "</style>\n",
       "<table border=\"1\" class=\"dataframe\">\n",
       "  <thead>\n",
       "    <tr style=\"text-align: right;\">\n",
       "      <th></th>\n",
       "      <th>trial_id</th>\n",
       "      <th>code</th>\n",
       "      <th>machine</th>\n",
       "      <th>treatment</th>\n",
       "      <th>ttc</th>\n",
       "      <th>failure_time</th>\n",
       "      <th>end_state</th>\n",
       "      <th>total_time_wall_clock</th>\n",
       "      <th>has_failure</th>\n",
       "      <th>factors_avg_speed</th>\n",
       "      <th>factors_battery_charge</th>\n",
       "    </tr>\n",
       "  </thead>\n",
       "  <tbody>\n",
       "    <tr>\n",
       "      <th>0</th>\n",
       "      <td>1</td>\n",
       "      <td>aab</td>\n",
       "      <td>lab-02</td>\n",
       "      <td>baseline</td>\n",
       "      <td>399.566667</td>\n",
       "      <td>None</td>\n",
       "      <td>reach-target</td>\n",
       "      <td>483.507027</td>\n",
       "      <td>False</td>\n",
       "      <td>a</td>\n",
       "      <td>a</td>\n",
       "    </tr>\n",
       "    <tr>\n",
       "      <th>1</th>\n",
       "      <td>1</td>\n",
       "      <td>aap</td>\n",
       "      <td>lab-02</td>\n",
       "      <td>planned</td>\n",
       "      <td>398.166667</td>\n",
       "      <td>None</td>\n",
       "      <td>reach-target</td>\n",
       "      <td>475.496615</td>\n",
       "      <td>False</td>\n",
       "      <td>a</td>\n",
       "      <td>a</td>\n",
       "    </tr>\n",
       "    <tr>\n",
       "      <th>2</th>\n",
       "      <td>1</td>\n",
       "      <td>aab</td>\n",
       "      <td>lab-01</td>\n",
       "      <td>baseline</td>\n",
       "      <td>NaN</td>\n",
       "      <td>None</td>\n",
       "      <td>timeout</td>\n",
       "      <td>900.808468</td>\n",
       "      <td>True</td>\n",
       "      <td>a</td>\n",
       "      <td>a</td>\n",
       "    </tr>\n",
       "    <tr>\n",
       "      <th>3</th>\n",
       "      <td>1</td>\n",
       "      <td>aap</td>\n",
       "      <td>lab-01</td>\n",
       "      <td>planned</td>\n",
       "      <td>NaN</td>\n",
       "      <td>None</td>\n",
       "      <td>timeout</td>\n",
       "      <td>900.808468</td>\n",
       "      <td>True</td>\n",
       "      <td>a</td>\n",
       "      <td>a</td>\n",
       "    </tr>\n",
       "    <tr>\n",
       "      <th>4</th>\n",
       "      <td>2</td>\n",
       "      <td>abb</td>\n",
       "      <td>lab-02</td>\n",
       "      <td>baseline</td>\n",
       "      <td>505.266667</td>\n",
       "      <td>None</td>\n",
       "      <td>reach-target</td>\n",
       "      <td>619.646724</td>\n",
       "      <td>False</td>\n",
       "      <td>a</td>\n",
       "      <td>b</td>\n",
       "    </tr>\n",
       "    <tr>\n",
       "      <th>5</th>\n",
       "      <td>2</td>\n",
       "      <td>abp</td>\n",
       "      <td>lab-02</td>\n",
       "      <td>planned</td>\n",
       "      <td>394.016667</td>\n",
       "      <td>None</td>\n",
       "      <td>reach-target</td>\n",
       "      <td>480.507143</td>\n",
       "      <td>False</td>\n",
       "      <td>a</td>\n",
       "      <td>b</td>\n",
       "    </tr>\n",
       "    <tr>\n",
       "      <th>6</th>\n",
       "      <td>2</td>\n",
       "      <td>abb</td>\n",
       "      <td>lab-01</td>\n",
       "      <td>baseline</td>\n",
       "      <td>NaN</td>\n",
       "      <td>None</td>\n",
       "      <td>timeout</td>\n",
       "      <td>900.808468</td>\n",
       "      <td>True</td>\n",
       "      <td>a</td>\n",
       "      <td>b</td>\n",
       "    </tr>\n",
       "    <tr>\n",
       "      <th>7</th>\n",
       "      <td>2</td>\n",
       "      <td>abp</td>\n",
       "      <td>lab-01</td>\n",
       "      <td>planned</td>\n",
       "      <td>NaN</td>\n",
       "      <td>None</td>\n",
       "      <td>timeout</td>\n",
       "      <td>900.808468</td>\n",
       "      <td>True</td>\n",
       "      <td>a</td>\n",
       "      <td>b</td>\n",
       "    </tr>\n",
       "  </tbody>\n",
       "</table>\n",
       "</div>"
      ],
      "text/plain": [
       "   trial_id code machine treatment         ttc failure_time     end_state  \\\n",
       "0         1  aab  lab-02  baseline  399.566667         None  reach-target   \n",
       "1         1  aap  lab-02   planned  398.166667         None  reach-target   \n",
       "2         1  aab  lab-01  baseline         NaN         None       timeout   \n",
       "3         1  aap  lab-01   planned         NaN         None       timeout   \n",
       "4         2  abb  lab-02  baseline  505.266667         None  reach-target   \n",
       "5         2  abp  lab-02   planned  394.016667         None  reach-target   \n",
       "6         2  abb  lab-01  baseline         NaN         None       timeout   \n",
       "7         2  abp  lab-01   planned         NaN         None       timeout   \n",
       "\n",
       "   total_time_wall_clock  has_failure factors_avg_speed factors_battery_charge  \n",
       "0             483.507027        False                 a                      a  \n",
       "1             475.496615        False                 a                      a  \n",
       "2             900.808468         True                 a                      a  \n",
       "3             900.808468         True                 a                      a  \n",
       "4             619.646724        False                 a                      b  \n",
       "5             480.507143        False                 a                      b  \n",
       "6             900.808468         True                 a                      b  \n",
       "7             900.808468         True                 a                      b  "
      ]
     },
     "execution_count": 63,
     "metadata": {},
     "output_type": "execute_result"
    }
   ],
   "source": [
    "# sort and instantiate a dataframe\n",
    "trial_run_dicts.sort(key=lambda tr: tr['trial_id'])\n",
    "trial_run_dicts\n",
    "\n",
    "trial_run_df = pd.DataFrame.from_records(trial_run_dicts)\n",
    "trial_run_df"
   ]
  },
  {
   "cell_type": "markdown",
   "id": "dirty-arrival",
   "metadata": {},
   "source": [
    "## Baseline"
   ]
  },
  {
   "cell_type": "code",
   "execution_count": 3,
   "id": "documentary-store",
   "metadata": {},
   "outputs": [
    {
     "data": {
      "text/html": [
       "<div>\n",
       "<style scoped>\n",
       "    .dataframe tbody tr th:only-of-type {\n",
       "        vertical-align: middle;\n",
       "    }\n",
       "\n",
       "    .dataframe tbody tr th {\n",
       "        vertical-align: top;\n",
       "    }\n",
       "\n",
       "    .dataframe thead th {\n",
       "        text-align: right;\n",
       "    }\n",
       "</style>\n",
       "<table border=\"1\" class=\"dataframe\">\n",
       "  <thead>\n",
       "    <tr style=\"text-align: right;\">\n",
       "      <th></th>\n",
       "      <th>trial_id</th>\n",
       "      <th>code</th>\n",
       "      <th>machine</th>\n",
       "      <th>treatment</th>\n",
       "      <th>ttc</th>\n",
       "      <th>failure_time</th>\n",
       "      <th>end_state</th>\n",
       "      <th>total_time_wall_clock</th>\n",
       "      <th>has_failure</th>\n",
       "      <th>factors_avg_speed</th>\n",
       "      <th>factors_battery_charge</th>\n",
       "    </tr>\n",
       "  </thead>\n",
       "  <tbody>\n",
       "    <tr>\n",
       "      <th>0</th>\n",
       "      <td>1</td>\n",
       "      <td>aab</td>\n",
       "      <td>lab-02</td>\n",
       "      <td>baseline</td>\n",
       "      <td>399.566667</td>\n",
       "      <td>None</td>\n",
       "      <td>reach-target</td>\n",
       "      <td>483.507027</td>\n",
       "      <td>False</td>\n",
       "      <td>a</td>\n",
       "      <td>a</td>\n",
       "    </tr>\n",
       "    <tr>\n",
       "      <th>2</th>\n",
       "      <td>1</td>\n",
       "      <td>aab</td>\n",
       "      <td>lab-01</td>\n",
       "      <td>baseline</td>\n",
       "      <td>NaN</td>\n",
       "      <td>None</td>\n",
       "      <td>timeout</td>\n",
       "      <td>900.808468</td>\n",
       "      <td>True</td>\n",
       "      <td>a</td>\n",
       "      <td>a</td>\n",
       "    </tr>\n",
       "    <tr>\n",
       "      <th>4</th>\n",
       "      <td>2</td>\n",
       "      <td>abb</td>\n",
       "      <td>lab-02</td>\n",
       "      <td>baseline</td>\n",
       "      <td>505.266667</td>\n",
       "      <td>None</td>\n",
       "      <td>reach-target</td>\n",
       "      <td>619.646724</td>\n",
       "      <td>False</td>\n",
       "      <td>a</td>\n",
       "      <td>b</td>\n",
       "    </tr>\n",
       "    <tr>\n",
       "      <th>6</th>\n",
       "      <td>2</td>\n",
       "      <td>abb</td>\n",
       "      <td>lab-01</td>\n",
       "      <td>baseline</td>\n",
       "      <td>NaN</td>\n",
       "      <td>None</td>\n",
       "      <td>timeout</td>\n",
       "      <td>900.808468</td>\n",
       "      <td>True</td>\n",
       "      <td>a</td>\n",
       "      <td>b</td>\n",
       "    </tr>\n",
       "  </tbody>\n",
       "</table>\n",
       "</div>"
      ],
      "text/plain": [
       "   trial_id code machine treatment         ttc failure_time     end_state  \\\n",
       "0         1  aab  lab-02  baseline  399.566667         None  reach-target   \n",
       "2         1  aab  lab-01  baseline         NaN         None       timeout   \n",
       "4         2  abb  lab-02  baseline  505.266667         None  reach-target   \n",
       "6         2  abb  lab-01  baseline         NaN         None       timeout   \n",
       "\n",
       "   total_time_wall_clock  has_failure factors_avg_speed factors_battery_charge  \n",
       "0             483.507027        False                 a                      a  \n",
       "2             900.808468         True                 a                      a  \n",
       "4             619.646724        False                 a                      b  \n",
       "6             900.808468         True                 a                      b  "
      ]
     },
     "execution_count": 3,
     "metadata": {},
     "output_type": "execute_result"
    }
   ],
   "source": [
    "baseline_df = trial_run_df[trial_run_df.treatment == 'baseline']\n",
    "baseline_df"
   ]
  },
  {
   "cell_type": "markdown",
   "id": "unnecessary-class",
   "metadata": {},
   "source": [
    "# Planned"
   ]
  },
  {
   "cell_type": "code",
   "execution_count": 4,
   "id": "monthly-remedy",
   "metadata": {},
   "outputs": [
    {
     "data": {
      "text/html": [
       "<div>\n",
       "<style scoped>\n",
       "    .dataframe tbody tr th:only-of-type {\n",
       "        vertical-align: middle;\n",
       "    }\n",
       "\n",
       "    .dataframe tbody tr th {\n",
       "        vertical-align: top;\n",
       "    }\n",
       "\n",
       "    .dataframe thead th {\n",
       "        text-align: right;\n",
       "    }\n",
       "</style>\n",
       "<table border=\"1\" class=\"dataframe\">\n",
       "  <thead>\n",
       "    <tr style=\"text-align: right;\">\n",
       "      <th></th>\n",
       "      <th>trial_id</th>\n",
       "      <th>code</th>\n",
       "      <th>machine</th>\n",
       "      <th>treatment</th>\n",
       "      <th>ttc</th>\n",
       "      <th>failure_time</th>\n",
       "      <th>end_state</th>\n",
       "      <th>total_time_wall_clock</th>\n",
       "      <th>has_failure</th>\n",
       "      <th>factors_avg_speed</th>\n",
       "      <th>factors_battery_charge</th>\n",
       "    </tr>\n",
       "  </thead>\n",
       "  <tbody>\n",
       "    <tr>\n",
       "      <th>1</th>\n",
       "      <td>1</td>\n",
       "      <td>aap</td>\n",
       "      <td>lab-02</td>\n",
       "      <td>planned</td>\n",
       "      <td>398.166667</td>\n",
       "      <td>None</td>\n",
       "      <td>reach-target</td>\n",
       "      <td>475.496615</td>\n",
       "      <td>False</td>\n",
       "      <td>a</td>\n",
       "      <td>a</td>\n",
       "    </tr>\n",
       "    <tr>\n",
       "      <th>3</th>\n",
       "      <td>1</td>\n",
       "      <td>aap</td>\n",
       "      <td>lab-01</td>\n",
       "      <td>planned</td>\n",
       "      <td>NaN</td>\n",
       "      <td>None</td>\n",
       "      <td>timeout</td>\n",
       "      <td>900.808468</td>\n",
       "      <td>True</td>\n",
       "      <td>a</td>\n",
       "      <td>a</td>\n",
       "    </tr>\n",
       "    <tr>\n",
       "      <th>5</th>\n",
       "      <td>2</td>\n",
       "      <td>abp</td>\n",
       "      <td>lab-02</td>\n",
       "      <td>planned</td>\n",
       "      <td>394.016667</td>\n",
       "      <td>None</td>\n",
       "      <td>reach-target</td>\n",
       "      <td>480.507143</td>\n",
       "      <td>False</td>\n",
       "      <td>a</td>\n",
       "      <td>b</td>\n",
       "    </tr>\n",
       "    <tr>\n",
       "      <th>7</th>\n",
       "      <td>2</td>\n",
       "      <td>abp</td>\n",
       "      <td>lab-01</td>\n",
       "      <td>planned</td>\n",
       "      <td>NaN</td>\n",
       "      <td>None</td>\n",
       "      <td>timeout</td>\n",
       "      <td>900.808468</td>\n",
       "      <td>True</td>\n",
       "      <td>a</td>\n",
       "      <td>b</td>\n",
       "    </tr>\n",
       "  </tbody>\n",
       "</table>\n",
       "</div>"
      ],
      "text/plain": [
       "   trial_id code machine treatment         ttc failure_time     end_state  \\\n",
       "1         1  aap  lab-02   planned  398.166667         None  reach-target   \n",
       "3         1  aap  lab-01   planned         NaN         None       timeout   \n",
       "5         2  abp  lab-02   planned  394.016667         None  reach-target   \n",
       "7         2  abp  lab-01   planned         NaN         None       timeout   \n",
       "\n",
       "   total_time_wall_clock  has_failure factors_avg_speed factors_battery_charge  \n",
       "1             475.496615        False                 a                      a  \n",
       "3             900.808468         True                 a                      a  \n",
       "5             480.507143        False                 a                      b  \n",
       "7             900.808468         True                 a                      b  "
      ]
     },
     "execution_count": 4,
     "metadata": {},
     "output_type": "execute_result"
    }
   ],
   "source": [
    "planned_df = trial_run_df[trial_run_df.treatment == 'planned']\n",
    "planned_df"
   ]
  },
  {
   "cell_type": "code",
   "execution_count": 5,
   "id": "elegant-buying",
   "metadata": {},
   "outputs": [
    {
     "data": {
      "text/plain": [
       "396.0916666985"
      ]
     },
     "execution_count": 5,
     "metadata": {},
     "output_type": "execute_result"
    }
   ],
   "source": [
    "# Average TCC\n",
    "\n",
    "planned_ttc_avg = planned_df['ttc'].mean()\n",
    "planned_ttc_avg"
   ]
  },
  {
   "cell_type": "code",
   "execution_count": 6,
   "id": "hundred-ocean",
   "metadata": {},
   "outputs": [
    {
     "data": {
      "text/plain": [
       "(nan, nan, nan)"
      ]
     },
     "execution_count": 6,
     "metadata": {},
     "output_type": "execute_result"
    }
   ],
   "source": [
    "# by machine (no trial run dummy aparece o mesmo porque a pasta foi copiada)\n",
    "(planned_df[planned_df.machine == 'les-01']['ttc'].mean(),\n",
    "planned_df[planned_df.machine == 'les-02']['ttc'].mean(),\n",
    "planned_df[planned_df.machine == 'les-03']['ttc'].mean())\n"
   ]
  },
  {
   "cell_type": "code",
   "execution_count": 7,
   "id": "pretty-chorus",
   "metadata": {},
   "outputs": [
    {
     "data": {
      "text/plain": [
       "(nan, nan)"
      ]
     },
     "execution_count": 7,
     "metadata": {},
     "output_type": "execute_result"
    }
   ],
   "source": [
    "# comparing factors (no dummy os fatores não foram distinguidos, porque teria que renomear os arquivos)\n",
    "(planned_df[planned_df.factors_battery_charge == 'x']['ttc'].mean(),\n",
    " planned_df[planned_df.factors_battery_charge == 'x']['ttc'].mean())"
   ]
  },
  {
   "cell_type": "markdown",
   "id": "empty-pacific",
   "metadata": {},
   "source": [
    "# Statistics"
   ]
  },
  {
   "cell_type": "markdown",
   "id": "fleet-mainstream",
   "metadata": {},
   "source": [
    "## Number of each event\n",
    "i.e. how many times did the simulation achieve each status"
   ]
  },
  {
   "cell_type": "code",
   "execution_count": 8,
   "id": "mineral-institution",
   "metadata": {},
   "outputs": [
    {
     "data": {
      "text/plain": [
       "end_state     treatment\n",
       "reach-target  baseline     2\n",
       "              planned      2\n",
       "timeout       baseline     2\n",
       "              planned      2\n",
       "Name: end_state, dtype: int64"
      ]
     },
     "execution_count": 8,
     "metadata": {},
     "output_type": "execute_result"
    }
   ],
   "source": [
    "# baseline_nums = [{col: None for col in baseline_df} for _ in range(num_experiments)]\n",
    "# for col in baseline_df:\n",
    "#     for i in range(num_experiments):\n",
    "#         try:\n",
    "#             baseline_nums[i][col] = len(baseline_df.loc[i][col])\n",
    "#         except TypeError:\n",
    "#             baseline_nums[i][col] = 0\n",
    "\n",
    "by_end_state = trial_run_df.groupby(['end_state', 'treatment'])['end_state']\n",
    "by_end_state.count()\n",
    "# planned_by_end_state_df = planned_df.groupby('end_state')['end_state'].count()\n",
    "# pd.merge(baseline_by_end_state_df, planned_by_end_state_df, on='end_state')"
   ]
  },
  {
   "cell_type": "code",
   "execution_count": 9,
   "id": "domestic-contamination",
   "metadata": {},
   "outputs": [
    {
     "data": {
      "text/plain": [
       "trial_id  code  treatment  end_state   \n",
       "1         aab   baseline   reach-target    1\n",
       "                           timeout         1\n",
       "          aap   planned    reach-target    1\n",
       "                           timeout         1\n",
       "2         abb   baseline   reach-target    1\n",
       "                           timeout         1\n",
       "          abp   planned    reach-target    1\n",
       "                           timeout         1\n",
       "Name: end_state, dtype: int64"
      ]
     },
     "execution_count": 9,
     "metadata": {},
     "output_type": "execute_result"
    }
   ],
   "source": [
    "trial_run_df.groupby(['trial_id', 'code', 'treatment'])['end_state'].value_counts()"
   ]
  },
  {
   "cell_type": "code",
   "execution_count": 117,
   "id": "essential-investing",
   "metadata": {},
   "outputs": [
    {
     "data": {
      "image/png": "[encoded data removed]",
      "text/plain": [
       "<Figure size 432x288 with 1 Axes>"
      ]
     },
     "metadata": {
      "needs_background": "light"
     },
     "output_type": "display_data"
    }
   ],
   "source": [
    "planned_run_df = trial_run_df[trial_run_df[\"treatment\"] == \"planned\"]\n",
    "ax_planned = sns.countplot(x='trial_id', hue=\"end_state\", data=planned_run_df)"
   ]
  },
  {
   "cell_type": "code",
   "execution_count": 118,
   "id": "portable-engine",
   "metadata": {},
   "outputs": [
    {
     "data": {
      "image/png": "[encoded data removed]",
      "text/plain": [
       "<Figure size 432x288 with 1 Axes>"
      ]
     },
     "metadata": {
      "needs_background": "light"
     },
     "output_type": "display_data"
    }
   ],
   "source": [
    "baseline_run_df = trial_run_df[trial_run_df[\"treatment\"] == \"baseline\"]\n",
    "ax_baseline = sns.countplot(x='trial_id', hue=\"end_state\", data=baseline_run_df)"
   ]
  },
  {
   "cell_type": "markdown",
   "id": "understanding-stroke",
   "metadata": {},
   "source": [
    "## Time to Conclusion"
   ]
  },
  {
   "cell_type": "code",
   "execution_count": 88,
   "id": "solved-aruba",
   "metadata": {},
   "outputs": [
    {
     "data": {
      "text/plain": [
       "<AxesSubplot:xlabel='trial_id', ylabel='ttc'>"
      ]
     },
     "execution_count": 88,
     "metadata": {},
     "output_type": "execute_result"
    },
    {
     "data": {
      "image/png": "[encoded data removed]",
      "text/plain": [
       "<Figure size 432x288 with 1 Axes>"
      ]
     },
     "metadata": {
      "needs_background": "light"
     },
     "output_type": "display_data"
    }
   ],
   "source": [
    "sns.barplot(x='trial_id', y='ttc', hue='treatment', data=trial_run_df, estimator=np.mean)"
   ]
  },
  {
   "cell_type": "markdown",
   "id": "undefined-seattle",
   "metadata": {},
   "source": [
    "## STD"
   ]
  },
  {
   "cell_type": "code",
   "execution_count": 58,
   "id": "instant-photography",
   "metadata": {},
   "outputs": [
    {
     "data": {
      "text/plain": [
       "end_state     treatment\n",
       "reach-target  baseline     74.741187\n",
       "              planned       2.934493\n",
       "timeout       baseline           NaN\n",
       "              planned            NaN\n",
       "Name: ttc, dtype: float64"
      ]
     },
     "execution_count": 58,
     "metadata": {},
     "output_type": "execute_result"
    }
   ],
   "source": [
    "by_end_state_avg = trial_run_df.groupby(['end_state', 'treatment'])['ttc']\n",
    "by_end_state_avg.std()"
   ]
  },
  {
   "cell_type": "markdown",
   "id": "established-kentucky",
   "metadata": {},
   "source": [
    "# Plots"
   ]
  },
  {
   "cell_type": "markdown",
   "id": "paperback-taxation",
   "metadata": {},
   "source": [
    "## Successes per trial"
   ]
  },
  {
   "cell_type": "code",
   "execution_count": 95,
   "id": "steady-trustee",
   "metadata": {},
   "outputs": [
    {
     "data": {
      "text/plain": [
       "<AxesSubplot:xlabel='trial_id', ylabel='count'>"
      ]
     },
     "execution_count": 95,
     "metadata": {},
     "output_type": "execute_result"
    },
    {
     "data": {
      "image/png": "[encoded data removed]",
      "text/plain": [
       "<Figure size 432x288 with 1 Axes>"
      ]
     },
     "metadata": {
      "needs_background": "light"
     },
     "output_type": "display_data"
    }
   ],
   "source": [
    "sns.countplot(x='trial_id', hue=\"treatment\", data=trial_run_df[trial_run_df[\"end_state\"] == \"reach-target\"])"
   ]
  },
  {
   "cell_type": "markdown",
   "id": "unauthorized-solution",
   "metadata": {},
   "source": [
    "### Average time to reach target"
   ]
  },
  {
   "cell_type": "code",
   "execution_count": null,
   "id": "executed-compound",
   "metadata": {},
   "outputs": [],
   "source": [
    "_, ax = plt.subplots()\n",
    "time[\"Planned Average Time\"].plot.bar(stacked=True, figsize=(16, 8), ax=ax, color=\"blue\", legend=True)\n",
    "time[\"Baseline Average Time\"].plot.bar(stacked=True, figsize=(16, 8), ax=ax, color=\"orange\", legend=True)"
   ]
  },
  {
   "cell_type": "code",
   "execution_count": null,
   "id": "bronze-heading",
   "metadata": {},
   "outputs": [],
   "source": [
    "time.plot.bar(figsize=(16, 8))"
   ]
  },
  {
   "cell_type": "markdown",
   "id": "lesser-flavor",
   "metadata": {},
   "source": [
    "# Metrics\n",
    "## Metric1 - Success"
   ]
  },
  {
   "cell_type": "code",
   "execution_count": 159,
   "id": "later-criminal",
   "metadata": {},
   "outputs": [
    {
     "data": {
      "text/html": [
       "<div>\n",
       "<style scoped>\n",
       "    .dataframe tbody tr th:only-of-type {\n",
       "        vertical-align: middle;\n",
       "    }\n",
       "\n",
       "    .dataframe tbody tr th {\n",
       "        vertical-align: top;\n",
       "    }\n",
       "\n",
       "    .dataframe thead th {\n",
       "        text-align: right;\n",
       "    }\n",
       "</style>\n",
       "<table border=\"1\" class=\"dataframe\">\n",
       "  <thead>\n",
       "    <tr style=\"text-align: right;\">\n",
       "      <th></th>\n",
       "      <th>Metric 1</th>\n",
       "    </tr>\n",
       "  </thead>\n",
       "  <tbody>\n",
       "    <tr>\n",
       "      <th>0</th>\n",
       "      <td>1.0</td>\n",
       "    </tr>\n",
       "    <tr>\n",
       "      <th>1</th>\n",
       "      <td>1.0</td>\n",
       "    </tr>\n",
       "  </tbody>\n",
       "</table>\n",
       "</div>"
      ],
      "text/plain": [
       "   Metric 1\n",
       "0       1.0\n",
       "1       1.0"
      ]
     },
     "execution_count": 159,
     "metadata": {},
     "output_type": "execute_result"
    }
   ],
   "source": [
    "metric1 = {\"Metric 1\": [planned_suc/baseline_suc for planned_suc, baseline_suc in \n",
    "                        zip(planned_df.groupby(\"end_state\")[\"trial_id\"].value_counts()[\"reach-target\"],\n",
    "                            baseline_df.groupby(\"end_state\")[\"trial_id\"].value_counts()[\"reach-target\"])]}\n",
    "metric1 = pd.DataFrame(metric1)\n",
    "metric1"
   ]
  },
  {
   "cell_type": "code",
   "execution_count": 160,
   "id": "intensive-freedom",
   "metadata": {},
   "outputs": [
    {
     "data": {
      "text/plain": [
       "<AxesSubplot:>"
      ]
     },
     "execution_count": 160,
     "metadata": {},
     "output_type": "execute_result"
    },
    {
     "data": {
      "image/png": "[encoded data removed]",
      "text/plain": [
       "<Figure size 1152x576 with 1 Axes>"
      ]
     },
     "metadata": {
      "needs_background": "light"
     },
     "output_type": "display_data"
    }
   ],
   "source": [
    "metric1.plot.bar(figsize=(16, 8))"
   ]
  },
  {
   "cell_type": "markdown",
   "id": "waiting-lying",
   "metadata": {},
   "source": [
    "## Metric2 - TTC"
   ]
  },
  {
   "cell_type": "code",
   "execution_count": 161,
   "id": "needed-joyce",
   "metadata": {},
   "outputs": [
    {
     "data": {
      "text/html": [
       "<div>\n",
       "<style scoped>\n",
       "    .dataframe tbody tr th:only-of-type {\n",
       "        vertical-align: middle;\n",
       "    }\n",
       "\n",
       "    .dataframe tbody tr th {\n",
       "        vertical-align: top;\n",
       "    }\n",
       "\n",
       "    .dataframe thead th {\n",
       "        text-align: right;\n",
       "    }\n",
       "</style>\n",
       "<table border=\"1\" class=\"dataframe\">\n",
       "  <thead>\n",
       "    <tr style=\"text-align: right;\">\n",
       "      <th></th>\n",
       "      <th>Metric 2</th>\n",
       "    </tr>\n",
       "  </thead>\n",
       "  <tbody>\n",
       "    <tr>\n",
       "      <th>0</th>\n",
       "      <td>1.0</td>\n",
       "    </tr>\n",
       "    <tr>\n",
       "      <th>1</th>\n",
       "      <td>1.0</td>\n",
       "    </tr>\n",
       "  </tbody>\n",
       "</table>\n",
       "</div>"
      ],
      "text/plain": [
       "   Metric 2\n",
       "0       1.0\n",
       "1       1.0"
      ]
     },
     "execution_count": 161,
     "metadata": {},
     "output_type": "execute_result"
    }
   ],
   "source": [
    "metric2 = {\"Metric 2\": [planned_ttc/baseline_ttc for planned_ttc, baseline_ttc in \n",
    "                        zip(planned_df.groupby(\"end_state\")[\"ttc\"].value_counts()[\"reach-target\"],\n",
    "                            baseline_df.groupby(\"end_state\")[\"ttc\"].value_counts()[\"reach-target\"])]}\n",
    "metric2 = pd.DataFrame(metric2)\n",
    "metric2"
   ]
  },
  {
   "cell_type": "code",
   "execution_count": 162,
   "id": "sudden-mississippi",
   "metadata": {},
   "outputs": [
    {
     "data": {
      "text/plain": [
       "<AxesSubplot:>"
      ]
     },
     "execution_count": 162,
     "metadata": {},
     "output_type": "execute_result"
    },
    {
     "data": {
      "image/png": "[encoded data removed]",
      "text/plain": [
       "<Figure size 1152x576 with 1 Axes>"
      ]
     },
     "metadata": {
      "needs_background": "light"
     },
     "output_type": "display_data"
    }
   ],
   "source": [
    "metric2.plot.bar(figsize=(16, 8))"
   ]
  }
 ],
 "metadata": {
  "interpreter": {
   "hash": "aee8b7b246df8f9039afb4144a1f6fd8d2ca17a180786b69acc140d282b71a49"
  },
  "kernelspec": {
   "display_name": "Python 3",
   "language": "python",
   "name": "python3"
  },
  "language_info": {
   "codemirror_mode": {
    "name": "ipython",
    "version": 3
   },
   "file_extension": ".py",
   "mimetype": "text/x-python",
   "name": "python",
   "nbconvert_exporter": "python",
   "pygments_lexer": "ipython3",
   "version": "3.9.2"
  }
 },
 "nbformat": 4,
 "nbformat_minor": 5
}
