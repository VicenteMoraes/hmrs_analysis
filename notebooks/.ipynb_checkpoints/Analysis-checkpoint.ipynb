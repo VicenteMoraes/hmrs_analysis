{
 "cells": [
  {
   "cell_type": "markdown",
   "id": "f1d16b36",
   "metadata": {},
   "source": [
    "# Load data "
   ]
  },
  {
   "cell_type": "code",
   "execution_count": 123,
   "id": "4ddaa4e0",
   "metadata": {},
   "outputs": [],
   "source": [
    "import sys\n",
    "sys.path.append('../src')\n",
    "\n",
    "import pandas as pd\n",
    "import numpy as np\n",
    "import matplotlib.pyplot as plt\n",
    "from functools import reduce\n",
    "\n",
    "from parse_logs import parser\n",
    "\n",
    "# test data\n",
    "parser.root_data_path = '../tests/data'\n",
    "trial_run_objects = parser.get_trial_runs(\n",
    "    exp_run_code='experiment_2021_04_01_16_20_00_run_1')\n",
    "\n",
    "# parser.root_data_path = '../data'\n",
    "# load trials run to dict (it can take a while)\n",
    "#trial_run_objects = parser.get_trial_runs(\n",
    "#    exp_run_code='experiment_2021_07_09_10_03_24_run_dummy')\n",
    "\n",
    "trial_run_dicts = [trial_run.to_dict() for trial_run in trial_run_objects]\n"
   ]
  },
  {
   "cell_type": "code",
   "execution_count": 124,
   "id": "af865a01-2092-4b73-9b15-d6838514d939",
   "metadata": {},
   "outputs": [
    {
     "data": {
      "text/html": [
       "<div>\n",
       "<style scoped>\n",
       "    .dataframe tbody tr th:only-of-type {\n",
       "        vertical-align: middle;\n",
       "    }\n",
       "\n",
       "    .dataframe tbody tr th {\n",
       "        vertical-align: top;\n",
       "    }\n",
       "\n",
       "    .dataframe thead th {\n",
       "        text-align: right;\n",
       "    }\n",
       "</style>\n",
       "<table border=\"1\" class=\"dataframe\">\n",
       "  <thead>\n",
       "    <tr style=\"text-align: right;\">\n",
       "      <th></th>\n",
       "      <th>trial_id</th>\n",
       "      <th>code</th>\n",
       "      <th>machine</th>\n",
       "      <th>treatment</th>\n",
       "      <th>ttc</th>\n",
       "      <th>failure_time</th>\n",
       "      <th>end_state</th>\n",
       "      <th>total_time_wall_clock</th>\n",
       "      <th>has_failure</th>\n",
       "      <th>factors_avg_speed</th>\n",
       "      <th>factors_battery_charge</th>\n",
       "    </tr>\n",
       "  </thead>\n",
       "  <tbody>\n",
       "    <tr>\n",
       "      <th>0</th>\n",
       "      <td>1</td>\n",
       "      <td>aab</td>\n",
       "      <td>lab-01</td>\n",
       "      <td>baseline</td>\n",
       "      <td>NaN</td>\n",
       "      <td>None</td>\n",
       "      <td>timeout</td>\n",
       "      <td>900.808468</td>\n",
       "      <td>True</td>\n",
       "      <td>a</td>\n",
       "      <td>a</td>\n",
       "    </tr>\n",
       "    <tr>\n",
       "      <th>1</th>\n",
       "      <td>1</td>\n",
       "      <td>aap</td>\n",
       "      <td>lab-01</td>\n",
       "      <td>planned</td>\n",
       "      <td>NaN</td>\n",
       "      <td>None</td>\n",
       "      <td>timeout</td>\n",
       "      <td>900.808468</td>\n",
       "      <td>True</td>\n",
       "      <td>a</td>\n",
       "      <td>a</td>\n",
       "    </tr>\n",
       "    <tr>\n",
       "      <th>2</th>\n",
       "      <td>1</td>\n",
       "      <td>aab</td>\n",
       "      <td>lab-02</td>\n",
       "      <td>baseline</td>\n",
       "      <td>399.566667</td>\n",
       "      <td>None</td>\n",
       "      <td>reach-target</td>\n",
       "      <td>483.507027</td>\n",
       "      <td>False</td>\n",
       "      <td>a</td>\n",
       "      <td>a</td>\n",
       "    </tr>\n",
       "    <tr>\n",
       "      <th>3</th>\n",
       "      <td>1</td>\n",
       "      <td>aap</td>\n",
       "      <td>lab-02</td>\n",
       "      <td>planned</td>\n",
       "      <td>398.166667</td>\n",
       "      <td>None</td>\n",
       "      <td>reach-target</td>\n",
       "      <td>475.496615</td>\n",
       "      <td>False</td>\n",
       "      <td>a</td>\n",
       "      <td>a</td>\n",
       "    </tr>\n",
       "    <tr>\n",
       "      <th>4</th>\n",
       "      <td>2</td>\n",
       "      <td>abp</td>\n",
       "      <td>lab-01</td>\n",
       "      <td>planned</td>\n",
       "      <td>NaN</td>\n",
       "      <td>None</td>\n",
       "      <td>timeout</td>\n",
       "      <td>900.808468</td>\n",
       "      <td>True</td>\n",
       "      <td>a</td>\n",
       "      <td>b</td>\n",
       "    </tr>\n",
       "    <tr>\n",
       "      <th>5</th>\n",
       "      <td>2</td>\n",
       "      <td>abb</td>\n",
       "      <td>lab-01</td>\n",
       "      <td>baseline</td>\n",
       "      <td>NaN</td>\n",
       "      <td>None</td>\n",
       "      <td>timeout</td>\n",
       "      <td>900.808468</td>\n",
       "      <td>True</td>\n",
       "      <td>a</td>\n",
       "      <td>b</td>\n",
       "    </tr>\n",
       "    <tr>\n",
       "      <th>6</th>\n",
       "      <td>2</td>\n",
       "      <td>abp</td>\n",
       "      <td>lab-02</td>\n",
       "      <td>planned</td>\n",
       "      <td>394.016667</td>\n",
       "      <td>None</td>\n",
       "      <td>reach-target</td>\n",
       "      <td>480.507143</td>\n",
       "      <td>False</td>\n",
       "      <td>a</td>\n",
       "      <td>b</td>\n",
       "    </tr>\n",
       "    <tr>\n",
       "      <th>7</th>\n",
       "      <td>2</td>\n",
       "      <td>abb</td>\n",
       "      <td>lab-02</td>\n",
       "      <td>baseline</td>\n",
       "      <td>505.266667</td>\n",
       "      <td>None</td>\n",
       "      <td>reach-target</td>\n",
       "      <td>619.646724</td>\n",
       "      <td>False</td>\n",
       "      <td>a</td>\n",
       "      <td>b</td>\n",
       "    </tr>\n",
       "  </tbody>\n",
       "</table>\n",
       "</div>"
      ],
      "text/plain": [
       "   trial_id code machine treatment         ttc failure_time     end_state  \\\n",
       "0         1  aab  lab-01  baseline         NaN         None       timeout   \n",
       "1         1  aap  lab-01   planned         NaN         None       timeout   \n",
       "2         1  aab  lab-02  baseline  399.566667         None  reach-target   \n",
       "3         1  aap  lab-02   planned  398.166667         None  reach-target   \n",
       "4         2  abp  lab-01   planned         NaN         None       timeout   \n",
       "5         2  abb  lab-01  baseline         NaN         None       timeout   \n",
       "6         2  abp  lab-02   planned  394.016667         None  reach-target   \n",
       "7         2  abb  lab-02  baseline  505.266667         None  reach-target   \n",
       "\n",
       "   total_time_wall_clock  has_failure factors_avg_speed factors_battery_charge  \n",
       "0             900.808468         True                 a                      a  \n",
       "1             900.808468         True                 a                      a  \n",
       "2             483.507027        False                 a                      a  \n",
       "3             475.496615        False                 a                      a  \n",
       "4             900.808468         True                 a                      b  \n",
       "5             900.808468         True                 a                      b  \n",
       "6             480.507143        False                 a                      b  \n",
       "7             619.646724        False                 a                      b  "
      ]
     },
     "execution_count": 124,
     "metadata": {},
     "output_type": "execute_result"
    }
   ],
   "source": [
    "# sort and instantiate a dataframe\n",
    "trial_run_dicts.sort(key=lambda tr: tr['trial_id'])\n",
    "trial_run_dicts\n",
    "\n",
    "trial_run_df = pd.DataFrame.from_records(trial_run_dicts)\n",
    "trial_run_df"
   ]
  },
  {
   "cell_type": "markdown",
   "id": "6a811293-f8d1-42b8-affc-c1fa7042ac7c",
   "metadata": {},
   "source": [
    "## Baseline"
   ]
  },
  {
   "cell_type": "code",
   "execution_count": 125,
   "id": "f49f4410-c8fa-4eb3-a384-71e2aa6406bc",
   "metadata": {},
   "outputs": [
    {
     "data": {
      "text/html": [
       "<div>\n",
       "<style scoped>\n",
       "    .dataframe tbody tr th:only-of-type {\n",
       "        vertical-align: middle;\n",
       "    }\n",
       "\n",
       "    .dataframe tbody tr th {\n",
       "        vertical-align: top;\n",
       "    }\n",
       "\n",
       "    .dataframe thead th {\n",
       "        text-align: right;\n",
       "    }\n",
       "</style>\n",
       "<table border=\"1\" class=\"dataframe\">\n",
       "  <thead>\n",
       "    <tr style=\"text-align: right;\">\n",
       "      <th></th>\n",
       "      <th>trial_id</th>\n",
       "      <th>code</th>\n",
       "      <th>machine</th>\n",
       "      <th>treatment</th>\n",
       "      <th>ttc</th>\n",
       "      <th>failure_time</th>\n",
       "      <th>end_state</th>\n",
       "      <th>total_time_wall_clock</th>\n",
       "      <th>has_failure</th>\n",
       "      <th>factors_avg_speed</th>\n",
       "      <th>factors_battery_charge</th>\n",
       "    </tr>\n",
       "  </thead>\n",
       "  <tbody>\n",
       "    <tr>\n",
       "      <th>0</th>\n",
       "      <td>1</td>\n",
       "      <td>aab</td>\n",
       "      <td>lab-01</td>\n",
       "      <td>baseline</td>\n",
       "      <td>NaN</td>\n",
       "      <td>None</td>\n",
       "      <td>timeout</td>\n",
       "      <td>900.808468</td>\n",
       "      <td>True</td>\n",
       "      <td>a</td>\n",
       "      <td>a</td>\n",
       "    </tr>\n",
       "    <tr>\n",
       "      <th>2</th>\n",
       "      <td>1</td>\n",
       "      <td>aab</td>\n",
       "      <td>lab-02</td>\n",
       "      <td>baseline</td>\n",
       "      <td>399.566667</td>\n",
       "      <td>None</td>\n",
       "      <td>reach-target</td>\n",
       "      <td>483.507027</td>\n",
       "      <td>False</td>\n",
       "      <td>a</td>\n",
       "      <td>a</td>\n",
       "    </tr>\n",
       "    <tr>\n",
       "      <th>5</th>\n",
       "      <td>2</td>\n",
       "      <td>abb</td>\n",
       "      <td>lab-01</td>\n",
       "      <td>baseline</td>\n",
       "      <td>NaN</td>\n",
       "      <td>None</td>\n",
       "      <td>timeout</td>\n",
       "      <td>900.808468</td>\n",
       "      <td>True</td>\n",
       "      <td>a</td>\n",
       "      <td>b</td>\n",
       "    </tr>\n",
       "    <tr>\n",
       "      <th>7</th>\n",
       "      <td>2</td>\n",
       "      <td>abb</td>\n",
       "      <td>lab-02</td>\n",
       "      <td>baseline</td>\n",
       "      <td>505.266667</td>\n",
       "      <td>None</td>\n",
       "      <td>reach-target</td>\n",
       "      <td>619.646724</td>\n",
       "      <td>False</td>\n",
       "      <td>a</td>\n",
       "      <td>b</td>\n",
       "    </tr>\n",
       "  </tbody>\n",
       "</table>\n",
       "</div>"
      ],
      "text/plain": [
       "   trial_id code machine treatment         ttc failure_time     end_state  \\\n",
       "0         1  aab  lab-01  baseline         NaN         None       timeout   \n",
       "2         1  aab  lab-02  baseline  399.566667         None  reach-target   \n",
       "5         2  abb  lab-01  baseline         NaN         None       timeout   \n",
       "7         2  abb  lab-02  baseline  505.266667         None  reach-target   \n",
       "\n",
       "   total_time_wall_clock  has_failure factors_avg_speed factors_battery_charge  \n",
       "0             900.808468         True                 a                      a  \n",
       "2             483.507027        False                 a                      a  \n",
       "5             900.808468         True                 a                      b  \n",
       "7             619.646724        False                 a                      b  "
      ]
     },
     "execution_count": 125,
     "metadata": {},
     "output_type": "execute_result"
    }
   ],
   "source": [
    "baseline_df = trial_run_df[trial_run_df.treatment == 'baseline']\n",
    "baseline_df"
   ]
  },
  {
   "cell_type": "markdown",
   "id": "1e938378",
   "metadata": {},
   "source": [
    "# Planned"
   ]
  },
  {
   "cell_type": "code",
   "execution_count": 126,
   "id": "263a27c1",
   "metadata": {},
   "outputs": [
    {
     "data": {
      "text/html": [
       "<div>\n",
       "<style scoped>\n",
       "    .dataframe tbody tr th:only-of-type {\n",
       "        vertical-align: middle;\n",
       "    }\n",
       "\n",
       "    .dataframe tbody tr th {\n",
       "        vertical-align: top;\n",
       "    }\n",
       "\n",
       "    .dataframe thead th {\n",
       "        text-align: right;\n",
       "    }\n",
       "</style>\n",
       "<table border=\"1\" class=\"dataframe\">\n",
       "  <thead>\n",
       "    <tr style=\"text-align: right;\">\n",
       "      <th></th>\n",
       "      <th>trial_id</th>\n",
       "      <th>code</th>\n",
       "      <th>machine</th>\n",
       "      <th>treatment</th>\n",
       "      <th>ttc</th>\n",
       "      <th>failure_time</th>\n",
       "      <th>end_state</th>\n",
       "      <th>total_time_wall_clock</th>\n",
       "      <th>has_failure</th>\n",
       "      <th>factors_avg_speed</th>\n",
       "      <th>factors_battery_charge</th>\n",
       "    </tr>\n",
       "  </thead>\n",
       "  <tbody>\n",
       "    <tr>\n",
       "      <th>1</th>\n",
       "      <td>1</td>\n",
       "      <td>aap</td>\n",
       "      <td>lab-01</td>\n",
       "      <td>planned</td>\n",
       "      <td>NaN</td>\n",
       "      <td>None</td>\n",
       "      <td>timeout</td>\n",
       "      <td>900.808468</td>\n",
       "      <td>True</td>\n",
       "      <td>a</td>\n",
       "      <td>a</td>\n",
       "    </tr>\n",
       "    <tr>\n",
       "      <th>3</th>\n",
       "      <td>1</td>\n",
       "      <td>aap</td>\n",
       "      <td>lab-02</td>\n",
       "      <td>planned</td>\n",
       "      <td>398.166667</td>\n",
       "      <td>None</td>\n",
       "      <td>reach-target</td>\n",
       "      <td>475.496615</td>\n",
       "      <td>False</td>\n",
       "      <td>a</td>\n",
       "      <td>a</td>\n",
       "    </tr>\n",
       "    <tr>\n",
       "      <th>4</th>\n",
       "      <td>2</td>\n",
       "      <td>abp</td>\n",
       "      <td>lab-01</td>\n",
       "      <td>planned</td>\n",
       "      <td>NaN</td>\n",
       "      <td>None</td>\n",
       "      <td>timeout</td>\n",
       "      <td>900.808468</td>\n",
       "      <td>True</td>\n",
       "      <td>a</td>\n",
       "      <td>b</td>\n",
       "    </tr>\n",
       "    <tr>\n",
       "      <th>6</th>\n",
       "      <td>2</td>\n",
       "      <td>abp</td>\n",
       "      <td>lab-02</td>\n",
       "      <td>planned</td>\n",
       "      <td>394.016667</td>\n",
       "      <td>None</td>\n",
       "      <td>reach-target</td>\n",
       "      <td>480.507143</td>\n",
       "      <td>False</td>\n",
       "      <td>a</td>\n",
       "      <td>b</td>\n",
       "    </tr>\n",
       "  </tbody>\n",
       "</table>\n",
       "</div>"
      ],
      "text/plain": [
       "   trial_id code machine treatment         ttc failure_time     end_state  \\\n",
       "1         1  aap  lab-01   planned         NaN         None       timeout   \n",
       "3         1  aap  lab-02   planned  398.166667         None  reach-target   \n",
       "4         2  abp  lab-01   planned         NaN         None       timeout   \n",
       "6         2  abp  lab-02   planned  394.016667         None  reach-target   \n",
       "\n",
       "   total_time_wall_clock  has_failure factors_avg_speed factors_battery_charge  \n",
       "1             900.808468         True                 a                      a  \n",
       "3             475.496615        False                 a                      a  \n",
       "4             900.808468         True                 a                      b  \n",
       "6             480.507143        False                 a                      b  "
      ]
     },
     "execution_count": 126,
     "metadata": {},
     "output_type": "execute_result"
    }
   ],
   "source": [
    "planned_df = trial_run_df[trial_run_df.treatment == 'planned']\n",
    "planned_df"
   ]
  },
  {
   "cell_type": "code",
   "execution_count": 127,
   "id": "8947cc33",
   "metadata": {},
   "outputs": [
    {
     "data": {
      "text/plain": [
       "396.0916666985"
      ]
     },
     "execution_count": 127,
     "metadata": {},
     "output_type": "execute_result"
    }
   ],
   "source": [
    "# Average TCC\n",
    "\n",
    "planned_ttc_avg = planned_df['ttc'].mean()\n",
    "planned_ttc_avg"
   ]
  },
  {
   "cell_type": "code",
   "execution_count": 128,
   "id": "53540262-977a-4bf6-ad74-ed4e1f4416f5",
   "metadata": {},
   "outputs": [
    {
     "data": {
      "text/html": [
       "<div>\n",
       "<style scoped>\n",
       "    .dataframe tbody tr th:only-of-type {\n",
       "        vertical-align: middle;\n",
       "    }\n",
       "\n",
       "    .dataframe tbody tr th {\n",
       "        vertical-align: top;\n",
       "    }\n",
       "\n",
       "    .dataframe thead th {\n",
       "        text-align: right;\n",
       "    }\n",
       "</style>\n",
       "<table border=\"1\" class=\"dataframe\">\n",
       "  <thead>\n",
       "    <tr style=\"text-align: right;\">\n",
       "      <th></th>\n",
       "      <th></th>\n",
       "      <th></th>\n",
       "      <th>trial_id</th>\n",
       "    </tr>\n",
       "    <tr>\n",
       "      <th>machine</th>\n",
       "      <th>treatment</th>\n",
       "      <th>end_state</th>\n",
       "      <th></th>\n",
       "    </tr>\n",
       "  </thead>\n",
       "  <tbody>\n",
       "    <tr>\n",
       "      <th rowspan=\"2\" valign=\"top\">lab-01</th>\n",
       "      <th>baseline</th>\n",
       "      <th>timeout</th>\n",
       "      <td>2</td>\n",
       "    </tr>\n",
       "    <tr>\n",
       "      <th>planned</th>\n",
       "      <th>timeout</th>\n",
       "      <td>2</td>\n",
       "    </tr>\n",
       "    <tr>\n",
       "      <th rowspan=\"2\" valign=\"top\">lab-02</th>\n",
       "      <th>baseline</th>\n",
       "      <th>reach-target</th>\n",
       "      <td>2</td>\n",
       "    </tr>\n",
       "    <tr>\n",
       "      <th>planned</th>\n",
       "      <th>reach-target</th>\n",
       "      <td>2</td>\n",
       "    </tr>\n",
       "  </tbody>\n",
       "</table>\n",
       "</div>"
      ],
      "text/plain": [
       "                                trial_id\n",
       "machine treatment end_state             \n",
       "lab-01  baseline  timeout              2\n",
       "        planned   timeout              2\n",
       "lab-02  baseline  reach-target         2\n",
       "        planned   reach-target         2"
      ]
     },
     "execution_count": 128,
     "metadata": {},
     "output_type": "execute_result"
    }
   ],
   "source": [
    "trial_run_df.groupby(['machine', 'treatment', 'end_state'])['trial_id'].count().to_frame()"
   ]
  },
  {
   "cell_type": "code",
   "execution_count": 129,
   "id": "7087e777-13f2-49f5-a943-c1b757ec11d0",
   "metadata": {},
   "outputs": [
    {
     "data": {
      "text/plain": [
       "(nan, nan, nan)"
      ]
     },
     "execution_count": 129,
     "metadata": {},
     "output_type": "execute_result"
    }
   ],
   "source": [
    "# by machine (no trial run dummy aparece o mesmo porque a pasta foi copiada)\n",
    "(planned_df[planned_df.machine == 'les-01']['ttc'].mean(),\n",
    "planned_df[planned_df.machine == 'les-02']['ttc'].mean(),\n",
    "planned_df[planned_df.machine == 'les-03']['ttc'].mean())\n"
   ]
  },
  {
   "cell_type": "code",
   "execution_count": 130,
   "id": "465a865f-7e9b-40cf-8bb8-14be905c9bed",
   "metadata": {},
   "outputs": [
    {
     "data": {
      "text/plain": [
       "(nan, nan)"
      ]
     },
     "execution_count": 130,
     "metadata": {},
     "output_type": "execute_result"
    }
   ],
   "source": [
    "# comparing factors (no dummy os fatores não foram distinguidos, porque teria que renomear os arquivos)\n",
    "(planned_df[planned_df.factors_battery_charge == 'x']['ttc'].mean(),\n",
    " planned_df[planned_df.factors_battery_charge == 'x']['ttc'].mean())"
   ]
  },
  {
   "cell_type": "markdown",
   "id": "025b3b05",
   "metadata": {},
   "source": [
    "# Statistics"
   ]
  },
  {
   "cell_type": "markdown",
   "id": "e1df1c33",
   "metadata": {},
   "source": [
    "## Number of each event\n",
    "i.e. how many times did the simulation achieve each status"
   ]
  },
  {
   "cell_type": "code",
   "execution_count": 131,
   "id": "cf3e65b6",
   "metadata": {},
   "outputs": [
    {
     "data": {
      "text/plain": [
       "end_state     treatment\n",
       "reach-target  baseline     2\n",
       "              planned      2\n",
       "timeout       baseline     2\n",
       "              planned      2\n",
       "Name: end_state, dtype: int64"
      ]
     },
     "execution_count": 131,
     "metadata": {},
     "output_type": "execute_result"
    }
   ],
   "source": [
    "# baseline_nums = [{col: None for col in baseline_df} for _ in range(num_experiments)]\n",
    "# for col in baseline_df:\n",
    "#     for i in range(num_experiments):\n",
    "#         try:\n",
    "#             baseline_nums[i][col] = len(baseline_df.loc[i][col])\n",
    "#         except TypeError:\n",
    "#             baseline_nums[i][col] = 0\n",
    "\n",
    "by_end_state = trial_run_df.groupby(['end_state', 'treatment'])['end_state']\n",
    "by_end_state.count()\n",
    "# planned_by_end_state_df = planned_df.groupby('end_state')['end_state'].count()\n",
    "# pd.merge(baseline_by_end_state_df, planned_by_end_state_df, on='end_state')"
   ]
  },
  {
   "cell_type": "markdown",
   "id": "777a8a68",
   "metadata": {},
   "source": [
    "## Time to Conclusion"
   ]
  },
  {
   "cell_type": "code",
   "execution_count": 132,
   "id": "d0a18b93",
   "metadata": {},
   "outputs": [
    {
     "data": {
      "text/html": [
       "<div>\n",
       "<style scoped>\n",
       "    .dataframe tbody tr th:only-of-type {\n",
       "        vertical-align: middle;\n",
       "    }\n",
       "\n",
       "    .dataframe tbody tr th {\n",
       "        vertical-align: top;\n",
       "    }\n",
       "\n",
       "    .dataframe thead th {\n",
       "        text-align: right;\n",
       "    }\n",
       "</style>\n",
       "<table border=\"1\" class=\"dataframe\">\n",
       "  <thead>\n",
       "    <tr style=\"text-align: right;\">\n",
       "      <th></th>\n",
       "      <th></th>\n",
       "      <th>ttc</th>\n",
       "      <th>trial_id</th>\n",
       "    </tr>\n",
       "    <tr>\n",
       "      <th>treatment</th>\n",
       "      <th>end_state</th>\n",
       "      <th></th>\n",
       "      <th></th>\n",
       "    </tr>\n",
       "  </thead>\n",
       "  <tbody>\n",
       "    <tr>\n",
       "      <th rowspan=\"2\" valign=\"top\">baseline</th>\n",
       "      <th>reach-target</th>\n",
       "      <td>452.416667</td>\n",
       "      <td>2</td>\n",
       "    </tr>\n",
       "    <tr>\n",
       "      <th>timeout</th>\n",
       "      <td>NaN</td>\n",
       "      <td>2</td>\n",
       "    </tr>\n",
       "    <tr>\n",
       "      <th rowspan=\"2\" valign=\"top\">planned</th>\n",
       "      <th>reach-target</th>\n",
       "      <td>396.091667</td>\n",
       "      <td>2</td>\n",
       "    </tr>\n",
       "    <tr>\n",
       "      <th>timeout</th>\n",
       "      <td>NaN</td>\n",
       "      <td>2</td>\n",
       "    </tr>\n",
       "  </tbody>\n",
       "</table>\n",
       "</div>"
      ],
      "text/plain": [
       "                               ttc  trial_id\n",
       "treatment end_state                         \n",
       "baseline  reach-target  452.416667         2\n",
       "          timeout              NaN         2\n",
       "planned   reach-target  396.091667         2\n",
       "          timeout              NaN         2"
      ]
     },
     "execution_count": 132,
     "metadata": {},
     "output_type": "execute_result"
    }
   ],
   "source": [
    "by_end_state = trial_run_df.groupby(['treatment', 'end_state'])\n",
    "pd.merge(by_end_state['ttc'].mean().to_frame(), by_end_state['trial_id'].count(), on=['treatment', 'end_state'], how='inner') "
   ]
  },
  {
   "cell_type": "markdown",
   "id": "d92b4e1b",
   "metadata": {},
   "source": [
    "## STD"
   ]
  },
  {
   "cell_type": "code",
   "execution_count": 133,
   "id": "bf7ea0e6",
   "metadata": {},
   "outputs": [
    {
     "data": {
      "text/plain": [
       "end_state     treatment\n",
       "reach-target  baseline     74.741187\n",
       "              planned       2.934493\n",
       "timeout       baseline           NaN\n",
       "              planned            NaN\n",
       "Name: ttc, dtype: float64"
      ]
     },
     "execution_count": 133,
     "metadata": {},
     "output_type": "execute_result"
    }
   ],
   "source": [
    "by_end_state_avg = trial_run_df.groupby(['end_state', 'treatment'])['ttc']\n",
    "by_end_state_avg.std()\n",
    "\n",
    "by_end_state_avg.std()"
   ]
  },
  {
   "cell_type": "markdown",
   "id": "2162e06e",
   "metadata": {},
   "source": [
    "# Plots"
   ]
  },
  {
   "cell_type": "code",
   "execution_count": 134,
   "id": "313bfc5a",
   "metadata": {},
   "outputs": [
    {
     "data": {
      "text/plain": [
       "<AxesSubplot:xlabel='trial_id', ylabel='ttc'>"
      ]
     },
     "execution_count": 134,
     "metadata": {},
     "output_type": "execute_result"
    },
    {
     "data": {
      "image/png": "[encoded data removed]",
      "text/plain": [
       "<Figure size 432x288 with 1 Axes>"
      ]
     },
     "metadata": {
      "needs_background": "light"
     },
     "output_type": "display_data"
    }
   ],
   "source": [
    "ax = baseline_df.plot.scatter(x='trial_id', y='ttc', color=\"DarkBlue\", label=\"Baseline\")\n",
    "planned_df.plot.scatter(x='trial_id', y='ttc', color=\"DarkGreen\", ax=ax, label=\"Planned\")\n"
   ]
  },
  {
   "cell_type": "code",
   "execution_count": 135,
   "id": "b1243ef4",
   "metadata": {},
   "outputs": [
    {
     "ename": "NameError",
     "evalue": "name 'planned_nums' is not defined",
     "output_type": "error",
     "traceback": [
      "\u001b[0;31m---------------------------------------------------------------------------\u001b[0m",
      "\u001b[0;31mNameError\u001b[0m                                 Traceback (most recent call last)",
      "\u001b[0;32m<ipython-input-135-a12333fe47e5>\u001b[0m in \u001b[0;36m<module>\u001b[0;34m\u001b[0m\n\u001b[0;32m----> 1\u001b[0;31m \u001b[0maxes\u001b[0m \u001b[0;34m=\u001b[0m \u001b[0mplanned_nums\u001b[0m\u001b[0;34m.\u001b[0m\u001b[0mplot\u001b[0m\u001b[0;34m.\u001b[0m\u001b[0mbar\u001b[0m\u001b[0;34m(\u001b[0m\u001b[0msubplots\u001b[0m\u001b[0;34m=\u001b[0m\u001b[0;32mTrue\u001b[0m\u001b[0;34m,\u001b[0m \u001b[0mfigsize\u001b[0m\u001b[0;34m=\u001b[0m\u001b[0;34m(\u001b[0m\u001b[0;36m16\u001b[0m\u001b[0;34m,\u001b[0m \u001b[0;36m8\u001b[0m\u001b[0;34m)\u001b[0m\u001b[0;34m,\u001b[0m \u001b[0mcolor\u001b[0m\u001b[0;34m=\u001b[0m\u001b[0;34m{\u001b[0m\u001b[0;34m\"reach-target\"\u001b[0m\u001b[0;34m:\u001b[0m \u001b[0;34m\"blue\"\u001b[0m\u001b[0;34m,\u001b[0m \u001b[0;34m\"failure-bt\"\u001b[0m\u001b[0;34m:\u001b[0m \u001b[0;34m\"orange\"\u001b[0m\u001b[0;34m,\u001b[0m \u001b[0;34m\"timeout\"\u001b[0m\u001b[0;34m:\u001b[0m \u001b[0;34m\"red\"\u001b[0m\u001b[0;34m}\u001b[0m\u001b[0;34m,\u001b[0m\u001b[0;34m)\u001b[0m\u001b[0;34m\u001b[0m\u001b[0;34m\u001b[0m\u001b[0m\n\u001b[0m",
      "\u001b[0;31mNameError\u001b[0m: name 'planned_nums' is not defined"
     ]
    }
   ],
   "source": [
    "# axes = planned_nums.plot.bar(subplots=True, figsize=(16, 8), color={\"reach-target\": \"blue\", \"failure-bt\": \"orange\", \"timeout\": \"red\"},)"
   ]
  },
  {
   "cell_type": "markdown",
   "id": "4940959e",
   "metadata": {},
   "source": [
    "## Successes per trial"
   ]
  },
  {
   "cell_type": "code",
   "execution_count": null,
   "id": "7243e6a0",
   "metadata": {},
   "outputs": [],
   "source": [
    "# suc = {\"Planned Success\": [x/8 for x in planned_nums[\"reach-target\"]], \n",
    "#        \"Baseline Success\": [x/8 for x in baseline_nums[\"reach-target\"]]}\n",
    "# suc = pd.DataFrame(suc)\n",
    "# suc\n",
    "\n",
    "trial_run_df.groupby(['trial_id', 'treatment', 'end_state'])['end_state'].count()\n",
    "\n"
   ]
  },
  {
   "cell_type": "code",
   "execution_count": null,
   "id": "9afdeab3",
   "metadata": {},
   "outputs": [],
   "source": [
    "_, ax = plt.subplots()\n",
    "suc[\"Planned Success\"].plot.bar(stacked=True, figsize=(16, 8), ax=ax, color=\"blue\", zorder=0, legend=True)\n",
    "suc[\"Baseline Success\"].plot.bar(stacked=True, figsize=(16, 8), ax=ax, color=\"orange\", zorder=1, legend=True)"
   ]
  },
  {
   "cell_type": "code",
   "execution_count": null,
   "id": "ddb3112b",
   "metadata": {},
   "outputs": [],
   "source": [
    "suc.plot.bar(figsize=(16, 8))"
   ]
  },
  {
   "cell_type": "code",
   "execution_count": null,
   "id": "fcecce8f",
   "metadata": {},
   "outputs": [],
   "source": [
    "time = {\"Planned Average Time\": planned_avg[\"reach-target\"], \n",
    "       \"Baseline Average Time\": baseline_avg[\"reach-target\"]}\n",
    "time = pd.DataFrame(time)\n",
    "time"
   ]
  },
  {
   "cell_type": "markdown",
   "id": "e4c84de4",
   "metadata": {},
   "source": [
    "### Average time to reach target"
   ]
  },
  {
   "cell_type": "code",
   "execution_count": null,
   "id": "786f7452",
   "metadata": {},
   "outputs": [],
   "source": [
    "_, ax = plt.subplots()\n",
    "time[\"Planned Average Time\"].plot.bar(stacked=True, figsize=(16, 8), ax=ax, color=\"blue\", legend=True)\n",
    "time[\"Baseline Average Time\"].plot.bar(stacked=True, figsize=(16, 8), ax=ax, color=\"orange\", legend=True)"
   ]
  },
  {
   "cell_type": "code",
   "execution_count": null,
   "id": "4a31c78f",
   "metadata": {},
   "outputs": [],
   "source": [
    "time.plot.bar(figsize=(16, 8))"
   ]
  },
  {
   "cell_type": "markdown",
   "id": "80da7c28",
   "metadata": {},
   "source": [
    "# Metrics\n",
    "## Metric1 - Success"
   ]
  },
  {
   "cell_type": "code",
   "execution_count": null,
   "id": "99d97ee1",
   "metadata": {},
   "outputs": [],
   "source": [
    "metric1 = {\"Metric 1\": planned_nums[\"reach-target\"]/baseline_nums[\"reach-target\"]}\n",
    "metric1 = pd.DataFrame(metric1)\n",
    "metric1"
   ]
  },
  {
   "cell_type": "code",
   "execution_count": null,
   "id": "62a6c73c",
   "metadata": {},
   "outputs": [],
   "source": [
    "[x for x in metric1[\"Metric 1\"]]"
   ]
  },
  {
   "cell_type": "code",
   "execution_count": null,
   "id": "fbceece5",
   "metadata": {},
   "outputs": [],
   "source": [
    "metric1.plot.bar(figsize=(16, 8))"
   ]
  },
  {
   "cell_type": "markdown",
   "id": "97d5835b",
   "metadata": {},
   "source": [
    "## Metric2 - TTC"
   ]
  },
  {
   "cell_type": "code",
   "execution_count": null,
   "id": "2b8bc597",
   "metadata": {},
   "outputs": [],
   "source": [
    "metric2 = {\"Metric 2\": planned_avg[\"reach-target\"]/baseline_avg[\"reach-target\"]}\n",
    "metric2 = pd.DataFrame(metric2)\n",
    "metric2"
   ]
  },
  {
   "cell_type": "code",
   "execution_count": null,
   "id": "54e37d97",
   "metadata": {},
   "outputs": [],
   "source": [
    "metric2.plot.bar(figsize=(16, 8))"
   ]
  }
 ],
 "metadata": {
  "interpreter": {
   "hash": "aee8b7b246df8f9039afb4144a1f6fd8d2ca17a180786b69acc140d282b71a49"
  },
  "kernelspec": {
   "display_name": "hmrs_analysis_ipy",
   "language": "python",
   "name": "hmrs_analysis_ipy"
  },
  "language_info": {
   "codemirror_mode": {
    "name": "ipython",
    "version": 3
   },
   "file_extension": ".py",
   "mimetype": "text/x-python",
   "name": "python",
   "nbconvert_exporter": "python",
   "pygments_lexer": "ipython3",
   "version": "3.9.5"
  }
 },
 "nbformat": 4,
 "nbformat_minor": 5
}
